{
 "cells": [
  {
   "cell_type": "code",
   "execution_count": 1,
   "metadata": {},
   "outputs": [],
   "source": [
    "%matplotlib inline\n",
    "\n",
    "import pandas as pd\n",
    "import numpy as np\n",
    "import datetime\n",
    "import matplotlib\n",
    "import matplotlib.pyplot as plt\n",
    "from reference import get_file_names\n",
    "import seaborn as sns"
   ]
  },
  {
   "cell_type": "code",
   "execution_count": 6,
   "metadata": {},
   "outputs": [],
   "source": [
    "# get the col reference table\n",
    "df_ref = pd.read_csv('./vidas_data/cross_ref_cols_tabs.csv')"
   ]
  },
  {
   "cell_type": "code",
   "execution_count": 7,
   "metadata": {},
   "outputs": [
    {
     "data": {
      "text/plain": [
       "['wH_DirectTable__S_VMD_FLUSSI_', 'wH_DirectTable_C__S_VMD_FLUSSI_']"
      ]
     },
     "execution_count": 7,
     "metadata": {},
     "output_type": "execute_result"
    }
   ],
   "source": [
    "get_file_names(['IDEHR', 'EHRType', 'ControlloDolore'], df_ref)"
   ]
  },
  {
   "cell_type": "code",
   "execution_count": 8,
   "metadata": {},
   "outputs": [
    {
     "data": {
      "text/plain": [
       "['wH_DirectTable_C_DOLORE_MED_e_INF_VIDAS',\n",
       " 'wH_DirectTable_DOLORE_MED_e_INF_VIDAS']"
      ]
     },
     "execution_count": 8,
     "metadata": {},
     "output_type": "execute_result"
    }
   ],
   "source": [
    "get_file_names(['IDEHR', 'EHRType', 'Sollievo_dolore'], df_ref)"
   ]
  },
  {
   "cell_type": "code",
   "execution_count": 5,
   "metadata": {},
   "outputs": [
    {
     "data": {
      "text/html": [
       "<div>\n",
       "<style scoped>\n",
       "    .dataframe tbody tr th:only-of-type {\n",
       "        vertical-align: middle;\n",
       "    }\n",
       "\n",
       "    .dataframe tbody tr th {\n",
       "        vertical-align: top;\n",
       "    }\n",
       "\n",
       "    .dataframe thead th {\n",
       "        text-align: right;\n",
       "    }\n",
       "</style>\n",
       "<table border=\"1\" class=\"dataframe\">\n",
       "  <thead>\n",
       "    <tr style=\"text-align: right;\">\n",
       "      <th></th>\n",
       "      <th>IDEHR</th>\n",
       "      <th>EOH</th>\n",
       "      <th>EHRType</th>\n",
       "      <th>SOH</th>\n",
       "      <th>survival_time_days</th>\n",
       "      <th>Diagnosis</th>\n",
       "      <th>Diag_Ref</th>\n",
       "    </tr>\n",
       "  </thead>\n",
       "  <tbody>\n",
       "    <tr>\n",
       "      <th>0</th>\n",
       "      <td>3263</td>\n",
       "      <td>2015-10-02 07:50:00.000</td>\n",
       "      <td>AMB</td>\n",
       "      <td>2015-09-21 10:00:18.743</td>\n",
       "      <td>10.0</td>\n",
       "      <td>Liver-Biliary</td>\n",
       "      <td>1550</td>\n",
       "    </tr>\n",
       "    <tr>\n",
       "      <th>1</th>\n",
       "      <td>1414</td>\n",
       "      <td>2015-10-05 11:50:00.000</td>\n",
       "      <td>EHR</td>\n",
       "      <td>2015-10-02 15:45:06.800</td>\n",
       "      <td>2.0</td>\n",
       "      <td>Myeloid Leukemia</td>\n",
       "      <td>28983</td>\n",
       "    </tr>\n",
       "    <tr>\n",
       "      <th>2</th>\n",
       "      <td>3394</td>\n",
       "      <td>2015-10-06 03:25:00.000</td>\n",
       "      <td>AMB</td>\n",
       "      <td>2015-09-25 18:17:56.940</td>\n",
       "      <td>10.0</td>\n",
       "      <td>Lung</td>\n",
       "      <td>1629</td>\n",
       "    </tr>\n",
       "    <tr>\n",
       "      <th>3</th>\n",
       "      <td>3417</td>\n",
       "      <td>2015-10-05 15:00:00.000</td>\n",
       "      <td>AMB</td>\n",
       "      <td>2015-09-28 17:26:59.413</td>\n",
       "      <td>6.0</td>\n",
       "      <td>Skin</td>\n",
       "      <td>1739</td>\n",
       "    </tr>\n",
       "    <tr>\n",
       "      <th>4</th>\n",
       "      <td>2977</td>\n",
       "      <td>2015-10-06 06:00:00.000</td>\n",
       "      <td>AMB</td>\n",
       "      <td>2015-09-08 11:26:31.850</td>\n",
       "      <td>27.0</td>\n",
       "      <td>Palliative (Non-Malignant)</td>\n",
       "      <td>1</td>\n",
       "    </tr>\n",
       "  </tbody>\n",
       "</table>\n",
       "</div>"
      ],
      "text/plain": [
       "   IDEHR                      EOH EHRType                      SOH  \\\n",
       "0   3263  2015-10-02 07:50:00.000     AMB  2015-09-21 10:00:18.743   \n",
       "1   1414  2015-10-05 11:50:00.000     EHR  2015-10-02 15:45:06.800   \n",
       "2   3394  2015-10-06 03:25:00.000     AMB  2015-09-25 18:17:56.940   \n",
       "3   3417  2015-10-05 15:00:00.000     AMB  2015-09-28 17:26:59.413   \n",
       "4   2977  2015-10-06 06:00:00.000     AMB  2015-09-08 11:26:31.850   \n",
       "\n",
       "   survival_time_days                   Diagnosis  Diag_Ref  \n",
       "0                10.0               Liver-Biliary      1550  \n",
       "1                 2.0            Myeloid Leukemia     28983  \n",
       "2                10.0                        Lung      1629  \n",
       "3                 6.0                        Skin      1739  \n",
       "4                27.0  Palliative (Non-Malignant)         1  "
      ]
     },
     "execution_count": 5,
     "metadata": {},
     "output_type": "execute_result"
    }
   ],
   "source": [
    "df_referral = pd.read_csv('./vidas_data/survival_time.csv')\n",
    "df_referral.head()"
   ]
  },
  {
   "cell_type": "code",
   "execution_count": null,
   "metadata": {},
   "outputs": [],
   "source": []
  }
 ],
 "metadata": {
  "kernelspec": {
   "display_name": "Python 3",
   "language": "python",
   "name": "python3"
  },
  "language_info": {
   "codemirror_mode": {
    "name": "ipython",
    "version": 3
   },
   "file_extension": ".py",
   "mimetype": "text/x-python",
   "name": "python",
   "nbconvert_exporter": "python",
   "pygments_lexer": "ipython3",
   "version": "3.8.3"
  }
 },
 "nbformat": 4,
 "nbformat_minor": 4
}
