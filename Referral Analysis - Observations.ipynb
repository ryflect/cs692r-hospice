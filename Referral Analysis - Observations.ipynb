{
 "cells": [
  {
   "cell_type": "code",
   "execution_count": 1,
   "metadata": {},
   "outputs": [],
   "source": [
    "%matplotlib inline\n",
    "\n",
    "import pandas as pd\n",
    "import numpy as np\n",
    "import datetime\n",
    "import matplotlib\n",
    "import matplotlib.pyplot as plt\n",
    "from reference import get_file_names, get_histplot\n",
    "import seaborn as sns"
   ]
  },
  {
   "cell_type": "code",
   "execution_count": 2,
   "metadata": {},
   "outputs": [],
   "source": [
    "# get the col reference table\n",
    "df_ref = pd.read_csv('./vidas_data/cross_ref_cols_tabs.csv')"
   ]
  },
  {
   "cell_type": "code",
   "execution_count": 3,
   "metadata": {},
   "outputs": [
    {
     "name": "stdout",
     "output_type": "stream",
     "text": [
      "['wH_DirectTable_C_VISITA_MED_VIDAS', 'wH_DirectTable_VISITA_MED_VIDAS']\n",
      "['wH_DirectTable_C_VISITA_OSS_VIDAS', 'wH_DirectTable_VISITA_OSS_VIDAS']\n"
     ]
    }
   ],
   "source": [
    "print(get_file_names(['IDEHR', 'EHRType', 'chk_stato_danimo'], df_ref))    # mood\n",
    "print(get_file_names(['IDEHR', 'EHRType', 'stato_danimo'], df_ref))    # mood"
   ]
  },
  {
   "cell_type": "code",
   "execution_count": 4,
   "metadata": {},
   "outputs": [
    {
     "name": "stdout",
     "output_type": "stream",
     "text": [
      "['wH_DirectTable_C_DOLORE_MED_e_INF_VIDAS', 'wH_DirectTable_DOLORE_MED_e_INF_VIDAS']\n"
     ]
    }
   ],
   "source": [
    "# pain relief\n",
    "print(get_file_names(['IDEHR', 'EHRType', 'Sollievo_dolore'], df_ref))"
   ]
  },
  {
   "cell_type": "code",
   "execution_count": 5,
   "metadata": {},
   "outputs": [
    {
     "name": "stdout",
     "output_type": "stream",
     "text": [
      "(5563, 7)\n"
     ]
    },
    {
     "data": {
      "text/html": [
       "<div>\n",
       "<style scoped>\n",
       "    .dataframe tbody tr th:only-of-type {\n",
       "        vertical-align: middle;\n",
       "    }\n",
       "\n",
       "    .dataframe tbody tr th {\n",
       "        vertical-align: top;\n",
       "    }\n",
       "\n",
       "    .dataframe thead th {\n",
       "        text-align: right;\n",
       "    }\n",
       "</style>\n",
       "<table border=\"1\" class=\"dataframe\">\n",
       "  <thead>\n",
       "    <tr style=\"text-align: right;\">\n",
       "      <th></th>\n",
       "      <th>IDEHR</th>\n",
       "      <th>EOH</th>\n",
       "      <th>EHRType</th>\n",
       "      <th>SOH</th>\n",
       "      <th>survival_time_days</th>\n",
       "      <th>Diagnosis</th>\n",
       "      <th>Diag_Ref</th>\n",
       "    </tr>\n",
       "  </thead>\n",
       "  <tbody>\n",
       "    <tr>\n",
       "      <th>0</th>\n",
       "      <td>3263</td>\n",
       "      <td>2015-10-02 07:50:00.000</td>\n",
       "      <td>AMB</td>\n",
       "      <td>2015-09-21 10:00:18.743</td>\n",
       "      <td>10.0</td>\n",
       "      <td>Liver-Biliary</td>\n",
       "      <td>1550</td>\n",
       "    </tr>\n",
       "    <tr>\n",
       "      <th>1</th>\n",
       "      <td>1414</td>\n",
       "      <td>2015-10-05 11:50:00.000</td>\n",
       "      <td>EHR</td>\n",
       "      <td>2015-10-02 15:45:06.800</td>\n",
       "      <td>2.0</td>\n",
       "      <td>Myeloid Leukemia</td>\n",
       "      <td>28983</td>\n",
       "    </tr>\n",
       "    <tr>\n",
       "      <th>2</th>\n",
       "      <td>3394</td>\n",
       "      <td>2015-10-06 03:25:00.000</td>\n",
       "      <td>AMB</td>\n",
       "      <td>2015-09-25 18:17:56.940</td>\n",
       "      <td>10.0</td>\n",
       "      <td>Lung</td>\n",
       "      <td>1629</td>\n",
       "    </tr>\n",
       "    <tr>\n",
       "      <th>3</th>\n",
       "      <td>3417</td>\n",
       "      <td>2015-10-05 15:00:00.000</td>\n",
       "      <td>AMB</td>\n",
       "      <td>2015-09-28 17:26:59.413</td>\n",
       "      <td>6.0</td>\n",
       "      <td>Skin</td>\n",
       "      <td>1739</td>\n",
       "    </tr>\n",
       "    <tr>\n",
       "      <th>4</th>\n",
       "      <td>2977</td>\n",
       "      <td>2015-10-06 06:00:00.000</td>\n",
       "      <td>AMB</td>\n",
       "      <td>2015-09-08 11:26:31.850</td>\n",
       "      <td>27.0</td>\n",
       "      <td>Palliative (Non-Malignant)</td>\n",
       "      <td>1</td>\n",
       "    </tr>\n",
       "  </tbody>\n",
       "</table>\n",
       "</div>"
      ],
      "text/plain": [
       "   IDEHR                      EOH EHRType                      SOH  \\\n",
       "0   3263  2015-10-02 07:50:00.000     AMB  2015-09-21 10:00:18.743   \n",
       "1   1414  2015-10-05 11:50:00.000     EHR  2015-10-02 15:45:06.800   \n",
       "2   3394  2015-10-06 03:25:00.000     AMB  2015-09-25 18:17:56.940   \n",
       "3   3417  2015-10-05 15:00:00.000     AMB  2015-09-28 17:26:59.413   \n",
       "4   2977  2015-10-06 06:00:00.000     AMB  2015-09-08 11:26:31.850   \n",
       "\n",
       "   survival_time_days                   Diagnosis  Diag_Ref  \n",
       "0                10.0               Liver-Biliary      1550  \n",
       "1                 2.0            Myeloid Leukemia     28983  \n",
       "2                10.0                        Lung      1629  \n",
       "3                 6.0                        Skin      1739  \n",
       "4                27.0  Palliative (Non-Malignant)         1  "
      ]
     },
     "execution_count": 5,
     "metadata": {},
     "output_type": "execute_result"
    }
   ],
   "source": [
    "df_referral = pd.read_csv('./vidas_data/survival_time.csv')\n",
    "print(df_referral.shape)\n",
    "df_referral.head()"
   ]
  },
  {
   "cell_type": "code",
   "execution_count": 6,
   "metadata": {},
   "outputs": [
    {
     "name": "stderr",
     "output_type": "stream",
     "text": [
      "C:\\Users\\prate\\anaconda3\\lib\\site-packages\\IPython\\core\\interactiveshell.py:3145: DtypeWarning: Columns (16,17,18,19,20,21,22,50,97,98,100,116,142) have mixed types.Specify dtype option on import or set low_memory=False.\n",
      "  has_raised = await self.run_ast_nodes(code_ast.body, cell_name,\n"
     ]
    },
    {
     "data": {
      "text/plain": [
       "(57242, 175)"
      ]
     },
     "execution_count": 6,
     "metadata": {},
     "output_type": "execute_result"
    }
   ],
   "source": [
    "df_ps = pd.read_csv('./vidas_data/wH_DirectTable_VISITA_MED_VIDAS.csv')\n",
    "df_obs = pd.merge(df_referral, df_ps, on=['IDEHR', 'EHRType'])\n",
    "df_obs.shape"
   ]
  },
  {
   "cell_type": "code",
   "execution_count": 7,
   "metadata": {},
   "outputs": [
    {
     "data": {
      "text/plain": [
       "<Figure size 1080x576 with 0 Axes>"
      ]
     },
     "metadata": {},
     "output_type": "display_data"
    },
    {
     "data": {
      "image/png": "[encoded data removed]",
      "text/plain": [
       "<Figure size 1080x576 with 1 Axes>"
      ]
     },
     "metadata": {
      "needs_background": "light"
     },
     "output_type": "display_data"
    }
   ],
   "source": [
    "# plot the distribution of entries \n",
    "get_histplot('chk_stato_danimo', df_obs, 'Mood')"
   ]
  },
  {
   "cell_type": "code",
   "execution_count": 8,
   "metadata": {},
   "outputs": [
    {
     "data": {
      "text/plain": [
       "6762     100\n",
       "17895     94\n",
       "15430     90\n",
       "10253     86\n",
       "13985     78\n",
       "        ... \n",
       "3690       1\n",
       "2815       1\n",
       "7217       1\n",
       "23593      1\n",
       "17219      1\n",
       "Name: IDEHR, Length: 3399, dtype: int64"
      ]
     },
     "execution_count": 8,
     "metadata": {},
     "output_type": "execute_result"
    }
   ],
   "source": [
    "df_obs[['IDEHR', 'chk_stato_danimo']].dropna().IDEHR.value_counts()"
   ]
  },
  {
   "cell_type": "code",
   "execution_count": 9,
   "metadata": {
    "scrolled": true
   },
   "outputs": [
    {
     "name": "stdout",
     "output_type": "stream",
     "text": [
      "       IDEHR                                   chk_stato_danimo\n",
      "53644   6762                                demoralizzazione#03\n",
      "53645   6762                                demoralizzazione#03\n",
      "53648   6762                                    irritabilità#05\n",
      "53649   6762                                demoralizzazione#03\n",
      "53650   6762                       demoralizzazione#03;paura#08\n",
      "53651   6762                       demoralizzazione#03;paura#08\n",
      "53652   6762                       demoralizzazione#03;paura#08\n",
      "53653   6762                                           paura#08\n",
      "53654   6762                                demoralizzazione#03\n",
      "53655   6762                                demoralizzazione#03\n",
      "53656   6762                                demoralizzazione#03\n",
      "53657   6762                                demoralizzazione#03\n",
      "53658   6762                                demoralizzazione#03\n",
      "53659   6762                      apatia#00;demoralizzazione#03\n",
      "53660   6762                      apatia#00;demoralizzazione#03\n",
      "53661   6762                      apatia#00;demoralizzazione#03\n",
      "53662   6762           demoralizzazione#03;senso d'impotenza#10\n",
      "53663   6762           demoralizzazione#03;senso d'impotenza#10\n",
      "53664   6762           demoralizzazione#03;senso d'impotenza#10\n",
      "53665   6762  demoralizzazione#03;paura#08;senso d'impotenza#10\n",
      "53666   6762  demoralizzazione#03;paura#08;senso d'impotenza#10\n",
      "53667   6762  demoralizzazione#03;paura#08;senso d'impotenza#10\n",
      "53671   6762                                           paura#08\n",
      "53672   6762                       demoralizzazione#03;paura#08\n",
      "53673   6762                       demoralizzazione#03;paura#08\n",
      "53685   6762                                demoralizzazione#03\n",
      "53686   6762                                demoralizzazione#03\n",
      "53687   6762                                demoralizzazione#03\n",
      "53690   6762                                           paura#08\n",
      "53691   6762                                           paura#08\n",
      "53692   6762                                           paura#08\n",
      "53701   6762                                demoralizzazione#03\n",
      "53704   6762                                demoralizzazione#03\n",
      "53708   6762                                           paura#08\n",
      "53718   6762                                           paura#08\n",
      "53722   6762                                       tristezza#11\n",
      "53723   6762                                demoralizzazione#03\n",
      "53724   6762                                demoralizzazione#03\n",
      "53725   6762                                demoralizzazione#03\n",
      "53726   6762                                demoralizzazione#03\n",
      "53727   6762                                demoralizzazione#03\n",
      "53728   6762                                demoralizzazione#03\n",
      "53729   6762                                demoralizzazione#03\n",
      "53730   6762                                demoralizzazione#03\n",
      "53731   6762                                demoralizzazione#03\n",
      "53732   6762                                demoralizzazione#03\n",
      "53733   6762                                demoralizzazione#03\n",
      "53734   6762                                demoralizzazione#03\n",
      "53735   6762                                demoralizzazione#03\n",
      "53736   6762                                demoralizzazione#03\n",
      "53737   6762                                demoralizzazione#03\n",
      "53738   6762                       demoralizzazione#03;paura#08\n",
      "53739   6762                       demoralizzazione#03;paura#08\n",
      "53740   6762                       demoralizzazione#03;paura#08\n",
      "53741   6762                       demoralizzazione#03;paura#08\n",
      "53742   6762                                demoralizzazione#03\n",
      "53743   6762                                demoralizzazione#03\n",
      "53744   6762                                demoralizzazione#03\n",
      "53745   6762                   demoralizzazione#03;tristezza#11\n",
      "53746   6762                                demoralizzazione#03\n",
      "53747   6762                       demoralizzazione#03;paura#08\n",
      "53748   6762                                demoralizzazione#03\n",
      "53749   6762                                demoralizzazione#03\n",
      "53750   6762                                demoralizzazione#03\n",
      "53751   6762                                demoralizzazione#03\n",
      "53752   6762                                demoralizzazione#03\n",
      "53753   6762                   demoralizzazione#03;tristezza#11\n",
      "53754   6762                   demoralizzazione#03;tristezza#11\n",
      "53755   6762                   demoralizzazione#03;tristezza#11\n",
      "53756   6762                                demoralizzazione#03\n",
      "53757   6762                                demoralizzazione#03\n",
      "53758   6762                                demoralizzazione#03\n",
      "53759   6762                                demoralizzazione#03\n",
      "53760   6762                                demoralizzazione#03\n",
      "53761   6762                                demoralizzazione#03\n",
      "53762   6762                                demoralizzazione#03\n",
      "53763   6762                                demoralizzazione#03\n",
      "53764   6762                                demoralizzazione#03\n",
      "53765   6762                                demoralizzazione#03\n",
      "53766   6762                                demoralizzazione#03\n",
      "53767   6762                                demoralizzazione#03\n",
      "53768   6762                                demoralizzazione#03\n",
      "53776   6762                                demoralizzazione#03\n",
      "53777   6762                                demoralizzazione#03\n",
      "53783   6762                                           paura#08\n",
      "53784   6762                                           paura#08\n",
      "53793   6762                  senso d'impotenza#10;tristezza#11\n",
      "53794   6762                  senso d'impotenza#10;tristezza#11\n",
      "53795   6762                               senso d'impotenza#10\n",
      "53796   6762                               senso d'impotenza#10\n",
      "53797   6762           demoralizzazione#03;senso d'impotenza#10\n",
      "53810   6762                   demoralizzazione#03;tristezza#11\n",
      "53815   6762                                           paura#08\n",
      "53820   6762                                    irritabilità#05\n",
      "53822   6762                   demoralizzazione#03;tristezza#11\n",
      "53823   6762                   demoralizzazione#03;tristezza#11\n",
      "53833   6762                                demoralizzazione#03\n",
      "53834   6762                                demoralizzazione#03\n",
      "53835   6762                                demoralizzazione#03\n",
      "53836   6762                                demoralizzazione#03\n"
     ]
    }
   ],
   "source": [
    "with pd.option_context(\"display.max_rows\", 1000):\n",
    "    print(df_obs[['IDEHR', 'chk_stato_danimo']].dropna().loc[df_obs['IDEHR'] == 6762])"
   ]
  },
  {
   "cell_type": "code",
   "execution_count": null,
   "metadata": {},
   "outputs": [],
   "source": []
  }
 ],
 "metadata": {
  "kernelspec": {
   "display_name": "Python 3",
   "language": "python",
   "name": "python3"
  },
  "language_info": {
   "codemirror_mode": {
    "name": "ipython",
    "version": 3
   },
   "file_extension": ".py",
   "mimetype": "text/x-python",
   "name": "python",
   "nbconvert_exporter": "python",
   "pygments_lexer": "ipython3",
   "version": "3.8.5"
  }
 },
 "nbformat": 4,
 "nbformat_minor": 4
}
