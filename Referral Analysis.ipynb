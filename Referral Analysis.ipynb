{
 "cells": [
  {
   "cell_type": "code",
   "execution_count": 65,
   "metadata": {},
   "outputs": [],
   "source": [
    "%matplotlib inline\n",
    "\n",
    "import pandas as pd\n",
    "import numpy as np\n",
    "import datetime\n",
    "import matplotlib\n",
    "import matplotlib.pyplot as plt\n",
    "from reference import get_file_names"
   ]
  },
  {
   "cell_type": "code",
   "execution_count": 66,
   "metadata": {},
   "outputs": [],
   "source": [
    "# get the col reference table\n",
    "df_ref = pd.read_csv('./vidas_data/cross_ref_cols_tabs.csv')\n",
    "# df_ref.head()"
   ]
  },
  {
   "cell_type": "code",
   "execution_count": 67,
   "metadata": {},
   "outputs": [
    {
     "data": {
      "text/plain": [
       "['wH_DirectTable_Decesso', 'wH_DirectTable_C_Decesso']"
      ]
     },
     "execution_count": 67,
     "metadata": {},
     "output_type": "execute_result"
    }
   ],
   "source": [
    "# get the data frame giving the list of IDEHRs who have passed\n",
    "get_file_names(['IDEHR', 'EHRType', 'IDDecesso'], df_ref)"
   ]
  },
  {
   "cell_type": "code",
   "execution_count": 68,
   "metadata": {
    "scrolled": true
   },
   "outputs": [
    {
     "data": {
      "text/plain": [
       "['wH_DirectTable_VISITA_OSS_VIDAS',\n",
       " 'wH_Stats_EHR_DT_PrintLog',\n",
       " 'wH_DirectTable_C_VISITA_FKT_VIDAS',\n",
       " 'wH_DirectTable_DIAGNOSI_CROSSOU',\n",
       " 'wH_DirectTable_Scala_di_Barthel',\n",
       " 'wH_DirectTable_ACCETTAZIONE_PERCORS',\n",
       " 'wH_DirectTable_C_Scala_di_Barthel',\n",
       " 'wH_DirectTable_R_KPS',\n",
       " 'wH_DirectTable_PI_DOM',\n",
       " 'wH_DirectTable_C_Scala_Dolore_PAINAD',\n",
       " 'wH_DirectTable_C_LESIONE_OSS_VIDAS',\n",
       " 'wH_DirectTable_C_DOLORE_MED_e_INF_VIDAS',\n",
       " 'wH_DirectTable_CR_RISCHIO_LESIONI',\n",
       " 'wH_DirectTable_VISITA_FKT_VIDAS',\n",
       " 'wH_DirectTable_C_PAI_VIDAS',\n",
       " 'wH_DirectTable_PI',\n",
       " 'wH_DirectTable_VISITA_MED_VIDAS',\n",
       " 'wH_DirectTable_PAI_VIDAS',\n",
       " 'wH_DirectTable_R_SCALE_BRADEN',\n",
       " 'wH_Conf_ModuleUpdateOperation',\n",
       " 'wH_DirectTable_C_ACCETTAZIONE_PERCORS',\n",
       " 'wH_DirectTable_C_COLLOQUIO_MED',\n",
       " 'wH_DirectTable_Pers_Riferimento',\n",
       " 'wH_DirectTable_Referto_Offline',\n",
       " 'wH_DirectTable_C_GESTIONE_AUSILI',\n",
       " 'wH_DirectTable_C_DOLORE_OSS_VIDAS',\n",
       " 'wH_DirectTable_COLLOQUIO_MED',\n",
       " 'wH_DirectTable_C_Pers_Riferimento',\n",
       " 'wH_DirectTable_C_FOLLW_UP_ASS',\n",
       " 'wH_DirectTable_C_ASSOC_ON_FUNEBRI',\n",
       " 'wH_DirectTable_C_Scala_di_Bernardini',\n",
       " 'wH_DirectTable_C_Telefonata',\n",
       " 'wH_DirectTable_C_CAM',\n",
       " 'wH_DirectTable_LESIONI_MED_e_INF_VI',\n",
       " 'wH_DirectTable_C_VISITA_OSS_VIDAS',\n",
       " 'wH_DirectTable_Valutazione_famiglia',\n",
       " 'wH_DirectTable_R_RISCHIO_LESIONI',\n",
       " 'wH_DirectTable_Scala_AT',\n",
       " 'wH_DirectTable_Studio_NEVI_Criteri_',\n",
       " 'wH_DirectTable_C_Informazioni_SS',\n",
       " 'wH_DirectTable_C_VISITA_INF_VIDAS',\n",
       " 'wH_DirectTable_C_VISITA_PSI_VIDAS',\n",
       " 'wH_DirectTable_C_Scala_ESAS',\n",
       " 'wH_DirectTable_C_LESIONI_MED_e_INF_VI',\n",
       " 'wH_DirectTable_Decesso',\n",
       " 'wH_DirectTable_Telefonata',\n",
       " 'wH_DirectTable_CAM',\n",
       " 'wH_DirectTable_C_DIAGNOSI_CROSSOU',\n",
       " 'wH_DirectTable_TERAPIE_OUTPAT_VIDAS',\n",
       " 'wH_DirectTable_ANAMNESI_MED',\n",
       " 'wH_DirectTable_C_DIAGNOSI_ICD',\n",
       " 'wH_DirectTable_GESTIONE_AUSILI',\n",
       " 'wH_DirectTable_C_Studio_NEVI_Criteri_',\n",
       " 'wH_DirectTable_VISITA_INF_VIDAS',\n",
       " 'wH_DirectTable_DOLORE_OSS_VIDAS',\n",
       " 'wH_DirectTable_C_Scala_AT',\n",
       " 'wH_DirectTable_ANAMNESI_SOCIALE',\n",
       " 'wH_DirectTable__S_VMD_FLUSSI_',\n",
       " 'wH_DirectTable_C_Studio_NEVI_',\n",
       " 'wH_DirectTable_DAT',\n",
       " 'wH_DirectTable_C_ANAMNESI_SOCIALE',\n",
       " 'wH_DirectTable_Studio_NEVI_',\n",
       " 'wH_DirectTable_SPORTELLO_DAT',\n",
       " 'wH_DirectTable_C_TERAPIE_OUTPAT_VIDAS',\n",
       " 'wH_DirectTable_C_ANAMNESI_INF',\n",
       " 'wH_DirectTable_C_VISITA_MED_VIDAS',\n",
       " 'wH_DirectTable_Scala_di_Bernardini',\n",
       " 'wH_DirectTable_ASSOC_ON_FUNEBRI',\n",
       " 'wH_DirectTable_VISITA_PSI_VIDAS',\n",
       " 'wH_DirectTable_COLLOQUIO_OSS',\n",
       " 'wH_DirectTable_FOLLW_UP_ASS',\n",
       " 'wH_DirectTable_Dati_Integrativi_SDO',\n",
       " 'wH_DirectTable_XX_VISITA_INF_VIDAS',\n",
       " 'wH_DirectTable_CONSULENZA_COVID19',\n",
       " 'wH_DirectTable_C_COLLOQUIO_OSS',\n",
       " 'wH_DirectTable_Scala_Dolore_PAINAD',\n",
       " 'wH_DirectTable_BCP_generale',\n",
       " 'wH_DirectTable_CR_SCALE_PPI',\n",
       " 'wH_DirectTable_C_DAT',\n",
       " 'wH_DirectTable_C_ANAMNESI_MED',\n",
       " 'wH_DirectTable_DOLORE_MED_e_INF_VIDAS',\n",
       " 'wH_DirectTable_R_SCALE_PPI',\n",
       " 'wH_DirectTable_C__S_VMD_FLUSSI_',\n",
       " 'wH_DirectTable_DIAGNOSI_ICD',\n",
       " 'wH_DirectTable_C_SPORTELLO_DAT',\n",
       " 'wH_DirectTable_ANAMNESI_INF',\n",
       " 'wH_DirectTable_BCP_specialistica',\n",
       " 'wH_DirectTable_Scala_ESAS',\n",
       " 'wH_DirectTable_C_BCP_specialistica',\n",
       " 'wH_DirectTable_Informazioni_SS',\n",
       " 'wH_DirectTable_C_Dati_Integrativi_SDO',\n",
       " 'wH_DirectTable_C_Valutazione_famiglia',\n",
       " 'wH_DirectTable_LESIONE_OSS_VIDAS',\n",
       " 'wH_DirectTable_C_Decesso',\n",
       " 'wH_DirectTable_C_PI',\n",
       " 'wH_Stats_CC_EHR_OpenLog']"
      ]
     },
     "execution_count": 68,
     "metadata": {},
     "output_type": "execute_result"
    }
   ],
   "source": [
    "# get the data frame giving the list of IDEHRs with the start date of hospitalization\n",
    "get_file_names(['IDEHR', 'EHRType', 'TimeStamp_Insert'], df_ref)"
   ]
  },
  {
   "cell_type": "code",
   "execution_count": 69,
   "metadata": {},
   "outputs": [
    {
     "data": {
      "text/plain": [
       "['wH_DirectTable_DIAGNOSI_ICD', 'wH_DirectTable_C_DIAGNOSI_ICD']"
      ]
     },
     "execution_count": 69,
     "metadata": {},
     "output_type": "execute_result"
    }
   ],
   "source": [
    "# get the data frame giving the list of IDEHRs with the diagnosis\n",
    "get_file_names(['IDEHR', 'EHRType', 'IDDIAGNOSI_ICD'], df_ref)"
   ]
  },
  {
   "cell_type": "code",
   "execution_count": 70,
   "metadata": {},
   "outputs": [
    {
     "name": "stdout",
     "output_type": "stream",
     "text": [
      "(6056, 3)\n"
     ]
    },
    {
     "data": {
      "text/html": [
       "<div>\n",
       "<style scoped>\n",
       "    .dataframe tbody tr th:only-of-type {\n",
       "        vertical-align: middle;\n",
       "    }\n",
       "\n",
       "    .dataframe tbody tr th {\n",
       "        vertical-align: top;\n",
       "    }\n",
       "\n",
       "    .dataframe thead th {\n",
       "        text-align: right;\n",
       "    }\n",
       "</style>\n",
       "<table border=\"1\" class=\"dataframe\">\n",
       "  <thead>\n",
       "    <tr style=\"text-align: right;\">\n",
       "      <th></th>\n",
       "      <th>IDEHR</th>\n",
       "      <th>Data</th>\n",
       "      <th>EHRType</th>\n",
       "    </tr>\n",
       "  </thead>\n",
       "  <tbody>\n",
       "    <tr>\n",
       "      <th>0</th>\n",
       "      <td>4</td>\n",
       "      <td>2015-01-09 16:15:00</td>\n",
       "      <td>EHR</td>\n",
       "    </tr>\n",
       "    <tr>\n",
       "      <th>1</th>\n",
       "      <td>1022</td>\n",
       "      <td>2015-01-11 00:15:00</td>\n",
       "      <td>EHR</td>\n",
       "    </tr>\n",
       "    <tr>\n",
       "      <th>2</th>\n",
       "      <td>16</td>\n",
       "      <td>2015-01-15 01:45:00</td>\n",
       "      <td>EHR</td>\n",
       "    </tr>\n",
       "    <tr>\n",
       "      <th>3</th>\n",
       "      <td>1025</td>\n",
       "      <td>2015-01-15 06:44:00</td>\n",
       "      <td>EHR</td>\n",
       "    </tr>\n",
       "    <tr>\n",
       "      <th>4</th>\n",
       "      <td>6</td>\n",
       "      <td>2015-01-20 14:50:00</td>\n",
       "      <td>EHR</td>\n",
       "    </tr>\n",
       "  </tbody>\n",
       "</table>\n",
       "</div>"
      ],
      "text/plain": [
       "   IDEHR                Data EHRType\n",
       "0      4 2015-01-09 16:15:00     EHR\n",
       "1   1022 2015-01-11 00:15:00     EHR\n",
       "2     16 2015-01-15 01:45:00     EHR\n",
       "3   1025 2015-01-15 06:44:00     EHR\n",
       "4      6 2015-01-20 14:50:00     EHR"
      ]
     },
     "execution_count": 70,
     "metadata": {},
     "output_type": "execute_result"
    }
   ],
   "source": [
    "# data frame with deathID\n",
    "df_death = pd.read_csv('./vidas_data/wH_DirectTable_Decesso.csv', parse_dates=['Data'])\n",
    "df_death = df_death[['IDEHR', 'Data', 'EHRType']].drop_duplicates(subset=['IDEHR', 'EHRType'], keep='first')\n",
    "print(df_death.shape)\n",
    "df_death.head()"
   ]
  },
  {
   "cell_type": "code",
   "execution_count": 71,
   "metadata": {},
   "outputs": [
    {
     "data": {
      "text/plain": [
       "IDEHR       0\n",
       "Data       54\n",
       "EHRType     0\n",
       "dtype: int64"
      ]
     },
     "execution_count": 71,
     "metadata": {},
     "output_type": "execute_result"
    }
   ],
   "source": [
    "# check NaNs\n",
    "df_death.isna().sum()"
   ]
  },
  {
   "cell_type": "code",
   "execution_count": 72,
   "metadata": {},
   "outputs": [
    {
     "name": "stdout",
     "output_type": "stream",
     "text": [
      "(20671, 3)\n",
      "(20671, 3)\n"
     ]
    },
    {
     "data": {
      "text/html": [
       "<div>\n",
       "<style scoped>\n",
       "    .dataframe tbody tr th:only-of-type {\n",
       "        vertical-align: middle;\n",
       "    }\n",
       "\n",
       "    .dataframe tbody tr th {\n",
       "        vertical-align: top;\n",
       "    }\n",
       "\n",
       "    .dataframe thead th {\n",
       "        text-align: right;\n",
       "    }\n",
       "</style>\n",
       "<table border=\"1\" class=\"dataframe\">\n",
       "  <thead>\n",
       "    <tr style=\"text-align: right;\">\n",
       "      <th></th>\n",
       "      <th>IDEHR</th>\n",
       "      <th>EHRType</th>\n",
       "      <th>TimeStamp_Insert</th>\n",
       "    </tr>\n",
       "  </thead>\n",
       "  <tbody>\n",
       "    <tr>\n",
       "      <th>0</th>\n",
       "      <td>10</td>\n",
       "      <td>AMB</td>\n",
       "      <td>2015-01-13 15:04:16.330</td>\n",
       "    </tr>\n",
       "    <tr>\n",
       "      <th>1</th>\n",
       "      <td>13</td>\n",
       "      <td>AMB</td>\n",
       "      <td>2015-01-13 15:07:17.303</td>\n",
       "    </tr>\n",
       "    <tr>\n",
       "      <th>2</th>\n",
       "      <td>19</td>\n",
       "      <td>AMB</td>\n",
       "      <td>2015-01-13 11:48:38.683</td>\n",
       "    </tr>\n",
       "    <tr>\n",
       "      <th>3</th>\n",
       "      <td>22</td>\n",
       "      <td>AMB</td>\n",
       "      <td>2015-01-05 11:53:12.503</td>\n",
       "    </tr>\n",
       "    <tr>\n",
       "      <th>4</th>\n",
       "      <td>25</td>\n",
       "      <td>AMB</td>\n",
       "      <td>2015-01-13 11:51:36.037</td>\n",
       "    </tr>\n",
       "  </tbody>\n",
       "</table>\n",
       "</div>"
      ],
      "text/plain": [
       "   IDEHR EHRType        TimeStamp_Insert\n",
       "0     10     AMB 2015-01-13 15:04:16.330\n",
       "1     13     AMB 2015-01-13 15:07:17.303\n",
       "2     19     AMB 2015-01-13 11:48:38.683\n",
       "3     22     AMB 2015-01-05 11:53:12.503\n",
       "4     25     AMB 2015-01-13 11:51:36.037"
      ]
     },
     "execution_count": 72,
     "metadata": {},
     "output_type": "execute_result"
    }
   ],
   "source": [
    "# data frame with start of hospitalization\n",
    "# df_soh = pd.read_csv('./vidas_data/wH_DigitalSign_DigSigDoc.csv', parse_dates=['TimeStamp_Insert'])\n",
    "# using the earliest timestamp for an IDEHR+EHRType from all tables\n",
    "df_soh = pd.read_csv('./vidas_data/start_time.csv', parse_dates=['TimeStamp_Insert'])\n",
    "print(df_soh.shape)\n",
    "df_soh = df_soh[['IDEHR', 'EHRType', 'TimeStamp_Insert']].drop_duplicates(subset=['IDEHR', 'EHRType'], keep='first')\n",
    "print(df_soh.shape)\n",
    "df_soh.head()"
   ]
  },
  {
   "cell_type": "code",
   "execution_count": 73,
   "metadata": {},
   "outputs": [
    {
     "data": {
      "text/plain": [
       "IDEHR               0\n",
       "EHRType             0\n",
       "TimeStamp_Insert    0\n",
       "dtype: int64"
      ]
     },
     "execution_count": 73,
     "metadata": {},
     "output_type": "execute_result"
    }
   ],
   "source": [
    "# check NaNs\n",
    "df_soh.isna().sum()"
   ]
  },
  {
   "cell_type": "code",
   "execution_count": 74,
   "metadata": {},
   "outputs": [
    {
     "name": "stdout",
     "output_type": "stream",
     "text": [
      "(8388, 3)\n"
     ]
    },
    {
     "name": "stderr",
     "output_type": "stream",
     "text": [
      "C:\\Users\\prate\\anaconda3\\lib\\site-packages\\IPython\\core\\interactiveshell.py:3071: DtypeWarning: Columns (23,24,42,43,44,62,63,64) have mixed types.Specify dtype option on import or set low_memory=False.\n",
      "  has_raised = await self.run_ast_nodes(code_ast.body, cell_name,\n"
     ]
    },
    {
     "data": {
      "text/html": [
       "<div>\n",
       "<style scoped>\n",
       "    .dataframe tbody tr th:only-of-type {\n",
       "        vertical-align: middle;\n",
       "    }\n",
       "\n",
       "    .dataframe tbody tr th {\n",
       "        vertical-align: top;\n",
       "    }\n",
       "\n",
       "    .dataframe thead th {\n",
       "        text-align: right;\n",
       "    }\n",
       "</style>\n",
       "<table border=\"1\" class=\"dataframe\">\n",
       "  <thead>\n",
       "    <tr style=\"text-align: right;\">\n",
       "      <th></th>\n",
       "      <th>IDEHR</th>\n",
       "      <th>I_ICD</th>\n",
       "      <th>EHRType</th>\n",
       "    </tr>\n",
       "  </thead>\n",
       "  <tbody>\n",
       "    <tr>\n",
       "      <th>0</th>\n",
       "      <td>3339</td>\n",
       "      <td>1629 - Tumori maligni del bronco o polmone -  ...</td>\n",
       "      <td>AMB</td>\n",
       "    </tr>\n",
       "    <tr>\n",
       "      <th>2</th>\n",
       "      <td>3170</td>\n",
       "      <td>1749 - Tumori maligni della mammella (della do...</td>\n",
       "      <td>AMB</td>\n",
       "    </tr>\n",
       "    <tr>\n",
       "      <th>3</th>\n",
       "      <td>2885</td>\n",
       "      <td>1428 - Tumori maligni di altre ghiandole saliv...</td>\n",
       "      <td>AMB</td>\n",
       "    </tr>\n",
       "    <tr>\n",
       "      <th>4</th>\n",
       "      <td>3017</td>\n",
       "      <td>1749 - Tumori maligni della mammella (della do...</td>\n",
       "      <td>AMB</td>\n",
       "    </tr>\n",
       "    <tr>\n",
       "      <th>5</th>\n",
       "      <td>3297</td>\n",
       "      <td>1629 - Tumori maligni del bronco o polmone -  ...</td>\n",
       "      <td>AMB</td>\n",
       "    </tr>\n",
       "  </tbody>\n",
       "</table>\n",
       "</div>"
      ],
      "text/plain": [
       "   IDEHR                                              I_ICD EHRType\n",
       "0   3339  1629 - Tumori maligni del bronco o polmone -  ...     AMB\n",
       "2   3170  1749 - Tumori maligni della mammella (della do...     AMB\n",
       "3   2885  1428 - Tumori maligni di altre ghiandole saliv...     AMB\n",
       "4   3017  1749 - Tumori maligni della mammella (della do...     AMB\n",
       "5   3297  1629 - Tumori maligni del bronco o polmone -  ...     AMB"
      ]
     },
     "execution_count": 74,
     "metadata": {},
     "output_type": "execute_result"
    }
   ],
   "source": [
    "# data frame with diagnosis\n",
    "df_diag = pd.read_csv('./vidas_data/wH_DirectTable_DIAGNOSI_ICD.csv')\n",
    "df_diag = df_diag[['IDEHR', 'I_ICD', 'EHRType']].drop_duplicates(subset=['IDEHR', 'EHRType'], keep='first').dropna()\n",
    "print(df_diag.shape)\n",
    "df_diag.head()"
   ]
  },
  {
   "cell_type": "code",
   "execution_count": 75,
   "metadata": {},
   "outputs": [
    {
     "data": {
      "text/plain": [
       "IDEHR      0\n",
       "I_ICD      0\n",
       "EHRType    0\n",
       "dtype: int64"
      ]
     },
     "execution_count": 75,
     "metadata": {},
     "output_type": "execute_result"
    }
   ],
   "source": [
    "# check NaNs\n",
    "df_diag.isna().sum()"
   ]
  },
  {
   "cell_type": "code",
   "execution_count": 76,
   "metadata": {},
   "outputs": [
    {
     "name": "stdout",
     "output_type": "stream",
     "text": [
      "(8388, 3)\n"
     ]
    },
    {
     "data": {
      "text/plain": [
       "IDEHR      0\n",
       "I_ICD      0\n",
       "EHRType    0\n",
       "dtype: int64"
      ]
     },
     "execution_count": 76,
     "metadata": {},
     "output_type": "execute_result"
    }
   ],
   "source": [
    "df_diag = df_diag.dropna()\n",
    "print(df_diag.shape)\n",
    "df_diag.isna().sum()"
   ]
  },
  {
   "cell_type": "code",
   "execution_count": 77,
   "metadata": {
    "scrolled": true
   },
   "outputs": [],
   "source": [
    "# df_diag.diagnosi.value_counts()"
   ]
  },
  {
   "cell_type": "code",
   "execution_count": 78,
   "metadata": {},
   "outputs": [
    {
     "data": {
      "text/html": [
       "<div>\n",
       "<style scoped>\n",
       "    .dataframe tbody tr th:only-of-type {\n",
       "        vertical-align: middle;\n",
       "    }\n",
       "\n",
       "    .dataframe tbody tr th {\n",
       "        vertical-align: top;\n",
       "    }\n",
       "\n",
       "    .dataframe thead th {\n",
       "        text-align: right;\n",
       "    }\n",
       "</style>\n",
       "<table border=\"1\" class=\"dataframe\">\n",
       "  <thead>\n",
       "    <tr style=\"text-align: right;\">\n",
       "      <th></th>\n",
       "      <th>IDEHR</th>\n",
       "      <th>Data</th>\n",
       "      <th>EHRType</th>\n",
       "    </tr>\n",
       "  </thead>\n",
       "  <tbody>\n",
       "    <tr>\n",
       "      <th>0</th>\n",
       "      <td>2</td>\n",
       "      <td>2015-02-22 03:00:00</td>\n",
       "      <td>EHR</td>\n",
       "    </tr>\n",
       "    <tr>\n",
       "      <th>1</th>\n",
       "      <td>4</td>\n",
       "      <td>2015-01-09 16:15:00</td>\n",
       "      <td>EHR</td>\n",
       "    </tr>\n",
       "    <tr>\n",
       "      <th>2</th>\n",
       "      <td>6</td>\n",
       "      <td>2015-01-20 14:50:00</td>\n",
       "      <td>EHR</td>\n",
       "    </tr>\n",
       "    <tr>\n",
       "      <th>3</th>\n",
       "      <td>7</td>\n",
       "      <td>2015-03-12 14:45:00</td>\n",
       "      <td>EHR</td>\n",
       "    </tr>\n",
       "    <tr>\n",
       "      <th>4</th>\n",
       "      <td>8</td>\n",
       "      <td>2015-02-25 06:12:00</td>\n",
       "      <td>EHR</td>\n",
       "    </tr>\n",
       "  </tbody>\n",
       "</table>\n",
       "</div>"
      ],
      "text/plain": [
       "   IDEHR                Data EHRType\n",
       "0      2 2015-02-22 03:00:00     EHR\n",
       "1      4 2015-01-09 16:15:00     EHR\n",
       "2      6 2015-01-20 14:50:00     EHR\n",
       "3      7 2015-03-12 14:45:00     EHR\n",
       "4      8 2015-02-25 06:12:00     EHR"
      ]
     },
     "execution_count": 78,
     "metadata": {},
     "output_type": "execute_result"
    }
   ],
   "source": [
    "# generate date span in df_death for IDEHRs \n",
    "df_ds = pd.read_csv('./vidas_data/wH_DirectTable_Decesso.csv', parse_dates=['Data'])\n",
    "df_ds = df_ds[['IDEHR', 'Data', 'EHRType']].sort_values(by=['IDEHR', 'Data'], ascending=[True, True]).reset_index(drop=True)\n",
    "df_ds.head()"
   ]
  },
  {
   "cell_type": "code",
   "execution_count": 79,
   "metadata": {},
   "outputs": [
    {
     "data": {
      "text/plain": [
       "0.0    5633\n",
       "Name: Data, dtype: int64"
      ]
     },
     "execution_count": 79,
     "metadata": {},
     "output_type": "execute_result"
    }
   ],
   "source": [
    "df_ds1 = df_ds.drop_duplicates(['IDEHR', 'EHRType'], keep='first')\n",
    "df_ds2 = df_ds.drop_duplicates(['IDEHR', 'EHRType'], keep='last')\n",
    "date_span = pd.to_timedelta(df_ds2.Data - df_ds1.Data).dt.days\n",
    "date_span.value_counts()"
   ]
  },
  {
   "cell_type": "code",
   "execution_count": 80,
   "metadata": {},
   "outputs": [
    {
     "data": {
      "text/plain": [
       "5914     6\n",
       "28042    6\n",
       "27772    6\n",
       "17291    5\n",
       "25174    4\n",
       "        ..\n",
       "5376     1\n",
       "7425     1\n",
       "23575    1\n",
       "21764    1\n",
       "8192     1\n",
       "Name: IDEHR, Length: 5935, dtype: int64"
      ]
     },
     "execution_count": 80,
     "metadata": {},
     "output_type": "execute_result"
    }
   ],
   "source": [
    "df_ds.IDEHR.value_counts()"
   ]
  },
  {
   "cell_type": "code",
   "execution_count": 81,
   "metadata": {},
   "outputs": [
    {
     "data": {
      "text/html": [
       "<div>\n",
       "<style scoped>\n",
       "    .dataframe tbody tr th:only-of-type {\n",
       "        vertical-align: middle;\n",
       "    }\n",
       "\n",
       "    .dataframe tbody tr th {\n",
       "        vertical-align: top;\n",
       "    }\n",
       "\n",
       "    .dataframe thead th {\n",
       "        text-align: right;\n",
       "    }\n",
       "</style>\n",
       "<table border=\"1\" class=\"dataframe\">\n",
       "  <thead>\n",
       "    <tr style=\"text-align: right;\">\n",
       "      <th></th>\n",
       "      <th>IDEHR</th>\n",
       "      <th>Data</th>\n",
       "      <th>EHRType</th>\n",
       "    </tr>\n",
       "  </thead>\n",
       "  <tbody>\n",
       "    <tr>\n",
       "      <th>5786</th>\n",
       "      <td>25174</td>\n",
       "      <td>2020-04-26 15:55:03</td>\n",
       "      <td>AMB</td>\n",
       "    </tr>\n",
       "    <tr>\n",
       "      <th>5787</th>\n",
       "      <td>25174</td>\n",
       "      <td>2020-04-26 15:55:24</td>\n",
       "      <td>AMB</td>\n",
       "    </tr>\n",
       "    <tr>\n",
       "      <th>5788</th>\n",
       "      <td>25174</td>\n",
       "      <td>2020-04-26 15:55:26</td>\n",
       "      <td>AMB</td>\n",
       "    </tr>\n",
       "    <tr>\n",
       "      <th>5789</th>\n",
       "      <td>25174</td>\n",
       "      <td>2020-04-26 15:55:48</td>\n",
       "      <td>AMB</td>\n",
       "    </tr>\n",
       "  </tbody>\n",
       "</table>\n",
       "</div>"
      ],
      "text/plain": [
       "      IDEHR                Data EHRType\n",
       "5786  25174 2020-04-26 15:55:03     AMB\n",
       "5787  25174 2020-04-26 15:55:24     AMB\n",
       "5788  25174 2020-04-26 15:55:26     AMB\n",
       "5789  25174 2020-04-26 15:55:48     AMB"
      ]
     },
     "execution_count": 81,
     "metadata": {},
     "output_type": "execute_result"
    }
   ],
   "source": [
    "# an example of repeated entries\n",
    "df_ds.loc[df_ds['IDEHR'] == 25174]"
   ]
  },
  {
   "cell_type": "code",
   "execution_count": 82,
   "metadata": {},
   "outputs": [],
   "source": [
    "# do the merge\n",
    "from functools import reduce\n",
    "dfs = [df_death, df_soh, df_diag]\n",
    "df_referral = reduce(lambda left, right: pd.merge(left, right, on=['IDEHR', 'EHRType']), dfs)"
   ]
  },
  {
   "cell_type": "code",
   "execution_count": 83,
   "metadata": {},
   "outputs": [
    {
     "data": {
      "text/html": [
       "<div>\n",
       "<style scoped>\n",
       "    .dataframe tbody tr th:only-of-type {\n",
       "        vertical-align: middle;\n",
       "    }\n",
       "\n",
       "    .dataframe tbody tr th {\n",
       "        vertical-align: top;\n",
       "    }\n",
       "\n",
       "    .dataframe thead th {\n",
       "        text-align: right;\n",
       "    }\n",
       "</style>\n",
       "<table border=\"1\" class=\"dataframe\">\n",
       "  <thead>\n",
       "    <tr style=\"text-align: right;\">\n",
       "      <th></th>\n",
       "      <th>IDEHR</th>\n",
       "      <th>Data</th>\n",
       "      <th>EHRType</th>\n",
       "      <th>TimeStamp_Insert</th>\n",
       "      <th>I_ICD</th>\n",
       "    </tr>\n",
       "  </thead>\n",
       "  <tbody>\n",
       "    <tr>\n",
       "      <th>0</th>\n",
       "      <td>3263</td>\n",
       "      <td>2015-10-02 07:50:00</td>\n",
       "      <td>AMB</td>\n",
       "      <td>2015-09-21 10:00:18.743</td>\n",
       "      <td>1550 - Tumori maligni primitivi del fegato#2048</td>\n",
       "    </tr>\n",
       "    <tr>\n",
       "      <th>1</th>\n",
       "      <td>2904</td>\n",
       "      <td>NaT</td>\n",
       "      <td>AMB</td>\n",
       "      <td>2015-09-04 14:53:01.400</td>\n",
       "      <td>1550 - Tumori maligni primitivi del fegato#2048</td>\n",
       "    </tr>\n",
       "    <tr>\n",
       "      <th>2</th>\n",
       "      <td>1414</td>\n",
       "      <td>2015-10-05 11:50:00</td>\n",
       "      <td>EHR</td>\n",
       "      <td>2015-10-02 15:45:06.800</td>\n",
       "      <td>28983 - Mielofibrosi#2615</td>\n",
       "    </tr>\n",
       "    <tr>\n",
       "      <th>3</th>\n",
       "      <td>3339</td>\n",
       "      <td>NaT</td>\n",
       "      <td>AMB</td>\n",
       "      <td>2015-09-23 15:11:20.817</td>\n",
       "      <td>1629 - Tumori maligni del bronco o polmone -  ...</td>\n",
       "    </tr>\n",
       "    <tr>\n",
       "      <th>4</th>\n",
       "      <td>3394</td>\n",
       "      <td>2015-10-06 03:25:00</td>\n",
       "      <td>AMB</td>\n",
       "      <td>2015-09-25 18:17:56.940</td>\n",
       "      <td>1629 - Tumori maligni del bronco o polmone -  ...</td>\n",
       "    </tr>\n",
       "    <tr>\n",
       "      <th>...</th>\n",
       "      <td>...</td>\n",
       "      <td>...</td>\n",
       "      <td>...</td>\n",
       "      <td>...</td>\n",
       "      <td>...</td>\n",
       "    </tr>\n",
       "    <tr>\n",
       "      <th>5648</th>\n",
       "      <td>5281</td>\n",
       "      <td>2020-07-23 09:55:00</td>\n",
       "      <td>EHR</td>\n",
       "      <td>2020-07-17 12:36:37.000</td>\n",
       "      <td>1500 - Tumori maligni dell'esofago cervicale#2...</td>\n",
       "    </tr>\n",
       "    <tr>\n",
       "      <th>5649</th>\n",
       "      <td>27907</td>\n",
       "      <td>2020-07-23 11:00:00</td>\n",
       "      <td>AMB</td>\n",
       "      <td>2020-04-23 14:31:49.963</td>\n",
       "      <td>1629 - Tumori maligni del bronco o polmone, no...</td>\n",
       "    </tr>\n",
       "    <tr>\n",
       "      <th>5650</th>\n",
       "      <td>28540</td>\n",
       "      <td>2020-07-23 01:45:22</td>\n",
       "      <td>AMB</td>\n",
       "      <td>2020-05-25 18:06:40.197</td>\n",
       "      <td>1536 - Tumori maligni del colon ascendente#2039</td>\n",
       "    </tr>\n",
       "    <tr>\n",
       "      <th>5651</th>\n",
       "      <td>29440</td>\n",
       "      <td>2020-07-23 15:36:43</td>\n",
       "      <td>AMB</td>\n",
       "      <td>2020-07-20 17:23:52.570</td>\n",
       "      <td>1629 - Tumori maligni del bronco o polmone, no...</td>\n",
       "    </tr>\n",
       "    <tr>\n",
       "      <th>5652</th>\n",
       "      <td>29399</td>\n",
       "      <td>2020-07-23 00:00:21</td>\n",
       "      <td>AMB</td>\n",
       "      <td>2020-07-17 10:08:54.310</td>\n",
       "      <td>1630 - Tumori maligni della pleura parietale#2070</td>\n",
       "    </tr>\n",
       "  </tbody>\n",
       "</table>\n",
       "<p>5653 rows × 5 columns</p>\n",
       "</div>"
      ],
      "text/plain": [
       "      IDEHR                Data EHRType        TimeStamp_Insert  \\\n",
       "0      3263 2015-10-02 07:50:00     AMB 2015-09-21 10:00:18.743   \n",
       "1      2904                 NaT     AMB 2015-09-04 14:53:01.400   \n",
       "2      1414 2015-10-05 11:50:00     EHR 2015-10-02 15:45:06.800   \n",
       "3      3339                 NaT     AMB 2015-09-23 15:11:20.817   \n",
       "4      3394 2015-10-06 03:25:00     AMB 2015-09-25 18:17:56.940   \n",
       "...     ...                 ...     ...                     ...   \n",
       "5648   5281 2020-07-23 09:55:00     EHR 2020-07-17 12:36:37.000   \n",
       "5649  27907 2020-07-23 11:00:00     AMB 2020-04-23 14:31:49.963   \n",
       "5650  28540 2020-07-23 01:45:22     AMB 2020-05-25 18:06:40.197   \n",
       "5651  29440 2020-07-23 15:36:43     AMB 2020-07-20 17:23:52.570   \n",
       "5652  29399 2020-07-23 00:00:21     AMB 2020-07-17 10:08:54.310   \n",
       "\n",
       "                                                  I_ICD  \n",
       "0       1550 - Tumori maligni primitivi del fegato#2048  \n",
       "1       1550 - Tumori maligni primitivi del fegato#2048  \n",
       "2                             28983 - Mielofibrosi#2615  \n",
       "3     1629 - Tumori maligni del bronco o polmone -  ...  \n",
       "4     1629 - Tumori maligni del bronco o polmone -  ...  \n",
       "...                                                 ...  \n",
       "5648  1500 - Tumori maligni dell'esofago cervicale#2...  \n",
       "5649  1629 - Tumori maligni del bronco o polmone, no...  \n",
       "5650    1536 - Tumori maligni del colon ascendente#2039  \n",
       "5651  1629 - Tumori maligni del bronco o polmone, no...  \n",
       "5652  1630 - Tumori maligni della pleura parietale#2070  \n",
       "\n",
       "[5653 rows x 5 columns]"
      ]
     },
     "execution_count": 83,
     "metadata": {},
     "output_type": "execute_result"
    }
   ],
   "source": [
    "df_referral"
   ]
  },
  {
   "cell_type": "code",
   "execution_count": 84,
   "metadata": {},
   "outputs": [
    {
     "data": {
      "text/html": [
       "<div>\n",
       "<style scoped>\n",
       "    .dataframe tbody tr th:only-of-type {\n",
       "        vertical-align: middle;\n",
       "    }\n",
       "\n",
       "    .dataframe tbody tr th {\n",
       "        vertical-align: top;\n",
       "    }\n",
       "\n",
       "    .dataframe thead th {\n",
       "        text-align: right;\n",
       "    }\n",
       "</style>\n",
       "<table border=\"1\" class=\"dataframe\">\n",
       "  <thead>\n",
       "    <tr style=\"text-align: right;\">\n",
       "      <th></th>\n",
       "      <th>IDEHR</th>\n",
       "      <th>Data</th>\n",
       "      <th>EHRType</th>\n",
       "      <th>TimeStamp_Insert</th>\n",
       "      <th>I_ICD</th>\n",
       "      <th>survival_time_days</th>\n",
       "    </tr>\n",
       "  </thead>\n",
       "  <tbody>\n",
       "    <tr>\n",
       "      <th>0</th>\n",
       "      <td>3263</td>\n",
       "      <td>2015-10-02 07:50:00</td>\n",
       "      <td>AMB</td>\n",
       "      <td>2015-09-21 10:00:18.743</td>\n",
       "      <td>1550 - Tumori maligni primitivi del fegato#2048</td>\n",
       "      <td>10.0</td>\n",
       "    </tr>\n",
       "    <tr>\n",
       "      <th>1</th>\n",
       "      <td>2904</td>\n",
       "      <td>NaT</td>\n",
       "      <td>AMB</td>\n",
       "      <td>2015-09-04 14:53:01.400</td>\n",
       "      <td>1550 - Tumori maligni primitivi del fegato#2048</td>\n",
       "      <td>NaN</td>\n",
       "    </tr>\n",
       "    <tr>\n",
       "      <th>2</th>\n",
       "      <td>1414</td>\n",
       "      <td>2015-10-05 11:50:00</td>\n",
       "      <td>EHR</td>\n",
       "      <td>2015-10-02 15:45:06.800</td>\n",
       "      <td>28983 - Mielofibrosi#2615</td>\n",
       "      <td>2.0</td>\n",
       "    </tr>\n",
       "    <tr>\n",
       "      <th>3</th>\n",
       "      <td>3339</td>\n",
       "      <td>NaT</td>\n",
       "      <td>AMB</td>\n",
       "      <td>2015-09-23 15:11:20.817</td>\n",
       "      <td>1629 - Tumori maligni del bronco o polmone -  ...</td>\n",
       "      <td>NaN</td>\n",
       "    </tr>\n",
       "    <tr>\n",
       "      <th>4</th>\n",
       "      <td>3394</td>\n",
       "      <td>2015-10-06 03:25:00</td>\n",
       "      <td>AMB</td>\n",
       "      <td>2015-09-25 18:17:56.940</td>\n",
       "      <td>1629 - Tumori maligni del bronco o polmone -  ...</td>\n",
       "      <td>10.0</td>\n",
       "    </tr>\n",
       "  </tbody>\n",
       "</table>\n",
       "</div>"
      ],
      "text/plain": [
       "   IDEHR                Data EHRType        TimeStamp_Insert  \\\n",
       "0   3263 2015-10-02 07:50:00     AMB 2015-09-21 10:00:18.743   \n",
       "1   2904                 NaT     AMB 2015-09-04 14:53:01.400   \n",
       "2   1414 2015-10-05 11:50:00     EHR 2015-10-02 15:45:06.800   \n",
       "3   3339                 NaT     AMB 2015-09-23 15:11:20.817   \n",
       "4   3394 2015-10-06 03:25:00     AMB 2015-09-25 18:17:56.940   \n",
       "\n",
       "                                               I_ICD  survival_time_days  \n",
       "0    1550 - Tumori maligni primitivi del fegato#2048                10.0  \n",
       "1    1550 - Tumori maligni primitivi del fegato#2048                 NaN  \n",
       "2                          28983 - Mielofibrosi#2615                 2.0  \n",
       "3  1629 - Tumori maligni del bronco o polmone -  ...                 NaN  \n",
       "4  1629 - Tumori maligni del bronco o polmone -  ...                10.0  "
      ]
     },
     "execution_count": 84,
     "metadata": {},
     "output_type": "execute_result"
    }
   ],
   "source": [
    "# get the survival time (in days) for each patient\n",
    "df_referral['survival_time_days'] = pd.to_timedelta(df_referral['Data'] - df_referral['TimeStamp_Insert']).dt.days\n",
    "df_referral.head()"
   ]
  },
  {
   "cell_type": "code",
   "execution_count": 85,
   "metadata": {},
   "outputs": [
    {
     "name": "stdout",
     "output_type": "stream",
     "text": [
      "(5653, 6)\n"
     ]
    },
    {
     "data": {
      "text/plain": [
       "3.0       253\n",
       "2.0       251\n",
       "5.0       250\n",
       "1.0       236\n",
       "4.0       228\n",
       "         ... \n",
       "210.0       1\n",
       "1416.0      1\n",
       "442.0       1\n",
       "532.0       1\n",
       "223.0       1\n",
       "Name: survival_time_days, Length: 307, dtype: int64"
      ]
     },
     "execution_count": 85,
     "metadata": {},
     "output_type": "execute_result"
    }
   ],
   "source": [
    "print(df_referral.shape)\n",
    "df_referral.survival_time_days.value_counts()"
   ]
  },
  {
   "cell_type": "code",
   "execution_count": 86,
   "metadata": {},
   "outputs": [
    {
     "name": "stdout",
     "output_type": "stream",
     "text": [
      "IDEHR                  0\n",
      "Data                  53\n",
      "EHRType                0\n",
      "TimeStamp_Insert       0\n",
      "I_ICD                  0\n",
      "survival_time_days    53\n",
      "dtype: int64\n"
     ]
    }
   ],
   "source": [
    "print(df_referral.isna().sum())\n",
    "df_referral = df_referral.dropna()"
   ]
  },
  {
   "cell_type": "code",
   "execution_count": 87,
   "metadata": {},
   "outputs": [],
   "source": [
    "# translate the diagnosis to English\n",
    "# from googletrans import Translator\n",
    "# df_referral['Diagnosis'] = df_referral.Diagnosi.str.findall('(.+)#').to_frame()\n",
    "# df_referral['Diagnosis'] = df_referral['Diagnosis'].apply(lambda x: x if isinstance(x, float) else x[0])\n",
    "\n",
    "# translator = Translator()\n",
    "# df_referral['Diagnosi'] = df_referral['Diagnosis'].apply(translator.translate, src='it', dest='en').apply(getattr, args=('text',))\n",
    "# df_referral = df_referral.drop(columns = ['Diagnosis'])\n",
    "# df_referral.head()"
   ]
  },
  {
   "cell_type": "code",
   "execution_count": 88,
   "metadata": {},
   "outputs": [],
   "source": [
    "def autolabel(rects):\n",
    "    \"\"\"Attach a text label above each bar in *rects*, displaying its height.\"\"\"\n",
    "    for rect in rects:\n",
    "        height = rect.get_width()\n",
    "        ax.annotate('{}'.format(height),\n",
    "                    xy=(height, rect.get_y()),\n",
    "                    xytext=(30, 0),  # 3 points vertical offset\n",
    "                    textcoords=\"offset points\",\n",
    "                    ha='center', va='bottom')"
   ]
  },
  {
   "cell_type": "code",
   "execution_count": 89,
   "metadata": {
    "scrolled": true
   },
   "outputs": [
    {
     "name": "stdout",
     "output_type": "stream",
     "text": [
      " 3.0       253\n",
      " 2.0       251\n",
      " 5.0       250\n",
      " 1.0       236\n",
      " 4.0       228\n",
      " 6.0       201\n",
      " 8.0       165\n",
      " 9.0       154\n",
      " 7.0       150\n",
      " 11.0      146\n",
      " 10.0      144\n",
      " 12.0      125\n",
      " 0.0       122\n",
      " 15.0      120\n",
      " 13.0      113\n",
      " 14.0      112\n",
      " 17.0       95\n",
      " 16.0       90\n",
      " 19.0       89\n",
      " 22.0       83\n",
      " 24.0       83\n",
      " 18.0       83\n",
      " 23.0       75\n",
      " 20.0       71\n",
      " 26.0       71\n",
      " 21.0       71\n",
      " 25.0       66\n",
      " 28.0       65\n",
      " 29.0       58\n",
      " 27.0       56\n",
      " 31.0       51\n",
      " 30.0       48\n",
      " 37.0       43\n",
      " 34.0       40\n",
      " 46.0       40\n",
      " 36.0       40\n",
      " 38.0       38\n",
      " 33.0       37\n",
      " 40.0       37\n",
      " 39.0       37\n",
      " 35.0       37\n",
      " 45.0       37\n",
      " 32.0       36\n",
      " 44.0       35\n",
      " 43.0       32\n",
      " 47.0       31\n",
      " 41.0       29\n",
      " 57.0       28\n",
      " 50.0       27\n",
      " 42.0       26\n",
      " 49.0       25\n",
      " 51.0       23\n",
      " 62.0       21\n",
      " 48.0       20\n",
      " 56.0       20\n",
      " 55.0       19\n",
      " 61.0       19\n",
      " 79.0       19\n",
      " 64.0       18\n",
      " 58.0       18\n",
      " 59.0       18\n",
      " 53.0       17\n",
      " 70.0       16\n",
      " 52.0       15\n",
      " 63.0       15\n",
      " 60.0       14\n",
      " 66.0       14\n",
      " 83.0       14\n",
      " 80.0       14\n",
      " 81.0       13\n",
      " 72.0       12\n",
      " 65.0       12\n",
      " 71.0       12\n",
      " 86.0       12\n",
      " 67.0       11\n",
      " 54.0       11\n",
      " 77.0       10\n",
      " 68.0       10\n",
      " 74.0        9\n",
      " 91.0        9\n",
      " 113.0       9\n",
      " 95.0        9\n",
      " 76.0        9\n",
      " 100.0       9\n",
      " 94.0        9\n",
      " 96.0        9\n",
      " 69.0        9\n",
      " 78.0        9\n",
      " 73.0        9\n",
      " 111.0       8\n",
      " 121.0       8\n",
      " 125.0       8\n",
      " 88.0        7\n",
      " 107.0       7\n",
      " 119.0       7\n",
      " 98.0        7\n",
      " 75.0        7\n",
      " 97.0        7\n",
      " 135.0       7\n",
      " 102.0       6\n",
      " 140.0       6\n",
      " 93.0        6\n",
      " 92.0        6\n",
      " 109.0       5\n",
      " 87.0        5\n",
      " 133.0       5\n",
      " 89.0        5\n",
      " 173.0       5\n",
      " 141.0       5\n",
      " 148.0       5\n",
      " 84.0        5\n",
      " 114.0       5\n",
      " 110.0       5\n",
      " 146.0       5\n",
      " 129.0       5\n",
      " 85.0        5\n",
      " 165.0       5\n",
      " 170.0       5\n",
      " 101.0       5\n",
      " 82.0        4\n",
      " 122.0       4\n",
      " 105.0       4\n",
      " 138.0       4\n",
      " 126.0       4\n",
      " 145.0       4\n",
      "-1.0         4\n",
      " 139.0       4\n",
      " 156.0       4\n",
      " 172.0       4\n",
      " 224.0       4\n",
      " 137.0       4\n",
      " 184.0       4\n",
      " 143.0       4\n",
      " 90.0        4\n",
      " 106.0       4\n",
      " 116.0       3\n",
      " 154.0       3\n",
      " 265.0       3\n",
      " 115.0       3\n",
      " 215.0       3\n",
      " 194.0       3\n",
      " 159.0       3\n",
      " 127.0       3\n",
      " 162.0       3\n",
      " 177.0       3\n",
      " 117.0       3\n",
      " 169.0       3\n",
      " 104.0       3\n",
      " 112.0       3\n",
      " 103.0       3\n",
      " 161.0       3\n",
      " 136.0       3\n",
      " 216.0       3\n",
      " 320.0       3\n",
      " 168.0       3\n",
      " 160.0       3\n",
      " 153.0       3\n",
      " 174.0       3\n",
      " 134.0       3\n",
      " 157.0       3\n",
      " 303.0       2\n",
      " 167.0       2\n",
      " 205.0       2\n",
      " 234.0       2\n",
      " 204.0       2\n",
      " 323.0       2\n",
      " 277.0       2\n",
      " 155.0       2\n",
      " 178.0       2\n",
      " 257.0       2\n",
      " 231.0       2\n",
      " 99.0        2\n",
      " 193.0       2\n",
      " 235.0       2\n",
      " 123.0       2\n",
      " 249.0       2\n",
      " 198.0       2\n",
      " 294.0       2\n",
      " 279.0       2\n",
      " 228.0       2\n",
      " 128.0       2\n",
      " 222.0       2\n",
      " 144.0       2\n",
      " 147.0       2\n",
      " 243.0       2\n",
      " 256.0       2\n",
      " 274.0       2\n",
      " 152.0       2\n",
      " 124.0       2\n",
      " 252.0       2\n",
      " 244.0       2\n",
      " 151.0       2\n",
      " 285.0       2\n",
      " 206.0       2\n",
      " 261.0       2\n",
      " 340.0       2\n",
      " 187.0       2\n",
      " 221.0       2\n",
      " 150.0       2\n",
      " 130.0       2\n",
      " 211.0       2\n",
      " 357.0       1\n",
      " 259.0       1\n",
      " 377.0       1\n",
      " 658.0       1\n",
      " 704.0       1\n",
      " 428.0       1\n",
      " 242.0       1\n",
      " 199.0       1\n",
      " 200.0       1\n",
      " 331.0       1\n",
      " 120.0       1\n",
      " 213.0       1\n",
      " 672.0       1\n",
      " 476.0       1\n",
      " 314.0       1\n",
      " 190.0       1\n",
      " 290.0       1\n",
      " 269.0       1\n",
      " 318.0       1\n",
      " 689.0       1\n",
      " 782.0       1\n",
      " 311.0       1\n",
      " 450.0       1\n",
      " 308.0       1\n",
      " 636.0       1\n",
      " 327.0       1\n",
      " 906.0       1\n",
      " 253.0       1\n",
      " 201.0       1\n",
      " 406.0       1\n",
      " 183.0       1\n",
      " 271.0       1\n",
      " 605.0       1\n",
      " 531.0       1\n",
      " 461.0       1\n",
      " 667.0       1\n",
      " 202.0       1\n",
      " 332.0       1\n",
      " 186.0       1\n",
      " 324.0       1\n",
      " 197.0       1\n",
      " 360.0       1\n",
      " 132.0       1\n",
      " 497.0       1\n",
      " 731.0       1\n",
      " 175.0       1\n",
      " 282.0       1\n",
      " 270.0       1\n",
      " 373.0       1\n",
      " 292.0       1\n",
      " 214.0       1\n",
      " 284.0       1\n",
      " 362.0       1\n",
      " 230.0       1\n",
      " 207.0       1\n",
      " 309.0       1\n",
      " 679.0       1\n",
      " 391.0       1\n",
      " 291.0       1\n",
      " 191.0       1\n",
      " 163.0       1\n",
      " 245.0       1\n",
      " 359.0       1\n",
      " 687.0       1\n",
      " 306.0       1\n",
      " 321.0       1\n",
      " 620.0       1\n",
      " 530.0       1\n",
      " 571.0       1\n",
      " 353.0       1\n",
      " 307.0       1\n",
      " 241.0       1\n",
      " 229.0       1\n",
      " 219.0       1\n",
      " 237.0       1\n",
      " 313.0       1\n",
      " 180.0       1\n",
      " 212.0       1\n",
      " 166.0       1\n",
      " 458.0       1\n",
      " 682.0       1\n",
      " 603.0       1\n",
      " 322.0       1\n",
      " 326.0       1\n",
      " 225.0       1\n",
      " 142.0       1\n",
      " 182.0       1\n",
      " 487.0       1\n",
      " 566.0       1\n",
      " 149.0       1\n",
      " 185.0       1\n",
      " 302.0       1\n",
      " 346.0       1\n",
      " 203.0       1\n",
      " 453.0       1\n",
      " 275.0       1\n",
      " 297.0       1\n",
      " 248.0       1\n",
      " 232.0       1\n",
      " 108.0       1\n",
      " 188.0       1\n",
      " 210.0       1\n",
      " 1416.0      1\n",
      " 442.0       1\n",
      " 532.0       1\n",
      " 223.0       1\n",
      "Name: survival_time_days, dtype: int64\n"
     ]
    }
   ],
   "source": [
    "with pd.option_context(\"display.max_rows\", 1000):\n",
    "    print(df_referral.survival_time_days.value_counts())"
   ]
  },
  {
   "cell_type": "code",
   "execution_count": 90,
   "metadata": {},
   "outputs": [
    {
     "name": "stdout",
     "output_type": "stream",
     "text": [
      "Mean Survival:  36.21982142857143\n",
      "Survival Stddev:  66.77263982006056\n"
     ]
    }
   ],
   "source": [
    "# print('Mean Survival (using index): ', np.mean(df_referral.survival_time_days.value_counts())) # this just gives the mean of the days (not counting the number of times that day occurs)\n",
    "# print('Survival Stddev (using index): ', np.std(df_referral.survival_time_days.value_counts().index, ddof=0))\n",
    "print('Mean Survival: ', np.mean(df_referral.survival_time_days))\n",
    "print('Survival Stddev: ', np.std(df_referral.survival_time_days, ddof=0))"
   ]
  },
  {
   "cell_type": "code",
   "execution_count": 91,
   "metadata": {},
   "outputs": [
    {
     "data": {
      "text/plain": [
       "<Figure size 1440x720 with 0 Axes>"
      ]
     },
     "metadata": {},
     "output_type": "display_data"
    },
    {
     "data": {
      "image/png": "[encoded data removed]",
      "text/plain": [
       "<Figure size 1440x720 with 1 Axes>"
      ]
     },
     "metadata": {
      "needs_background": "light"
     },
     "output_type": "display_data"
    }
   ],
   "source": [
    "# get the survival time histogram for all patients\n",
    "plt.rcParams['figure.figsize'] = [20, 10]\n",
    "matplotlib.rcParams.update({'font.size': 15})\n",
    "plt.figure()\n",
    "labels = df_referral['survival_time_days'].value_counts().index\n",
    "survival = df_referral['survival_time_days'].value_counts(normalize=False)\n",
    "fig, ax = plt.subplots()\n",
    "bar1 = ax.bar(labels, survival, label='Patients')\n",
    "ax.set_xlabel('Days')\n",
    "ax.set_ylabel('No. of Patients')\n",
    "ax.set_title('Survival Time')\n",
    "ax.legend()\n",
    "plt.grid()\n",
    "plt.savefig(\"./graphs/referral analysis/survival_time.png\", bbox_inches='tight')\n",
    "plt.show()"
   ]
  },
  {
   "cell_type": "code",
   "execution_count": 92,
   "metadata": {
    "scrolled": true
   },
   "outputs": [
    {
     "data": {
      "text/plain": [
       "array(['1550 - Tumori maligni primitivi del fegato#2048',\n",
       "       '28983 - Mielofibrosi#2615',\n",
       "       '1629 - Tumori maligni del bronco o polmone -  non specificato#2069',\n",
       "       '1739 - Altri tumori maligni della cute -  sede non specificata#2568',\n",
       "       '001 - Cure Palliative#2005',\n",
       "       '1579 - Tumori maligni del pancreas -  parte non specificata#2062',\n",
       "       '1625 - Tumori maligni del lobo inferiore -  bronco o polmone#2067',\n",
       "       '1619 - Tumori maligni della laringe, non specificata#2604=0',\n",
       "       'V667 - Trattamento per cure palliative#2402=0',\n",
       "       '1519 - Tumori maligni dello stomaco -  non specificato#2032',\n",
       "       '1578 - Tumori maligni di altre sedi (specificate) del pancreas#2061',\n",
       "       '1579 - Tumori maligni del pancreas, parte non specificata#2062=0',\n",
       "       '1891 - Tumori maligni della pelvi renale#2124',\n",
       "       '1570 - Tumori maligni della testa del pancreas#2056',\n",
       "       '20410 - Leucemia linfoide, cronica, senza menzione di remissione#2274=0',\n",
       "       '1571 - Tumori maligni del corpo del pancreas#2057',\n",
       "       '20380 - Altre neoplasie immunoproliferative -  senza menzione di remissione#2270',\n",
       "       '1740 - Tumori maligni di capezzolo e areola della mammella della donna#2084',\n",
       "       '1749 - Tumori maligni della mammella (della donna) -  non specificata#2092',\n",
       "       \"1919 - Tumori maligni dell'encefalo -  non specificato#2139\",\n",
       "       '4149 - Cardiopatia ischemica cronica non specificata#2341=0',\n",
       "       '20207 - Linfoma nodulare, milza#2212=0',\n",
       "       '1624 - Tumori maligni del lobo medio, bronco o polmone#2066=0',\n",
       "       '20890 - Leucemia non specificata -  senza menzione di remissione#2312',\n",
       "       '1624 - Tumori maligni del lobo medio -  bronco o polmone#2066',\n",
       "       '1539 - Tumori maligni del colon -  non specificato#2042',\n",
       "       '1888 - Tumori maligni di altre specificate sedi della vescica#2121',\n",
       "       '1533 - Tumori maligni del sigma#2036',\n",
       "       '1410 - Tumori della base della lingua#2485',\n",
       "       \"1918 - Tumori maligni di altre parti dell'encefalo#2138\",\n",
       "       \"1488 - Tumori maligni di altre sedi (specificate) dell'ipofaringe#2536=0\",\n",
       "       '1889 - Tumori maligni di parte non specificata della vescica#2122',\n",
       "       '1513 - Tumori maligni del fondo dello stomaco#2027',\n",
       "       '1629 - Tumori maligni del bronco o polmone, non specificato#2069=0',\n",
       "       '193 - Tumori maligni della ghiandola Tiroide#2619',\n",
       "       '4011 - Ipertensione essenziale benigna#2333',\n",
       "       '1540 - Tumori maligni della giunzione rettosigmoidea#2043',\n",
       "       '1560 - Tumori maligni della colecisti#2051=0',\n",
       "       '1890 - Tumori maligni del rene -  eccetto la pelvi#2123',\n",
       "       \"1726 - Melanoma maligno dell'arto superiore, compresa la spalla#2611=0\",\n",
       "       '1619 - Tumori maligni della laringe -  non specificata#2604',\n",
       "       \"179 - Tumori maligni dell'utero -  parte non specificata#2601\",\n",
       "       '1623 - Tumori maligni del lobo superiore -  bronco o polmone#2065',\n",
       "       '1728 - Melanoma maligno di altre sedi specificate della cute#2613',\n",
       "       '1518 - Tumori maligni di altre sedi (specificate) dello stomaco#2031',\n",
       "       '20400 - Leucemia linfoide, acuta, senza menzione di remissione#2272=0',\n",
       "       '1744 - Tumori maligni del quadrante supero-esterno della mammella della donna#2088',\n",
       "       '25001 - Diabete mellito -  tipo I (insulinodipendente) (diabete giovanile) -  non definito se controllato -  senza menzione di complicanze#2315',\n",
       "       '33520 - Sclerosi laterale amiotrofica#2325',\n",
       "       '436 - Vasculopatie cerebrali acute -  mal definite#2345',\n",
       "       '51883 - insufficienza respiratoria cronica#2475',\n",
       "       '1420 - Tumori maligni della ghiandola parotide#2494=0',\n",
       "       '1742 - Tumori maligni del quadrante supero-interno della mammella della donna#2086=0',\n",
       "       '1749 - Tumori maligni della mammella (della donna), non specificata#2092=0',\n",
       "       '1738 - Altri tumori maligni di altre sedi specificate della cute#2567',\n",
       "       '193 - Tumori maligni della ghiandola Tiroide#2619=0',\n",
       "       '1532 - Tumori maligni del colon discendente#2035',\n",
       "       \"1917 - Tumori maligni del tronco dell'encefalo Mesencefalo#2137\",\n",
       "       '1552 - Tumori maligni del fegato -  non specificato se primitivi o secondari#2050',\n",
       "       \"1489 - Tumori maligni dell'ipofaringe -  non specificato#2537\",\n",
       "       \"1548 - Altri tumori maligni del retto, della giunzione rettosigmoidea e dell'ano#2047=0\",\n",
       "       '185 - Tumori maligni della prostata#2112',\n",
       "       '1539 - Tumori maligni del colon, non specificato#2042=0',\n",
       "       '1977 - Tumori maligni secondari del fegato -  specificati come metastatici#2155',\n",
       "       \"1548 - Altri tumori maligni del retto -  della giunzione rettosigmoidea e dell'ano#2047\",\n",
       "       '4289 - Insufficienza cardiaca non specificata (scompenso cardiaco non specificato)#2581',\n",
       "       \"1892 - Tumori maligni dell'uretere#2125\",\n",
       "       '1970 - Tumori maligni secondari del polmone#2148',\n",
       "       '1541 - Tumori maligni del retto#2044',\n",
       "       '1578 - Tumori maligni di altre sedi (specificate) del pancreas#2061=0',\n",
       "       '1733 - Altri tumori maligni della cute di altre e non specificate parti della faccia#2562=0',\n",
       "       \"1830 - Tumori maligni dell'ovaio#2105\",\n",
       "       'V667 - Trattamento per cure palliative#2402',\n",
       "       '1890 - Tumori maligni del rene, eccetto la pelvi#2123=0',\n",
       "       '1985 - Tumori maligni secondari di osso e midollo osseo#2162',\n",
       "       '1580 - Tumori maligni del retroperitoneo#2620',\n",
       "       '1628 - Tumori maligni di altre parti dei bronchi o dei polmoni#2068',\n",
       "       '1985 - Tumori maligni secondari di osso e midollo osseo#2162=0',\n",
       "       \"1828 - Tumori maligni di altre specificate sedi del corpo dell'utero#2718\",\n",
       "       '002 - Terapia del dolore#2006',\n",
       "       '20208 - Linfoma nodulare -  linfonodi di siti multipli#2213',\n",
       "       '20203 - Linfoma nodulare -  linfonodi intraaddominali#2208',\n",
       "       '4379 - Vasculopatie cerebrali non specificate#2346',\n",
       "       '586 - Insufficienza renale cronica#2363',\n",
       "       \"1562 - Tumori maligni dell'ampolla di Vater#2053\",\n",
       "       \"179 - Tumori maligni dell'utero, parte non specificata#2601=0\",\n",
       "       '4280 - Insufficienza cardiaca congestizia (scompenso cardiaco congestizio)#2579',\n",
       "       '1459 - Tumori maligni della bocca -  non specificata#2515',\n",
       "       '1419 - Tumori della lingua -  non specificata#2493',\n",
       "       '40391 - Nefropatia ipertensiva non specificata con insufficienza renale#2336',\n",
       "       '1536 - Tumori maligni del colon ascendente#2039',\n",
       "       '1589 - Tumori maligni del peritoneo -  non specificato#2622',\n",
       "       '1639 - Tumori maligni della pleura, non specificata#2073=0',\n",
       "       '07054 - Epatite C cronica senza menzione di coma epatico#2008',\n",
       "       '1519 - Tumori maligni dello stomaco, non specificato#2032=0',\n",
       "       '1570 - Tumori maligni della testa del pancreas#2056=0',\n",
       "       '20300 - Mieloma multiplo -  senza menzione di remissione#2266',\n",
       "       '1560 - Tumori maligni della colecisti#2051',\n",
       "       '1910 - Tumori maligni del cervello, eccetto lobi e ventricoli#2130=0',\n",
       "       '1623 - Tumori maligni del lobo superiore, bronco o polmone#2065=0',\n",
       "       '1579 - Tumori maligni del pancreas, parte non specificata#2062',\n",
       "       '1534 - Tumori maligni del ceco#2037',\n",
       "       '3310 - Malattia di Alzheimer#2323=0',\n",
       "       '1910 - Tumori maligni del cervello -  eccetto lobi e ventricoli#2130',\n",
       "       '20281 - Altri linfomi, linfonodi della testa e del collo#2250=0',\n",
       "       '51884 - Insufficienza respiratoria acuta e cronica#2354=0',\n",
       "       '1748 - Tumori maligni della altre sedi specificate della mammella della donna#2091',\n",
       "       '1533 - Tumori maligni del sigma#2036=0',\n",
       "       '1735 - Altri tumori maligni della cute del tronco -  eccetto lo scroto#2564',\n",
       "       '5193 - Altre malattie del mediastino -  non classificate altrove#2355',\n",
       "       '20288 - Altri linfomi, linfonodi di siti multipli#2257=0',\n",
       "       '1569 - Tumori maligni delle vie biliari -  non specificate#2055',\n",
       "       '1976 - Tumori maligni secondari di retroperitoneo e peritoneo#2154',\n",
       "       '1531 - Tumori maligni del colon trasverso#2034=0',\n",
       "       '1460 - Tumori maligni della tonsilla#2516=0',\n",
       "       '1844 - Tumori maligni della vulva -  non specificata#2598',\n",
       "       '1630 - Tumori maligni della pleura parietale#2070',\n",
       "       '1572 - Tumori maligni della coda del pancreas#2058',\n",
       "       '5859 - Malattia renale cronica, non specificata#2617=0',\n",
       "       '1518 - Tumori maligni di altre sedi (specificate) dello stomaco#2031=0',\n",
       "       \"1467 - Tumori maligni della parete posteriore dell'orofaringe#2523\",\n",
       "       '4281 - Insufficienza del cuore sinistro (scompenso cardiaco sinistro)#2580',\n",
       "       '1899 - Tumori maligni degli organi urinari -  sede non specificata#2129',\n",
       "       '20021 - Linfoma o tumore di Burkitt -  linfonodi della testa e del collo#2188',\n",
       "       '1639 - Tumori maligni della pleura -  non specificata#2073',\n",
       "       '1990 - Tumori maligni disseminati senza indicazione della sede#2168=0',\n",
       "       '1450 - Tumori maligni della mucosa delle guance#2507',\n",
       "       '5119 - Versamento pleurico non specificato#2589',\n",
       "       '20202 - Linfoma nodulare -  linfonodi intratoracici -  mediastinici#2207',\n",
       "       '1569 - Tumori maligni delle vie biliari, non specificate#2055=0',\n",
       "       '1889 - Tumori maligni di parte non specificata della vescica#2122=0',\n",
       "       '1471 - Tumori maligni della parete posteriore del rinofaringe#2011=0',\n",
       "       '3310 - Malattia di Alzheimer#2323',\n",
       "       '33520 - Sclerosi laterale amiotrofica#2325=0',\n",
       "       '45989 - Altri disturbi specificati del sistema circolatorio#2766=0',\n",
       "       \"1715 - Tumori maligni dell'addome#2554\",\n",
       "       '1514 - Tumori maligni del corpo dello stomaco#2028',\n",
       "       '1725 - Melanoma maligno del tronco -  eccetto lo scroto#2610',\n",
       "       \"1509 - Tumori maligni dell'esofago -  non specificato#2023\",\n",
       "       '1928 - Tumori maligni di altre sedi specificate del sistema nervoso#2753',\n",
       "       '20500 - Leucemia mieloide -  acuta -  senza menzione di remissione#2282',\n",
       "       '1718 - Tumori maligni di altre sedi specificate del connettivo e di altri tessuti molli#2557',\n",
       "       \"1468 - Tumori maligni di altre sedi (specificate) dell'orofaringe#2524\",\n",
       "       '1470 - Tumori maligni della parete superiore del rinofaringe#2010=0',\n",
       "       '1809 - Tumori maligni della cervice uterina -  non specificata#2104',\n",
       "       '332 - Morbo di Parkinson#2403',\n",
       "       '20290 - Altre neoplasie maligne non specificate del tessuto linfoide ed istiocitario -  sito non specificato -  organi solidi o siti extranodali#2258',\n",
       "       '5716 - Cirrosi biliare#2358',\n",
       "       '1990 - Tumori maligni disseminati senza indicazione della sede#2168',\n",
       "       '1625 - Tumori maligni del lobo inferiore, bronco o polmone#2067=0',\n",
       "       '1541 - Tumori maligni del retto#2044=0',\n",
       "       'V667 - Cure palliative#2402=0',\n",
       "       '1538 - Tumori maligni di altre sedi (specificate) del grosso intestino#2041',\n",
       "       '7895 - Ascite#2738=0',\n",
       "       \"1504 - Tumori maligni del terzo medio dell'esofago#2020\",\n",
       "       '7101 Sclerosi sistemica#2759=0',\n",
       "       '1911 - Tumori maligni del lobo frontale#2131',\n",
       "       '33119 - Altra demenza frontotemporale#2748',\n",
       "       '1809 - Tumori maligni della cervice uterina, non specificata#2104=0',\n",
       "       '1741 - Tumori maligni della parte centrale della mammella della donna#2085',\n",
       "       '1749 - Tumori maligni della mammella (della donna), non specificata#2092',\n",
       "       '20301 - Mieloma multiplo -  in remissione#2267',\n",
       "       '5712 - Cirrosi epatica alcolica#2732=0',\n",
       "       '1550 - Tumori maligni primitivi del fegato#2048=0',\n",
       "       '1977 - Tumori maligni secondari del fegato, specificati come metastatici#2155=0',\n",
       "       '1629 - Tumori maligni del bronco o polmone, non specificato#2069',\n",
       "       '185 - Tumori maligni della prostata#2112=0',\n",
       "       '1409 - Tumori maligni del labbro non specificati -  bordo roseo#2484',\n",
       "       '23875 - Sindrome mielodisplastica, non specificata#2616=0',\n",
       "       '1431 - Tumori maligni della gengiva inferiore#2500',\n",
       "       '1568 - Tumori maligni di altre sedi (specificate) della colecisti e dei dotti biliari extraepatici#2054',\n",
       "       '1976 - Tumori maligni secondari di retroperitoneo e peritoneo#2154=0',\n",
       "       '1536 - Tumori maligni del colon ascendente#2039=0',\n",
       "       \"1727 - Melanoma maligno dell'arto inferiore -  compresa l'anca#2612\",\n",
       "       '1884 - Tumori maligni della parete posteriore della vescica#2117=0',\n",
       "       '4149 - Cardiopatia ischemica cronica non specificata#2341',\n",
       "       \"1986 - Tumori maligni secondari dell'ovaio#2163\",\n",
       "       '20500 - Leucemia mieloide, acuta, senza menzione di remissione#2282=0',\n",
       "       \"1820 - Tumori maligni del corpo dell'utero -  eccetto l'istmo#2716\",\n",
       "       '1572 - Tumori maligni della coda del pancreas#2058=0',\n",
       "       \"1529 - Tumori maligni dell'intestino tenue -  non specificato#2725\",\n",
       "       '20201 - Linfoma nodulare -  linfonodi della testa e del collo#2206',\n",
       "       '1561 - Tumori maligni dei dotti biliari extraepatici#2052',\n",
       "       '20530 - Sarcoma mieloide -  senza menzione di remissione#2288',\n",
       "       \"191 - Tumori maligni dell'encefalo#2968\",\n",
       "       '188 - Tumori maligni della vescica#2955=0',\n",
       "       \"1726 - Melanoma maligno dell'arto superiore -  compresa la spalla#2611\",\n",
       "       '1725 - Melanoma maligno del tronco, eccetto lo scroto#2610',\n",
       "       \"1731 - Altri tumori maligni della palpebra -  compreso l'angolo palpebrale#2560\",\n",
       "       '1888 - Tumori maligni di altre specificate sedi della vescica#2121=0',\n",
       "       \"191 - Tumori maligni dell'encefalo#2968=0\",\n",
       "       '1883 - Tumori maligni della parete anteriore della vescica#2116',\n",
       "       '2059 - Leucemia mieloide -  non specificata#3057',\n",
       "       '157 - Tumori maligni del pancreas#2904',\n",
       "       \"154 - Tumori maligni del retto -  della giunzione rettosigmoidea e dell'ano#2901\",\n",
       "       '2904 - Demenza vascolare#3288=0',\n",
       "       '199 - Tumori maligni senza indicazione della sede#2991',\n",
       "       '1840 - Tumori maligni della vagina#2594',\n",
       "       '23875 - Sindrome mielodisplastica -  non specificata#2616',\n",
       "       '2040 - Leucemia linfoide -  acuta#3046',\n",
       "       \"1509 - Tumori maligni dell'esofago, non specificato#2023=0\",\n",
       "       '174 - Tumori maligni della mammella della donna#2933',\n",
       "       \"1502 - Tumori maligni dell'esofago addominale#2018\",\n",
       "       '189 - Tumori maligni del rene e di altri e non specificati organi urinari#2956',\n",
       "       '2399 - Tumori di natura non specificata -  sede non specificata#2727',\n",
       "       \"1501 - Tumori maligni dell'esofago toracico#2017\",\n",
       "       \"1919 - Tumori maligni dell'encefalo, non specificato#2139=0\",\n",
       "       '172 - Melanoma maligno della cute#2931',\n",
       "       '5715 - Cirrosi epatica senza menzione di alcol#2357',\n",
       "       '2900 - Demenza senile, non complicata#2317=0',\n",
       "       \"150 - Tumori maligni dell'esofago#2892\",\n",
       "       '200 - Linfosarcoma e reticolosarcoma#2993',\n",
       "       '188 - Tumori maligni della vescica#2955',\n",
       "       '33182 - Demenza con corpi di Lewy#3457',\n",
       "       '156 - Tumori maligni della colecisti e dei dotti biliari extraepatici#2903',\n",
       "       '1882 - Tumori maligni della parete laterale della vescica#2115',\n",
       "       '162 - Tumori maligni della trachea -  dei bronchi e dei polmoni#2916',\n",
       "       '1412 - Tumori della punta e dei margini laterali della lingua#2487',\n",
       "       'V1004 - Anamnesi personale di tumore maligno dello stomaco#4430',\n",
       "       '1590 - Tumori maligni del tratto intestinale -  parte non specificata#2907',\n",
       "       '4379 - Vasculopatie cerebrali non specificate#2346=0',\n",
       "       '2030 - Mieloma multiplo#3042',\n",
       "       '4912 - Bronchite cronica ostruttiva#3743',\n",
       "       '202 - Altre neoplasie maligne del tessuto linfatico ed istiocitario#3019',\n",
       "       'V667 - Cure palliative#2402', '591 - Idronefrosi#2706=0',\n",
       "       '0461 - Malattia di Jakob-Creutzfeldt#2723=0',\n",
       "       '1718 - Tumori maligni di altre sedi specificate del connettivo e di altri tessuti molli#2557=0',\n",
       "       \"1830 - Tumori maligni dell'ovaio#2105=0\",\n",
       "       '2904 - Demenza vascolare#3288',\n",
       "       '1520 - Tumori maligni del duodeno#2895',\n",
       "       '29043 - Demenza vascolare con umore depresso#3292',\n",
       "       '1709 - Tumori maligni di osso e cartilagine articolare -  sede non specificata#2083',\n",
       "       \"1505 - Tumori maligni del terzo inferiore dell'esofago#2021\",\n",
       "       \"1501 - Tumori maligni dell'esofago toracico#2017=0\",\n",
       "       '153 - Tumori maligni del colon#2900',\n",
       "       '2048 - Altre leucemie linfatiche#3049',\n",
       "       '425 - Cardiomiopatie#3618',\n",
       "       '1571 - Tumori maligni del corpo del pancreas#2057=0',\n",
       "       '2900 - Demenza senile -  non complicata#2317',\n",
       "       '6393 - Insufficienza renale#2733',\n",
       "       \"1707 - Tumori maligni delle ossa lunghe dell'arto inferiore#2081\",\n",
       "       '2050 - Leucemia mieloide, acuta#3052=0',\n",
       "       '1510 - Tumori maligni del cardias#2024',\n",
       "       \"1512 - Tumori maligni dell'antro pilorico#2026\",\n",
       "       '20280 - Altri linfomi -  sito non specificato -  organi solidi o siti extranodali#2249',\n",
       "       '1460 - Tumori maligni della tonsilla#2516',\n",
       "       '20300 - Mieloma multiplo, senza menzione di remissione#2266=0',\n",
       "       \"1892 - Tumori maligni dell'uretere#2125=0\",\n",
       "       '1881 - Tumori maligni della cupola vescicale#2114',\n",
       "       '49122 - Bronchite cronica ostruttiva con bronchite acuta#3744=0',\n",
       "       '1991 - Altri tumori maligni senza indicazione della sede#2992=0',\n",
       "       '4280 - Insufficienza cardiaca congestizia (scompenso cardiaco congestizio)#2579=0',\n",
       "       '1958 - Tumori maligni di altre sedi specificate#2986',\n",
       "       \"1508 - Tumori maligni di altra parte specificata dell'esofago#2022\",\n",
       "       '1723 - Melanoma maligno di altre e non specificate parti della faccia#2608',\n",
       "       '1890 - Tumori maligni del rene, eccetto la pelvi#2123',\n",
       "       '1738 - Altri tumori maligni di altre sedi specificate della cute#2567=0',\n",
       "       '1912 - Tumori maligni del lobo temporale#2132',\n",
       "       \"1503 - Tumori maligni del terzo superiore dell'esofago#2019\",\n",
       "       '431 - Emorragia cerebrale#3627=0', '99591 - Sepsi#4384=0',\n",
       "       '34839 - Altre encefalopatie#3539',\n",
       "       '20022 - Linfoma o tumore di Burkitt, linfonodi intratoracici, mediastinici#2189=0',\n",
       "       '5761 - Colangite#3856',\n",
       "       '1710 - Tumori maligni di testa -  faccia e collo#2550',\n",
       "       '7242 - Lombalgia#3999',\n",
       "       '1638 - Tumori maligni di altre sedi specificate della pleura#2072',\n",
       "       '1913 - Tumori maligni del lobo parietale#2133',\n",
       "       '20028 - Linfoma o tumore di Burkitt -  linfonodi di siti multipli#2195',\n",
       "       '20200 - Linfoma nodulare -  sito non specificato -  organi solidi o siti extranodali#2205',\n",
       "       '20510 - Leucemia mieloide -  cronica -  senza menzione di remissione#2284',\n",
       "       '1569 - Tumori maligni delle vie biliari, non specificate#2055',\n",
       "       '25000 - Diabete mellito -  tipo II o non specificato -  non definito se scompensato -  senza specificato -  non definito se controllato -  senza menzione di complicanze#2314',\n",
       "       '1551 - Tumori maligni dei dotti biliari intraepatici#2049',\n",
       "       '1884 - Tumori maligni della parete posteriore della vescica#2117',\n",
       "       '1530 - Tumori maligni del flessura epatica#2033',\n",
       "       'V099 - Infezione da microorganismi resistenti ai farmaci -  non specificata#4422',\n",
       "       '2308 - Carcinomi in situ di fegato e vie biliari#3086',\n",
       "       '71500 - Artrosi generalizzata, sedi non specificate#2637=0',\n",
       "       '1961 - Tumori maligni secondari e non specificati dei linfonodi intratoracici#2141=0',\n",
       "       '0010 - Colera da vibrio cholerae#2005=0',\n",
       "       '1872 - Tumori maligni del glande#2947',\n",
       "       '1552 - Tumori maligni del fegato, non specificato se primitivi o secondari#2050=0',\n",
       "       '1719 - Tumori maligni di connettivo e altri tessuti molli, sede non specificata#2558=0',\n",
       "       \"2564 - Sindrome dell'ovaio policistico#3144\",\n",
       "       '1742 - Tumori maligni del quadrante supero-interno della mammella della donna#2086',\n",
       "       \"1727 - Melanoma maligno dell'arto inferiore, compresa l'anca#2612=0\",\n",
       "       '1623 - Tumori maligni del lobo superiore, bronco o polmone#2065',\n",
       "       '1640 - Tumori maligni del timo#2919',\n",
       "       '1551 - Tumori maligni dei dotti biliari intraepatici#2049=0',\n",
       "       \"1726 - Melanoma maligno dell'arto superiore, compresa la spalla#2611\",\n",
       "       \"1543 - Tumori maligni dell'ano -  non specificato#2046\",\n",
       "       \"179 - Tumori maligni dell'utero, parte non specificata#2601\",\n",
       "       '1519 - Tumori maligni dello stomaco, non specificato#2032',\n",
       "       '51883 - Insufficienza respiratoria cronica#2353=0',\n",
       "       '1991 - Altri tumori maligni senza indicazione della sede#2992',\n",
       "       '1639 - Tumori maligni della pleura, non specificata#2073',\n",
       "       \"1737 - Altri tumori maligni della cute dell'arto inferiore, compresa l'anca#2566\",\n",
       "       '1539 - Tumori maligni del colon, non specificato#2042',\n",
       "       '4380 - Deficit cognitivo#2347',\n",
       "       '2331 - Carcinomi in situ della cervice uterina#3107',\n",
       "       '1531 - Tumori maligni del colon trasverso#2034',\n",
       "       '20280 - Altri linfomi, sito non specificato, organi solidi o siti extranodali#2249',\n",
       "       '1717 - Tumori maligni del tronco, non specificato#2556=0',\n",
       "       '1983 - Tumori maligni secondari di encefalo e midollo spinale#2160=0',\n",
       "       '1768 - Sarcoma di Kaposi di altre sedi specificate#2099',\n",
       "       '2902 - Demenza senile con aspetti deliranti o depressivi#3284',\n",
       "       \"1919 - Tumori maligni dell'encefalo, non specificato#2139\",\n",
       "       '1809 - Tumori maligni della cervice uterina, non specificata#2104',\n",
       "       '2399 - Tumori di natura non specificata, sede non specificata#2727=0',\n",
       "       '2399 - Tumori di natura non specificata, sede non specificata#2727',\n",
       "       '1418 - Tumori di altre sedi della lingua#2492=0',\n",
       "       '1929 - Tumori maligni del sistema nervoso, parte non specificata#2754',\n",
       "       '20021 - Linfoma o tumore di Burkitt, linfonodi della testa e del collo#2188',\n",
       "       '20028 - Linfoma o tumore di Burkitt, linfonodi di siti multipli#2195',\n",
       "       '4289 - Insufficienza cardiaca non specificata (scompenso cardiaco non specificato)#2581=0',\n",
       "       '1552 - Tumori maligni del fegato, non specificato se primitivi o secondari#2050',\n",
       "       \"20025 - Linfoma o tumore di Burkitt, linfonodi inguinali e dell'arto inferiore#2192\",\n",
       "       '29021 - Demenza senile con aspetti depressivi#3286',\n",
       "       \"1509 - Tumori maligni dell'esofago, non specificato#2023\",\n",
       "       '4254 - Altre cardiomiopatie primitive#4570=0',\n",
       "       '3321 - Parkinsonismo secondario#2324',\n",
       "       '20200 - Linfoma nodulare, sito non specificato, organi solidi o siti extranodali#2205',\n",
       "       '1910 - Tumori maligni del cervello, eccetto lobi e ventricoli#2130',\n",
       "       '20300 - Mieloma multiplo, senza menzione di remissione#2266',\n",
       "       '2012 - Sarcoma di Hodgkin#2999',\n",
       "       '1515 - Tumori maligni della piccola curvatura, non specificata#2029',\n",
       "       '20520 - Leucemia mieloide, subacuta, senza menzione di remissione#2286',\n",
       "       '20287 - Altri linfomi, milza#2256',\n",
       "       'V1046 - Anamnesi personale di tumore maligno della prostata#4451',\n",
       "       '1724 - Melanoma maligno di cuoio capelluto e collo#2609',\n",
       "       '3382 - Dolore cronico#3500',\n",
       "       '51881 - Insufficienza respiratoria acuta#2746',\n",
       "       \"1469 - Tumori maligni dell'orofaringe, non specificato#2525=0\",\n",
       "       '20410 - Leucemia linfoide, cronica, senza menzione di remissione#2274',\n",
       "       '1419 - Tumori della lingua, non specificata#2493=0',\n",
       "       '515 - Fibrosi polmonare post infiammatoria#2777',\n",
       "       '1983 - Tumori maligni secondari di encefalo e midollo spinale#2160',\n",
       "       '29040 - Demenza vascolare, non complicata#3289',\n",
       "       '49121 - Bronchite cronica ostruttiva, con esacerbazione (acuta)#2588',\n",
       "       '5859 - Malattia renale cronica, non specificata#2617',\n",
       "       '1729 - Melanoma cutaneo, sede non specificata#2614=0',\n",
       "       \"1820 - Tumori maligni del corpo dell'utero, eccetto l'istmo#2716\",\n",
       "       '27730 - Amiloidosi, non specificata#3185=0',\n",
       "       '51884 - Insufficienza respiratoria acuta e cronica#2354',\n",
       "       '1624 - Tumori maligni del lobo medio, bronco o polmone#2066',\n",
       "       '1625 - Tumori maligni del lobo inferiore, bronco o polmone#2067',\n",
       "       '1960 - Tumori maligni secondari e non specificati dei linfonodi di testa, faccia e collo#2140',\n",
       "       '20208 - Linfoma nodulare, linfonodi di siti multipli#2213=0',\n",
       "       '34591 - Epilessia, non specificata, con epilessia non trattabile#3534',\n",
       "       \"1548 - Altri tumori maligni del retto, della giunzione rettosigmoidea e dell'ano#2047\",\n",
       "       '20500 - Leucemia mieloide, acuta, senza menzione di remissione#2282',\n",
       "       '20208 - Linfoma nodulare, linfonodi di siti multipli#2213',\n",
       "       \"1562 - Tumori maligni dell'ampolla di Vater#2053=0\",\n",
       "       'V1079 - Anamnesi personale di altri tumori linfatici e degli organi ematopoietici#4470',\n",
       "       '1716 - Tumori maligni della pelvi#2555',\n",
       "       '1419 - Tumori della lingua, non specificata#2493',\n",
       "       \"1522 - Tumori maligni dell'ileo#2897\",\n",
       "       '1977 - Tumori maligni secondari del fegato, specificati come metastatici#2155',\n",
       "       '4371 - Altre vasculopatie ischemiche cerebrali generalizzate#3634',\n",
       "       '1710 - Tumori maligni di testa, faccia e collo#2550=0',\n",
       "       '20510 - Leucemia mieloide, cronica, senza menzione di remissione#2284=0',\n",
       "       '2041 - Leucemia linfoide, cronica#3047',\n",
       "       \"1500 - Tumori maligni dell'esofago cervicale#2016=0\",\n",
       "       \"1713 - Tumori maligni dell'arto inferiore -  compresa l'anca#2552\",\n",
       "       '1439 - Tumori maligni della gengiva, non specificata#2502',\n",
       "       '20480 - Altre leucemie linfatiche, senza menzione di remissione#2278=0',\n",
       "       '1628 - Tumori maligni di altre parti dei bronchi o dei polmoni#2068=0',\n",
       "       '781 - Sintomi interessanti i sistemi nervoso e osteomuscolare#4187',\n",
       "       '3334 - Corea di Huntington#3467=0',\n",
       "       '1452 - Tumori maligni del palato duro#2509=0',\n",
       "       '2252 - Tumori benigni delle meningi cerebrali#4569=0',\n",
       "       '29020 - Demenza senile con aspetti deliranti#3285',\n",
       "       '23875 - Sindrome mielodisplastica, non specificata#2616',\n",
       "       '1618 - Tumori maligni di altre sedi specificate della laringe#2603',\n",
       "       '1514 - Tumori maligni del corpo dello stomaco#2028=0',\n",
       "       '4918 - Altre bronchiti croniche#2585',\n",
       "       '1970 - Tumori maligni secondari del polmone#2148=0',\n",
       "       '586 - Insufficienza renale cronica#2363=0',\n",
       "       '1479 - Tumori maligni del rinofaringe, non specificato#2015=0',\n",
       "       '4409 - Aterosclerosi gneralizzata e non specificata#3655',\n",
       "       '1542 - Tumori maligni del canale anale#2045=0',\n",
       "       '1421 - Tumori maligni della ghiandola sottomandibolare#2495=0',\n",
       "       '7687 - Encefalopatia ipossico-ischemica#4109',\n",
       "       '1953 - Tumori maligni della pelvi#2984',\n",
       "       '1412 - Tumori della punta e dei margini laterali della lingua#2487=0',\n",
       "       '2334 - Carcinomi in situ della prostata#3110',\n",
       "       '1882 - Tumori maligni della parete laterale della vescica#2115=0',\n",
       "       'V1009 - Anamnesi personale di tumore maligno di altre sedi del tratto gastrointestinale#4434',\n",
       "       '1601 - Tumori maligni di tuba uditiva, orecchio medio e cellule mastoidee#2543',\n",
       "       '2859 - Anemia, non specificata#2572',\n",
       "       \"1721 - Melanoma maligno della palpebra, compreso l'angolo palpebrale#2606\",\n",
       "       '1590 - Tumori maligni del tratto intestinale, parte non specificata#2907',\n",
       "       \"1528 - Tumori maligni di altre sedi (specificate) dell'intestino tenue#2899\",\n",
       "       '5849 - Insufficienza renale acuta, non specificata#3867',\n",
       "       \"1918 - Tumori maligni di altre parti dell'encefalo#2138=0\",\n",
       "       '73300 - Osteoporosi non specificata#4019',\n",
       "       \"1917 - Tumori maligni del tronco dell'encefalo Mesencefalo#2137=0\",\n",
       "       '768 - Ipossia intrauterina e asfissia alla nascita#4106',\n",
       "       '1455 - Tumori maligni del palato, non specificato#2512',\n",
       "       '1421 - Tumori maligni della ghiandola sottomandibolare#2495',\n",
       "       '1441 - Tumori maligni della parte laterale della bocca#2504',\n",
       "       '1603 - Tumori maligni del seno etmoidale#2545',\n",
       "       '1719 - Tumori maligni di connettivo e altri tessuti molli, sede non specificata#2558',\n",
       "       'V109 - Anamnesi personale di tumore maligno non specificato#4481',\n",
       "       '1510 - Tumori maligni del cardias#2024=0',\n",
       "       '2800 - Anemia da carenza di ferro secondaria a perdita ematica (cronica)#3210',\n",
       "       '20282 - Altri linfomi, linfonodi intratoracici, mediastinici#2251=0',\n",
       "       '2941 - Demenza in condizioni patologiche classificate altrove#3310',\n",
       "       '600 - Iperplasia della prostata#3884',\n",
       "       '2312 - Carcinomi in situ di bronchi e polmoni#3091',\n",
       "       '2323 - Carcinomi in situ della cute di altre e non specificate parti della faccia#3098',\n",
       "       '1573 - Tumori maligni del dotto pancreatico#2059',\n",
       "       'V1303 - Anamnesi personale di sindrome nefrosica#4500',\n",
       "       '1916 - Tumori maligni del cervelletto, SAI#2136',\n",
       "       '1618 - Tumori maligni di altre sedi specificate della laringe#2603=0',\n",
       "       'V1006 - Anamnesi personale di tumore maligno di retto, giunzione rettosigmoidea e ano#4432',\n",
       "       '1940 - Tumori maligni delle ghiandole surrenali#2972',\n",
       "       '4299 - Cardiopatia non specificata#3625=0',\n",
       "       '20190 - Malattia di Hodgkin, non specificata, sito non specificato, organi solidi o siti extranodali#3010=0',\n",
       "       '1838 - Tumori maligni di altre sedi specificate degli annessi uterini#2110',\n",
       "       '1808 - Tumori maligni di altre sedi specificate della cervice#2103',\n",
       "       \"1529 - Tumori maligni dell'intestino tenue, non specificato#2725\",\n",
       "       '20600 - Leucemia monocitica, acuta, senza menzione di remissione#2294=0',\n",
       "       '7994 - Cachessia#2765=0',\n",
       "       '1610 - Tumori maligni della glottide#2913',\n",
       "       '1733 - Altri tumori maligni della cute di altre e non specificate parti della faccia#2562',\n",
       "       '1748 - Tumori maligni della altre sedi specificate della mammella della donna#2091=0',\n",
       "       \"1535 - Tumori maligni dell'appendice#2038=0\",\n",
       "       '5712 - Cirrosi epatica alcolica#2732',\n",
       "       '1975 - Tumori maligni secondari di colon e retto#2153',\n",
       "       '33119 - Altra demenza frontotemporale#2748=0',\n",
       "       '4299 - Cardiopatia non specificata#3625',\n",
       "       '3485 - Edema cerebrale#3541', '4471 - Stenosi di arterie#3667=0',\n",
       "       '2019 - Malattia di Hodgkin, non specificata#3009',\n",
       "       'V1052 - Anamnesi personale di tumore maligno del rene#4458',\n",
       "       '4388 - Altri postumi di malattie cerebrovascolari#3648=0',\n",
       "       '29411 - Demenza in condizioni patologiche classificate altrove, con disturbi comportamentali#3312',\n",
       "       '1844 - Tumori maligni della vulva, non specificata#2598',\n",
       "       '4019 - Ipertensione essenziale non specificata#2334',\n",
       "       '7854 - Gangrena#4220=0',\n",
       "       \"1759 - Tumori maligni di altre e non specificate sedi della mammella dell'uomo#2936\",\n",
       "       \"V1005 - Anamnesi personale di tumore maligno dell'intestino crasso#4431\",\n",
       "       '20280 - Altri linfomi, sito non specificato, organi solidi o siti extranodali#2249=0',\n",
       "       'V103 - Anamnesi personale di tumore maligno della mammella#4443=0',\n",
       "       '1951 - Tumori maligni del torace#2982', 'V5631 - Emodialisi#4538',\n",
       "       \"1543 - Tumori maligni dell'ano, non specificato#2046\",\n",
       "       '5118 - Altre forme specificate di versamento pleurico, eccetto il tubercolare#2730',\n",
       "       '3320 - Paralisi agitante#2403', '340 - Sclerosi multipla#2327',\n",
       "       \"1502 - Tumori maligni dell'esofago addominale#2018=0\",\n",
       "       '4169 - Malattia cardiopolmonare cronica, non specificata#2342=0',\n",
       "       '2900 - Demenza senile, non complicata#2317',\n",
       "       '4414 - Aneurisma addominale senza menzione di rottura#3658',\n",
       "       '2252 - Tumori benigni delle meningi cerebrali#4569',\n",
       "       '1898 - Tumori maligni di altre specificate sedi degli organi urinari#2128',\n",
       "       '20013 - Linfosarcoma, linfonodi intraaddominali#2181=0',\n",
       "       '3352 - Malattia del motoneurone#3486',\n",
       "       '1921 - Tumori maligni delle meningi cerebrali#2750',\n",
       "       '431 - Emorragia cerebrale#3627',\n",
       "       '28521 - Anemia in malattia cronica renale#2573',\n",
       "       '1975 - Tumori maligni secondari di colon e retto#2153=0',\n",
       "       '28989 - Altre malattie specificate del sangue e degli organi ematopoietici#3276',\n",
       "       '3320 - Paralisi agitante#2403=0',\n",
       "       '2330 - Carcinomi in situ della mammella#3106',\n",
       "       '1532 - Tumori maligni del colon discendente#2035=0',\n",
       "       '1631 - Tumori maligni della pleura viscerale#2071',\n",
       "       '20420 - Leucemia linfoide, subacuta, senza menzione di remissione#2276',\n",
       "       'V1011 - Anamnesi personale di tumore maligno di bronchi e polmoni#4436',\n",
       "       '51883 - Insufficienza respiratoria cronica#2353',\n",
       "       '4150 - Cuore polmonare acuto#2576',\n",
       "       \"1732 - Altri tumori maligni della cute dell'orecchio e del condotto uditivo esterno#2561\",\n",
       "       '20288 - Altri linfomi, linfonodi di siti multipli#2257',\n",
       "       '7893 - Tumefazione, massa o protuberanza addominale o pelvica#4285',\n",
       "       '07051 - Epatite C acuta senza menzione di coma epatico#2852',\n",
       "       '1839 - Tumori maligni degli annessi uterini, non specificati#2111',\n",
       "       '3438 - Altre specificate paralisi cerebrali infantili#3514',\n",
       "       '199 - Tumori maligni senza indicazione della sede#2991=0',\n",
       "       \"1828 - Tumori maligni di altre specificate sedi del corpo dell'utero#2718=0\",\n",
       "       '1728 - Melanoma maligno di altre sedi specificate della cute#2613=0',\n",
       "       '1580 - Tumori maligni del retroperitoneo#2620=0',\n",
       "       '2337 - Carcinomi in situ della vescica#3113',\n",
       "       '4321 - Emorragia subdurale#3628',\n",
       "       '1709 - Tumori maligni di osso e cartilagine articolare, sede non specificata#2083',\n",
       "       '578 - Emorragia gastrointestinale#3860',\n",
       "       '1619 - Tumori maligni della laringe, non specificata#2604',\n",
       "       \"20204 - Linfoma nodulare, linfonodi ascellari e dell'arto superiore#2209\",\n",
       "       \"56089 - Altra occlusione specificata dell'intestino#2715\",\n",
       "       '20192 - Malattia di Hodgkin, non specificata, linfonodi intratoracici, mediastinici#3012',\n",
       "       '7824 - Ittero non specificato, non del neonato#4203=0',\n",
       "       \"1505 - Tumori maligni del terzo inferiore dell'esofago#2021=0\",\n",
       "       '1540 - Tumori maligni della giunzione rettosigmoidea#2043=0',\n",
       "       '1420 - Tumori maligni della ghiandola parotide#2494',\n",
       "       '20380 - Altre neoplasie immunoproliferative, senza menzione di remissione#2270',\n",
       "       '2002 - Linfoma o tumore di Burkitt#2996=0',\n",
       "       '4254 - Altre cardiomiopatie primitive#4570',\n",
       "       '1729 - Melanoma cutaneo, sede non specificata#2614',\n",
       "       '20020 - Linfoma o tumore di Burkitt, sito non specificato, organi solidi o siti extranodali#2187',\n",
       "       '23691 - Tumori di comportamento incerto di rene e uretere#2772=0',\n",
       "       '1710 - Tumori maligni di testa, faccia e collo#2550',\n",
       "       '1638 - Tumori maligni di altre sedi specificate della pleura#2072=0',\n",
       "       '20281 - Altri linfomi, linfonodi della testa e del collo#2250',\n",
       "       '1838 - Tumori maligni di altre sedi specificate degli annessi uterini#2110=0',\n",
       "       '40291 - Cardiopatia ipertensiva non specificata con insufficienza cardiaca#2335',\n",
       "       '5119 - Versamento pleurico non specificato#2589=0',\n",
       "       '43811 - Afasia#3639', '340 - Sclerosi multipla#2327=0',\n",
       "       '73301 - Osteoporosi senile#4020',\n",
       "       '1743 - Tumori maligni del quadrante infero-interno della mammella della donna#2087=0',\n",
       "       '19889 - Tumori maligni secondari di altre sedi specificate#2167',\n",
       "       '49120 - Bronchite cronica ostruttiva, senza esacerbazione#2587',\n",
       "       '1588 - Tumori maligni di parti specificate del peritoneo#2621=0',\n",
       "       '20121 - Sarcoma di Hodgkin, linfonodi della testa e del collo#3001=0',\n",
       "       '1899 - Tumori maligni degli organi urinari, sede non specificata#2129',\n",
       "       \"1801 - Tumori maligni dell'esocervice#2102\",\n",
       "       \"1727 - Melanoma maligno dell'arto inferiore, compresa l'anca#2612\",\n",
       "       '1499 - Tumori maligni di sedi mal definite delle labbra, della cavità orale e della faringe#2541=0',\n",
       "       '1410 - Tumori della base della lingua#2485=0',\n",
       "       '2899 - Malattie del sangue e degli organi ematopoietici non specificate#3277',\n",
       "       '2324 - Carcinomi in situ di cuoio capelluto e cute del collo#3099',\n",
       "       '1735 - Altri tumori maligni della cute del tronco, eccetto lo scroto#2564',\n",
       "       '261 - Marasma da denutrizione#3145',\n",
       "       '1513 - Tumori maligni del fondo dello stomaco#2027=0',\n",
       "       '2903 - Demenza senile con delirium#3287=0',\n",
       "       '2001 - Linfosarcoma#2995',\n",
       "       '5715 - Cirrosi epatica senza menzione di alcol#2357=0',\n",
       "       '20200 - Linfoma nodulare, sito non specificato, organi solidi o siti extranodali#2205=0',\n",
       "       \"3312 - Degenerazione senile dell'encefalo#3451\",\n",
       "       '4160 - Ipertensione polmonare primitiva#2694',\n",
       "       '20202 - Linfoma nodulare, linfonodi intratoracici, mediastinici#2207',\n",
       "       '57140 - Epatite cronica, non specificata#2359',\n",
       "       '7994 - Cachessia#2765',\n",
       "       '1479 - Tumori maligni del rinofaringe, non specificato#2015',\n",
       "       '49121 - Bronchite cronica ostruttiva, con esacerbazione (acuta)#2588=0',\n",
       "       \"1488 - Tumori maligni di altre sedi (specificate) dell'ipofaringe#2536\",\n",
       "       '1452 - Tumori maligni del palato duro#2509',\n",
       "       '20002 - Reticolosarcoma, linfonodi intratoracici, mediastinici#2171',\n",
       "       \"1800 - Tumori maligni dell'endocervice#2101=0\",\n",
       "       '042 - Infezione da virus della immunodeficienza umana (HIV)#2823=0',\n",
       "       '7824 - Ittero non specificato, non del neonato#4203',\n",
       "       '261 - Marasma da denutrizione#3145=0',\n",
       "       '5900 - Pielonefrite cronica#3869',\n",
       "       '1891 - Tumori maligni della pelvi renale#2124=0',\n",
       "       '1880 - Tumori maligni del trigono vescicale#2113',\n",
       "       '5849 - Insufficienza renale acuta, non specificata#3867=0',\n",
       "       '9985 - Infezione postoperatoria, non classificata altrove#4387',\n",
       "       '42731 - Fibrillazione atriale#2344',\n",
       "       '1589 - Tumori maligni del peritoneo, non specificato#2622',\n",
       "       '4449 - Embolia e trombosi di arteria non specificata#2348=0',\n",
       "       '41511 - Embolia polmonare e infarto polmonare iatrogeni#2577',\n",
       "       '2051 - Leucemia mieloide, cronica#3053',\n",
       "       '1499 - Tumori maligni di sedi mal definite delle labbra, della cavità orale e della faringe#2541',\n",
       "       '4380 - Deficit cognitivo#2347=0',\n",
       "       '1411 - Tumori della superficie dorsale della lingua#2486=0',\n",
       "       \"1489 - Tumori maligni dell'ipofaringe, non specificato#2537\",\n",
       "       '1649 - Tumori maligni del mediastino, non specificato#2924',\n",
       "       '1745 - Tumori maligni del quadrante infero-esterno della mammella della donna#2089=0',\n",
       "       '430 - Emorragia subaracnoidea#3626',\n",
       "       '25000 - Diabete mellito, tipo II o non specificato, non definito se scompensato, senza specificato, non definito se controllato, senza menzione di complicanze#2314=0',\n",
       "       '1418 - Tumori di altre sedi della lingua#2492',\n",
       "       '1916 - Tumori maligni del cervelletto, SAI#2136=0',\n",
       "       '7854 - Gangrena#4220', '1640 - Tumori maligni del timo#2919=0',\n",
       "       '5169 - Pneumopatie alveolari e parietoalveolari non specificate#4572=0',\n",
       "       '1950 - Tumori maligni di testa, faccia e collo#2981',\n",
       "       \"1731 - Altri tumori maligni della palpebra, compreso l'angolo palpebrale#2560\",\n",
       "       '1478 - Tumori maligni di altre sedi specificate del rinofaringe#2014',\n",
       "       '6393 - Insufficienza renale#2733=0',\n",
       "       \"V1043 - Anamnesi personale di tumore maligno dell'ovaio#4448\",\n",
       "       '1542 - Tumori maligni del canale anale#2045',\n",
       "       '1490 - Tumori maligni della faringe, non specificata#2538',\n",
       "       '1739 - Altri tumori maligni della cute, sede non specificata#2568=0',\n",
       "       '1702 - Tumori maligni delle colonna vertebrale, esclusi il sacro e il coccige#2076',\n",
       "       '3449 - Paralisi, non specificata#3525',\n",
       "       '1459 - Tumori maligni della bocca, non specificata#2515',\n",
       "       '40493 - Cardionefropatia ipertensiva non specificata con insufficienza cardiaca congestizia e insufficienza renale#2339',\n",
       "       '1746 - Tumori maligni del prolungamento ascellare della mammella della donna#2090',\n",
       "       \"1598 - Tumori maligni di altre sedi dell'apparato digerente e degli organi intraaddominali#2909\",\n",
       "       '20000 - Reticolosarcoma, sito non specificato, organi solidi o siti extranodali#2169',\n",
       "       '1478 - Tumori maligni di altre sedi specificate del rinofaringe#2014=0',\n",
       "       '4168 - Altre forme di malattia cardiopolmonare#2696',\n",
       "       'V103 - Anamnesi personale di tumore maligno della mammella#4443',\n",
       "       '1573 - Tumori maligni del dotto pancreatico#2059=0',\n",
       "       '34830 - Encefalopatia non specificata#3537',\n",
       "       '3314 - Idrocefalo ostruttivo#3453',\n",
       "       \"20015 - Linfosarcoma, linfonodi inguinali e dell'arto inferiore#2183\",\n",
       "       \"1468 - Tumori maligni di altre sedi (specificate) dell'orofaringe#2524=0\",\n",
       "       '34590 - Epilessia,non specificata,senza menzione di epilessia non trattabile#2767',\n",
       "       '1438 - Tumori maligni di altre sedi della gengiva#2501',\n",
       "       '51881 - Insufficienza respiratoria acuta#2746=0',\n",
       "       \"1965 - Tumori maligni secondari e non specificati dei linfonodi della regione inguinale e dell'arto inferiore#2144\",\n",
       "       '20286 - Altri linfomi, linfonodi pelvici#2255',\n",
       "       '1760 - Sarcoma di Kaposi della cute#2093',\n",
       "       \"1469 - Tumori maligni dell'orofaringe, non specificato#2525\",\n",
       "       '0463 - Leucoencefalopatia multifocale progressiva#2825',\n",
       "       '135 - Sarcoidosi#2872',\n",
       "       '1972 - Tumori maligni secondari del pleura#2150',\n",
       "       '1561 - Tumori maligni dei dotti biliari extraepatici#2052=0',\n",
       "       '1498 - Altri tumori maligni di altre e mal definite sedi delle labbra, della cavità orale e della faringe#2540',\n",
       "       '20191 - Malattia di Hodgkin, non specificata, linfonodi della testa e del collo#3011',\n",
       "       '1962 - Tumori maligni secondari e non specificati dei linfonodi intraaddominali#2142',\n",
       "       '1534 - Tumori maligni del ceco#2037=0',\n",
       "       '33524 - Sclerosi laterale primaria#3490',\n",
       "       '29041 - Demenza vascolare con delirium#3290',\n",
       "       '2089 - Leucemia non specificata#3074',\n",
       "       '1744 - Tumori maligni del quadrante supero-esterno della mammella della donna#2088=0',\n",
       "       '1588 - Tumori maligni di parti specificate del peritoneo#2621',\n",
       "       '20010 - Linfosarcoma, sito non specificato, organi solidi o siti extranodali#2178',\n",
       "       '1520 - Tumori maligni del duodeno#2895=0',\n",
       "       '1622 - Tumori maligni del bronco principale#2064',\n",
       "       '20006 - Reticolosarcoma, linfonodi pelvici#2175=0',\n",
       "       '1478 - Tumori maligni di altre sedi specificate del rinofaringe#2530=0',\n",
       "       '4941 - Bronchiectasie con riacutizzazione#3750=0',\n",
       "       '1874 - Tumori maligni del pene, parte non specificata#2949',\n",
       "       '28529 - Anemia da altre malattie croniche#2575',\n",
       "       '5609 - Occlusione intestinale non specificata#2710',\n",
       "       \"1736 - Altri tumori maligni della cute dell'arto superiore, compresa la spalla#2565\",\n",
       "       '2012 - Sarcoma di Hodgkin#2999=0',\n",
       "       '1874 - Tumori maligni del pene, parte non specificata#2949=0',\n",
       "       '20282 - Altri linfomi, linfonodi intratoracici, mediastinici#2251',\n",
       "       '20400 - Leucemia linfoide, acuta, senza menzione di remissione#2272',\n",
       "       '5184 - Edema polmonare acuto, non specificato#3765',\n",
       "       \"20205 - Linfoma nodulare, linfonodi inguinali e dell'arto inferiore#2210\",\n",
       "       '1428 - Tumori maligni di altre ghiandole salivari maggiori#2497',\n",
       "       '40492 - Cardionefropatia ipertensiva non specificata con insufficienza renale#2338',\n",
       "       '07054 - Epatite C cronica senza menzione di coma epatico#2008=0',\n",
       "       '4542 - Varici degli arti inferiori con ulcera e infiammazione#3679',\n",
       "       '33510 - Atrofia muscolare spinale, non specificata#3483',\n",
       "       '1483 - Tumori maligni della parete ipofaringea posteriore#2535',\n",
       "       '20580 - Altre leucemie mieloidi, senza menzione di remissione#2290=0',\n",
       "       '99591 - Sepsi#4384',\n",
       "       'V1000 - Anamnesi personale di tumore maligno di sede non specificata del tratto gastrointestinale#4426',\n",
       "       '29020 - Demenza senile con aspetti deliranti#3285=0',\n",
       "       '20610 - Leucemia monocitica, cronica, senza menzione di remissione#2296',\n",
       "       '7582 - Sindrome di Edward#4083',\n",
       "       '1922 - Tumori maligni del midollo spinale#2751',\n",
       "       '27739 - Altra Amiloidosi#3184',\n",
       "       '20580 - Altre leucemie mieloidi, senza menzione di remissione#2290',\n",
       "       '1844 - Tumori maligni della vulva, non specificata#2598=0',\n",
       "       '8208 - Parte non specificata del collo del femore, chiusa#4348',\n",
       "       \"1800 - Tumori maligni dell'endocervice#2101\",\n",
       "       '1641 - Tumori maligni del cuore#2920',\n",
       "       \"1543 - Tumori maligni dell'ano, non specificato#2046=0\",\n",
       "       '1649 - Tumori maligni del mediastino, non specificato#2924=0',\n",
       "       \"1704 - Tumori maligni di scapola e ossa lunghe dell'arto superiore#2078=0\",\n",
       "       '3321 - Parkinsonismo secondario#2324=0',\n",
       "       '51882 - Altre insufficienze polmonari, non classificate altrove#2352',\n",
       "       '3330 - Altre malattie degenerative dei nuclei della base#3463',\n",
       "       '20121 - Sarcoma di Hodgkin, linfonodi della testa e del collo#3001',\n",
       "       '0010 - Colera da vibrio cholerae#2005',\n",
       "       '20128 - Sarcoma di Hodgkin, linfonodi di siti multipli#3008=0',\n",
       "       '44422 - Embolia e trombosi delle arterie degli arti inferiori#3663',\n",
       "       '20690 - Leucemia monocitica, non specificata, senza menzione di remissione#2302',\n",
       "       '1516 - Tumori maligni della grande curvatura, non specificata#2030',\n",
       "       '1530 - Tumori maligni del flessura epatica#2033=0',\n",
       "       '1940 - Tumori maligni delle ghiandole surrenali#2972=0',\n",
       "       \"20005 - Reticolosarcoma, linfonodi inguinali e dell'arto inferiore#2174\",\n",
       "       '34510 - epilessia generalizzata convulsiva, senza menzione di epilessia non trattabile#3528',\n",
       "       '1746 - Tumori maligni del prolungamento ascellare della mammella della donna#2090=0',\n",
       "       '4820 - Polmonite da Klebsiella pneumoniae#3720=0',\n",
       "       '20023 - Linfoma o tumore di Burkitt, linfonodi intraaddominali#2190',\n",
       "       '1839 - Tumori maligni degli annessi uterini, non specificati#2111=0',\n",
       "       '2903 - Demenza senile con delirium#3287',\n",
       "       '2394 - Tumori di natura non specificata della vescica#4588',\n",
       "       '5762 - Ostruzione del dotto biliare#3857=0',\n",
       "       '33189 - Altre degenerazioni cerebrali#3459',\n",
       "       '1745 - Tumori maligni del quadrante infero-esterno della mammella della donna#2089',\n",
       "       '4389 - Postumi non specificati di malattie cerebrovascolari#3654',\n",
       "       '1538 - Tumori maligni di altre sedi (specificate) del grosso intestino#2041=0',\n",
       "       '20590 - Leucemia mieloide, non specificata, senza menzione di remissione#2292',\n",
       "       '412 - Infarto miocardico pregresso#2340=0',\n",
       "       \"1965 - Tumori maligni secondari e non specificati dei linfonodi della regione inguinale e dell'arto inferiore#2144=0\",\n",
       "       '5070 - Polmonite da inalazione di cibo o vomito#2691=0',\n",
       "       '1722 - Melanoma maligno di orecchio e condotto uditivo esterno#2607',\n",
       "       '20018 - Linfosarcoma, linfonodi di siti multipli#2186=0',\n",
       "       '23691 - Tumori di comportamento incerto di rene e uretere#2772',\n",
       "       \"183 - Tumori maligni dell'ovaio e degli altri annessi uterini#2941\",\n",
       "       \"1503 - Tumori maligni del terzo superiore dell'esofago#2019=0\",\n",
       "       '41189 - Ulteriori forme,acute e subacute di cardiopatia ischemica#2743',\n",
       "       '20010 - Linfosarcoma, sito non specificato, organi solidi o siti extranodali#2178=0',\n",
       "       \"1598 - Tumori maligni di altre sedi dell'apparato digerente e degli organi intraaddominali#2909=0\",\n",
       "       '1849 - Tumori maligni degli organi genitali femminili, sede non specificata#2600',\n",
       "       '40391 - Nefropatia ipertensiva non specificata con patologia renale cronica di stadio V o di stadio terminale#2336',\n",
       "       \"1759 - Tumori maligni di altre e non specificate sedi della mammella dell'uomo#2776\",\n",
       "       \"1893 - Tumori maligni dell'uretra#2126=0\",\n",
       "       '20001 - Reticolosarcoma, linfonodi della testa e del collo#2170=0',\n",
       "       '20480 - Altre leucemie linfatiche, senza menzione di remissione#2278',\n",
       "       '1511 - Tumori maligni del piloro#2025',\n",
       "       '1602 - Tumori maligni del seno mascellare#2544',\n",
       "       '20120 - Sarcoma di Hodgkin, sito non specificato, organi solidi o siti extranodali#3000',\n",
       "       '2328 - Carcinomi in situ di altre sedi specificate della cute#3103',\n",
       "       '27730 - Amiloidosi, non specificata#3185',\n",
       "       '73300 - Osteoporosi non specificata#4019=0',\n",
       "       \"1508 - Tumori maligni di altra parte specificata dell'esofago#2022=0\",\n",
       "       '40493 - Cardionefropatia ipertensiva non specificata con insufficienza cardiaca congestizia e insufficienza renale#2339=0'],\n",
       "      dtype=object)"
      ]
     },
     "execution_count": 92,
     "metadata": {},
     "output_type": "execute_result"
    }
   ],
   "source": [
    "df_referral.I_ICD.unique()"
   ]
  },
  {
   "cell_type": "code",
   "execution_count": 93,
   "metadata": {},
   "outputs": [
    {
     "data": {
      "text/html": [
       "<div>\n",
       "<style scoped>\n",
       "    .dataframe tbody tr th:only-of-type {\n",
       "        vertical-align: middle;\n",
       "    }\n",
       "\n",
       "    .dataframe tbody tr th {\n",
       "        vertical-align: top;\n",
       "    }\n",
       "\n",
       "    .dataframe thead th {\n",
       "        text-align: right;\n",
       "    }\n",
       "</style>\n",
       "<table border=\"1\" class=\"dataframe\">\n",
       "  <thead>\n",
       "    <tr style=\"text-align: right;\">\n",
       "      <th></th>\n",
       "      <th>IDEHR</th>\n",
       "      <th>Data</th>\n",
       "      <th>EHRType</th>\n",
       "      <th>TimeStamp_Insert</th>\n",
       "      <th>I_ICD</th>\n",
       "      <th>survival_time_days</th>\n",
       "    </tr>\n",
       "  </thead>\n",
       "  <tbody>\n",
       "    <tr>\n",
       "      <th>482</th>\n",
       "      <td>1770</td>\n",
       "      <td>2016-04-20 23:15:00</td>\n",
       "      <td>EHR</td>\n",
       "      <td>2016-04-15 11:00:00.400</td>\n",
       "      <td>7101 Sclerosi sistemica#2759=0</td>\n",
       "      <td>5.0</td>\n",
       "    </tr>\n",
       "  </tbody>\n",
       "</table>\n",
       "</div>"
      ],
      "text/plain": [
       "     IDEHR                Data EHRType        TimeStamp_Insert  \\\n",
       "482   1770 2016-04-20 23:15:00     EHR 2016-04-15 11:00:00.400   \n",
       "\n",
       "                              I_ICD  survival_time_days  \n",
       "482  7101 Sclerosi sistemica#2759=0                 5.0  "
      ]
     },
     "execution_count": 93,
     "metadata": {},
     "output_type": "execute_result"
    }
   ],
   "source": [
    "df_referral.loc[df_referral['IDEHR'] == 1770]"
   ]
  },
  {
   "cell_type": "code",
   "execution_count": 94,
   "metadata": {},
   "outputs": [
    {
     "name": "stdout",
     "output_type": "stream",
     "text": [
      "(5600, 6)\n",
      "(5599, 6)\n"
     ]
    }
   ],
   "source": [
    "print(df_referral.shape)\n",
    "df_referral = df_referral.drop([482])\n",
    "print(df_referral.shape)"
   ]
  },
  {
   "cell_type": "code",
   "execution_count": 95,
   "metadata": {
    "scrolled": true
   },
   "outputs": [],
   "source": [
    "# clean up the diagnosis column\n",
    "from googletrans import Translator\n",
    "df_referral['Diagnosis'] = df_referral.I_ICD.str.findall('- (.+)#').to_frame()\n",
    "df_referral['Diagnosis'] = df_referral['Diagnosis'].apply(lambda x: x if isinstance(x, float) else x[0]) \n",
    "df_referral['Diag_Ref'] = df_referral.I_ICD.str.findall('(\\d+) -').to_frame()\n",
    "df_referral['Diag_Ref'] = df_referral['Diag_Ref'].apply(lambda x: x if isinstance(x, float) else int(x[0]))"
   ]
  },
  {
   "cell_type": "code",
   "execution_count": 96,
   "metadata": {},
   "outputs": [
    {
     "data": {
      "text/html": [
       "<div>\n",
       "<style scoped>\n",
       "    .dataframe tbody tr th:only-of-type {\n",
       "        vertical-align: middle;\n",
       "    }\n",
       "\n",
       "    .dataframe tbody tr th {\n",
       "        vertical-align: top;\n",
       "    }\n",
       "\n",
       "    .dataframe thead th {\n",
       "        text-align: right;\n",
       "    }\n",
       "</style>\n",
       "<table border=\"1\" class=\"dataframe\">\n",
       "  <thead>\n",
       "    <tr style=\"text-align: right;\">\n",
       "      <th></th>\n",
       "      <th>IDEHR</th>\n",
       "      <th>Data</th>\n",
       "      <th>EHRType</th>\n",
       "      <th>TimeStamp_Insert</th>\n",
       "      <th>I_ICD</th>\n",
       "      <th>survival_time_days</th>\n",
       "      <th>Diagnosis</th>\n",
       "      <th>Diag_Ref</th>\n",
       "    </tr>\n",
       "  </thead>\n",
       "  <tbody>\n",
       "    <tr>\n",
       "      <th>0</th>\n",
       "      <td>3263</td>\n",
       "      <td>2015-10-02 07:50:00</td>\n",
       "      <td>AMB</td>\n",
       "      <td>2015-09-21 10:00:18.743</td>\n",
       "      <td>1550 - Tumori maligni primitivi del fegato#2048</td>\n",
       "      <td>10.0</td>\n",
       "      <td>Tumori maligni primitivi del fegato</td>\n",
       "      <td>1550</td>\n",
       "    </tr>\n",
       "    <tr>\n",
       "      <th>2</th>\n",
       "      <td>1414</td>\n",
       "      <td>2015-10-05 11:50:00</td>\n",
       "      <td>EHR</td>\n",
       "      <td>2015-10-02 15:45:06.800</td>\n",
       "      <td>28983 - Mielofibrosi#2615</td>\n",
       "      <td>2.0</td>\n",
       "      <td>Mielofibrosi</td>\n",
       "      <td>28983</td>\n",
       "    </tr>\n",
       "    <tr>\n",
       "      <th>4</th>\n",
       "      <td>3394</td>\n",
       "      <td>2015-10-06 03:25:00</td>\n",
       "      <td>AMB</td>\n",
       "      <td>2015-09-25 18:17:56.940</td>\n",
       "      <td>1629 - Tumori maligni del bronco o polmone -  ...</td>\n",
       "      <td>10.0</td>\n",
       "      <td>Tumori maligni del bronco o polmone -  non spe...</td>\n",
       "      <td>1629</td>\n",
       "    </tr>\n",
       "    <tr>\n",
       "      <th>5</th>\n",
       "      <td>3417</td>\n",
       "      <td>2015-10-05 15:00:00</td>\n",
       "      <td>AMB</td>\n",
       "      <td>2015-09-28 17:26:59.413</td>\n",
       "      <td>1739 - Altri tumori maligni della cute -  sede...</td>\n",
       "      <td>6.0</td>\n",
       "      <td>Altri tumori maligni della cute -  sede non sp...</td>\n",
       "      <td>1739</td>\n",
       "    </tr>\n",
       "    <tr>\n",
       "      <th>6</th>\n",
       "      <td>2977</td>\n",
       "      <td>2015-10-06 06:00:00</td>\n",
       "      <td>AMB</td>\n",
       "      <td>2015-09-08 11:26:31.850</td>\n",
       "      <td>001 - Cure Palliative#2005</td>\n",
       "      <td>27.0</td>\n",
       "      <td>Cure Palliative</td>\n",
       "      <td>1</td>\n",
       "    </tr>\n",
       "  </tbody>\n",
       "</table>\n",
       "</div>"
      ],
      "text/plain": [
       "   IDEHR                Data EHRType        TimeStamp_Insert  \\\n",
       "0   3263 2015-10-02 07:50:00     AMB 2015-09-21 10:00:18.743   \n",
       "2   1414 2015-10-05 11:50:00     EHR 2015-10-02 15:45:06.800   \n",
       "4   3394 2015-10-06 03:25:00     AMB 2015-09-25 18:17:56.940   \n",
       "5   3417 2015-10-05 15:00:00     AMB 2015-09-28 17:26:59.413   \n",
       "6   2977 2015-10-06 06:00:00     AMB 2015-09-08 11:26:31.850   \n",
       "\n",
       "                                               I_ICD  survival_time_days  \\\n",
       "0    1550 - Tumori maligni primitivi del fegato#2048                10.0   \n",
       "2                          28983 - Mielofibrosi#2615                 2.0   \n",
       "4  1629 - Tumori maligni del bronco o polmone -  ...                10.0   \n",
       "5  1739 - Altri tumori maligni della cute -  sede...                 6.0   \n",
       "6                         001 - Cure Palliative#2005                27.0   \n",
       "\n",
       "                                           Diagnosis  Diag_Ref  \n",
       "0                Tumori maligni primitivi del fegato      1550  \n",
       "2                                       Mielofibrosi     28983  \n",
       "4  Tumori maligni del bronco o polmone -  non spe...      1629  \n",
       "5  Altri tumori maligni della cute -  sede non sp...      1739  \n",
       "6                                    Cure Palliative         1  "
      ]
     },
     "execution_count": 96,
     "metadata": {},
     "output_type": "execute_result"
    }
   ],
   "source": [
    "df_referral.head()"
   ]
  },
  {
   "cell_type": "code",
   "execution_count": 97,
   "metadata": {
    "scrolled": true
   },
   "outputs": [],
   "source": [
    "# ref_diag = df_referral[['Diagnosis', 'Diag_Ref']].drop_duplicates()\n",
    "# ref_diag['Diagnosis'] = ref_diag['Diagnosis'].apply(translator.translate, src='it', dest='en').apply(getattr, args=('text',))\n",
    "# print(len(ref_diag.Diagnosis.unique()), len(ref_diag.Diag_Ref.unique()))\n",
    "# ref_diag.head()"
   ]
  },
  {
   "cell_type": "code",
   "execution_count": 98,
   "metadata": {},
   "outputs": [],
   "source": [
    "# save as csv file for grouping reference\n",
    "# ref_diag.to_csv('./vidas_data/diagnosis_reference.csv')"
   ]
  },
  {
   "cell_type": "code",
   "execution_count": 99,
   "metadata": {},
   "outputs": [],
   "source": [
    "# group together similar diag \n",
    "liver_biliary = [1550, 1977, 1560, 1569, 1568, 1561, 1552, 1551, 1562, 2308]\n",
    "lung = [1629, 1625, 1624, 1623, 1970, 1628, 1630, 1639, 162, 1638, 2312, 1631, 1011, 1649, 1972, 1622, 5193]\n",
    "skin = [1739, 1728, 1738, 172, 1723, 1737, 1729, 1760, 1722, 1726, 1725, 1727,  1724]\n",
    "pancreas = [1579, 1578, 1570, 1571, 1572, 157, 1573]\n",
    "head_neck = [1619, 1488, 1489, 1467, 1450, 1471, 1468, 1412, 1460, 1710, 1418, 1420, 1469, 1419, 1439, 1479, 1421, 1601, 1721, 1441, 1603, 1618, 1610, 1459, 1499, 1411, 1950, 1490, 1478, 1438, 1452, 1410, 1428, 1483]\n",
    "genitourinary = [1891, 1890, 1892, 1899, 189, 1898, 1884, 1872, 23691, 1888, 1889, 188, 1883, 1882, 2337, 1881, 1880, 1052]\n",
    "lymphoid_leukemia = [20410, 20890, 2048, 2041, 20480, 20400, 20420, 20290, 202, 1079, 2040]\n",
    "breast = [1740, 1749, 1744, 1748, 1741, 174, 1742, 1759, 2330,  1746, 103, 1743, 1745]\n",
    "brain_snc = [1919, 1918, 1917, 1910, 1911, 191, 1912, 1913, 1983, 1929, 1921, 1916, 1940, 1922, 1928]\n",
    "gi_tract = [1539, 1540, 1532, 1541, 1536, 154, 153, 1548, 1543, 1531, 1535, 1975, 1542, 1533, 1534, 1976, 1520, 1000, 1516, 1511, 1519, 1513, 1518, 1509, 1504, 1514, 1502, 1501, 150, 1004, 1508, 1512, 1503, 1500, 1505, 1588, 1589, 1515, 1598, 1538, 1529, 1590, 1530, 1522, 1528, 1005, 1009]\n",
    "thyroid = [193]\n",
    "prostate = [185, 1046, 2334]\n",
    "lymphoma = [20208, 20203, 20288, 20021, 20202, 20201, 20280, 20028, 20200, 20025, 20282, 20013, 20204, 20281,  20015, 20286, 20010, 20380, 20301, 1961, 1960, 2019, 20121, 2324, 2001, 20002, 20191, 1962, 20205, 20005, 20018, 20001, 20120, 1965, 2030, 20300, 2002, 20020]\n",
    "cervical_ovarian = [1844, 1809, 1840, 2331, 1808, 1801, 1800, 1830, 1986, 1043, 1580, 179, 1828, 1820, 1838, 1839, 183, 1849]\n",
    "myeloid_leukemia = [20510, 20520, 2051, 23875, 20600, 2089, 20610, 20580, 20690, 20590, 28983, 1985, 20500, 2059]\n",
    "palliative_nonmalignant = [4011, 436, 5859, 5119, 5716, 7895, 2564, 4371, 4409, 7687, 768, 600, 1303, 7994, 5118, 3320, 4169, 2252, 2899, 5900, 9985, 42731, 99591, 463, 135, 4941, 28529, 5184, 40492, 4542, 33510, 7582, 27739, 8208, 7893, 51882, 3330, 44422, 34510, 4820, 2394, 5762, 33189, 4389, 41189, 40391, 27730, 1, 25001, 25000, 3310, 667, 51883, 4289, 2, 4379, 7054, 4281, 4280, 33520, 33119, 4149, 5715, 2900, 33182, 4912, 591, 2904, 29043, 586, 425, 6393, 49122, 34839, 5761, 7242, 99, 71500, 10, 4380, 2902, 29021, 3382, 51881, 515, 29040, 49121, 51884, 34591, 29020, 4918, 2859, 5849, 73300, 2800, 2941, 5712, 4299, 3485, 29411, 4019, 7854, 4414, 3352, 431, 28521, 28989, 4150, 7051, 3438, 4321, 578, 56089, 7824, 43811, 340, 73301, 49120, 261, 2903, 3312, 4160, 57140, 42, 41511, 430, 3449, 40493, 4168, 34830, 3314, 34590, 33524, 29041, 5609, 4254, 3321]\n",
    "palliative_cancer_unspec = [1990, 199, 1958, 2399, 109, 1991, 19889, 2328]\n",
    "sarcoma = [1718, 1409, 1431, 1707, 1510, 1719, 1640, 1717, 1716, 1713, 1953, 1733, 1951, 1709, 1715, 1735, 1702, 1874, 1736, 1704, 20530, 200, 1768, 2012, 20000]"
   ]
  },
  {
   "cell_type": "code",
   "execution_count": 100,
   "metadata": {},
   "outputs": [],
   "source": [
    "df_referral['Diagnosis_Flag'] = np.NaN\n",
    "df_referral.loc[df_referral['Diag_Ref'].isin(liver_biliary), 'Diagnosis'] = 'Liver-Biliary'\n",
    "df_referral.loc[df_referral['Diag_Ref'].isin(liver_biliary), 'Diagnosis_Flag'] = True\n",
    "df_referral.loc[df_referral['Diag_Ref'].isin(lung), 'Diagnosis'] = 'Lung'\n",
    "df_referral.loc[df_referral['Diag_Ref'].isin(lung), 'Diagnosis_Flag'] = True\n",
    "df_referral.loc[df_referral['Diag_Ref'].isin(skin), 'Diagnosis'] = 'Skin'\n",
    "df_referral.loc[df_referral['Diag_Ref'].isin(skin), 'Diagnosis_Flag'] = True\n",
    "df_referral.loc[df_referral['Diag_Ref'].isin(pancreas), 'Diagnosis'] = 'Pancreas'\n",
    "df_referral.loc[df_referral['Diag_Ref'].isin(pancreas), 'Diagnosis_Flag'] = True\n",
    "df_referral.loc[df_referral['Diag_Ref'].isin(head_neck), 'Diagnosis'] = 'Head-Neck'\n",
    "df_referral.loc[df_referral['Diag_Ref'].isin(head_neck), 'Diagnosis_Flag'] = True\n",
    "df_referral.loc[df_referral['Diag_Ref'].isin(genitourinary), 'Diagnosis'] = 'Genitourinary'\n",
    "df_referral.loc[df_referral['Diag_Ref'].isin(genitourinary), 'Diagnosis_Flag'] = True\n",
    "df_referral.loc[df_referral['Diag_Ref'].isin(lymphoid_leukemia), 'Diagnosis'] = 'Lymphoid_Leukemia'\n",
    "df_referral.loc[df_referral['Diag_Ref'].isin(lymphoid_leukemia), 'Diagnosis_Flag'] = True\n",
    "df_referral.loc[df_referral['Diag_Ref'].isin(breast), 'Diagnosis'] = 'Breast'\n",
    "df_referral.loc[df_referral['Diag_Ref'].isin(breast), 'Diagnosis_Flag'] = True\n",
    "df_referral.loc[df_referral['Diag_Ref'].isin(brain_snc), 'Diagnosis'] = 'Brain-Snc'\n",
    "df_referral.loc[df_referral['Diag_Ref'].isin(brain_snc), 'Diagnosis_Flag'] = True\n",
    "df_referral.loc[df_referral['Diag_Ref'].isin(gi_tract), 'Diagnosis'] = 'GI Tract'\n",
    "df_referral.loc[df_referral['Diag_Ref'].isin(gi_tract), 'Diagnosis_Flag'] = True\n",
    "df_referral.loc[df_referral['Diag_Ref'].isin(thyroid), 'Diagnosis'] = 'Thyroid'\n",
    "df_referral.loc[df_referral['Diag_Ref'].isin(thyroid), 'Diagnosis_Flag'] = True\n",
    "df_referral.loc[df_referral['Diag_Ref'].isin(prostate), 'Diagnosis'] = 'Prostate'\n",
    "df_referral.loc[df_referral['Diag_Ref'].isin(prostate), 'Diagnosis_Flag'] = True\n",
    "df_referral.loc[df_referral['Diag_Ref'].isin(lymphoma), 'Diagnosis'] = 'Lymphoma'\n",
    "df_referral.loc[df_referral['Diag_Ref'].isin(lymphoma), 'Diagnosis_Flag'] = True\n",
    "df_referral.loc[df_referral['Diag_Ref'].isin(cervical_ovarian), 'Diagnosis'] = 'Cervical-Ovarian'\n",
    "df_referral.loc[df_referral['Diag_Ref'].isin(cervical_ovarian), 'Diagnosis_Flag'] = True\n",
    "df_referral.loc[df_referral['Diag_Ref'].isin(myeloid_leukemia), 'Diagnosis'] = 'Myeloid Leukemia'\n",
    "df_referral.loc[df_referral['Diag_Ref'].isin(myeloid_leukemia), 'Diagnosis_Flag'] = True\n",
    "df_referral.loc[df_referral['Diag_Ref'].isin(palliative_nonmalignant), 'Diagnosis'] = 'Palliative (Non-Malignant)'\n",
    "df_referral.loc[df_referral['Diag_Ref'].isin(palliative_nonmalignant), 'Diagnosis_Flag'] = True\n",
    "df_referral.loc[df_referral['Diag_Ref'].isin(palliative_cancer_unspec), 'Diagnosis'] = 'Palliative (Cancer-Unspecified)'\n",
    "df_referral.loc[df_referral['Diag_Ref'].isin(palliative_cancer_unspec), 'Diagnosis_Flag'] = True\n",
    "df_referral.loc[df_referral['Diag_Ref'].isin(sarcoma), 'Diagnosis'] = 'Sarcoma'\n",
    "df_referral.loc[df_referral['Diag_Ref'].isin(sarcoma), 'Diagnosis_Flag'] = True"
   ]
  },
  {
   "cell_type": "code",
   "execution_count": 101,
   "metadata": {},
   "outputs": [
    {
     "data": {
      "text/plain": [
       "True    5563\n",
       "Name: Diagnosis_Flag, dtype: int64"
      ]
     },
     "execution_count": 101,
     "metadata": {},
     "output_type": "execute_result"
    }
   ],
   "source": [
    "df_referral.Diagnosis_Flag.value_counts()"
   ]
  },
  {
   "cell_type": "code",
   "execution_count": 102,
   "metadata": {},
   "outputs": [
    {
     "data": {
      "text/plain": [
       "(5599, 9)"
      ]
     },
     "execution_count": 102,
     "metadata": {},
     "output_type": "execute_result"
    }
   ],
   "source": [
    "df_referral.shape"
   ]
  },
  {
   "cell_type": "code",
   "execution_count": 103,
   "metadata": {},
   "outputs": [],
   "source": [
    "df_referral = df_referral[df_referral['Diagnosis_Flag'].notna()]"
   ]
  },
  {
   "cell_type": "code",
   "execution_count": 104,
   "metadata": {},
   "outputs": [
    {
     "data": {
      "text/plain": [
       "(5563, 9)"
      ]
     },
     "execution_count": 104,
     "metadata": {},
     "output_type": "execute_result"
    }
   ],
   "source": [
    "df_referral.shape"
   ]
  },
  {
   "cell_type": "code",
   "execution_count": 105,
   "metadata": {},
   "outputs": [
    {
     "data": {
      "text/html": [
       "<div>\n",
       "<style scoped>\n",
       "    .dataframe tbody tr th:only-of-type {\n",
       "        vertical-align: middle;\n",
       "    }\n",
       "\n",
       "    .dataframe tbody tr th {\n",
       "        vertical-align: top;\n",
       "    }\n",
       "\n",
       "    .dataframe thead th {\n",
       "        text-align: right;\n",
       "    }\n",
       "</style>\n",
       "<table border=\"1\" class=\"dataframe\">\n",
       "  <thead>\n",
       "    <tr style=\"text-align: right;\">\n",
       "      <th></th>\n",
       "      <th>IDEHR</th>\n",
       "      <th>Data</th>\n",
       "      <th>EHRType</th>\n",
       "      <th>TimeStamp_Insert</th>\n",
       "      <th>I_ICD</th>\n",
       "      <th>survival_time_days</th>\n",
       "      <th>Diagnosis</th>\n",
       "      <th>Diag_Ref</th>\n",
       "      <th>Diagnosis_Flag</th>\n",
       "    </tr>\n",
       "  </thead>\n",
       "  <tbody>\n",
       "    <tr>\n",
       "      <th>0</th>\n",
       "      <td>3263</td>\n",
       "      <td>2015-10-02 07:50:00</td>\n",
       "      <td>AMB</td>\n",
       "      <td>2015-09-21 10:00:18.743</td>\n",
       "      <td>1550 - Tumori maligni primitivi del fegato#2048</td>\n",
       "      <td>10.0</td>\n",
       "      <td>Liver-Biliary</td>\n",
       "      <td>1550</td>\n",
       "      <td>True</td>\n",
       "    </tr>\n",
       "    <tr>\n",
       "      <th>2</th>\n",
       "      <td>1414</td>\n",
       "      <td>2015-10-05 11:50:00</td>\n",
       "      <td>EHR</td>\n",
       "      <td>2015-10-02 15:45:06.800</td>\n",
       "      <td>28983 - Mielofibrosi#2615</td>\n",
       "      <td>2.0</td>\n",
       "      <td>Myeloid Leukemia</td>\n",
       "      <td>28983</td>\n",
       "      <td>True</td>\n",
       "    </tr>\n",
       "    <tr>\n",
       "      <th>4</th>\n",
       "      <td>3394</td>\n",
       "      <td>2015-10-06 03:25:00</td>\n",
       "      <td>AMB</td>\n",
       "      <td>2015-09-25 18:17:56.940</td>\n",
       "      <td>1629 - Tumori maligni del bronco o polmone -  ...</td>\n",
       "      <td>10.0</td>\n",
       "      <td>Lung</td>\n",
       "      <td>1629</td>\n",
       "      <td>True</td>\n",
       "    </tr>\n",
       "    <tr>\n",
       "      <th>5</th>\n",
       "      <td>3417</td>\n",
       "      <td>2015-10-05 15:00:00</td>\n",
       "      <td>AMB</td>\n",
       "      <td>2015-09-28 17:26:59.413</td>\n",
       "      <td>1739 - Altri tumori maligni della cute -  sede...</td>\n",
       "      <td>6.0</td>\n",
       "      <td>Skin</td>\n",
       "      <td>1739</td>\n",
       "      <td>True</td>\n",
       "    </tr>\n",
       "    <tr>\n",
       "      <th>6</th>\n",
       "      <td>2977</td>\n",
       "      <td>2015-10-06 06:00:00</td>\n",
       "      <td>AMB</td>\n",
       "      <td>2015-09-08 11:26:31.850</td>\n",
       "      <td>001 - Cure Palliative#2005</td>\n",
       "      <td>27.0</td>\n",
       "      <td>Palliative (Non-Malignant)</td>\n",
       "      <td>1</td>\n",
       "      <td>True</td>\n",
       "    </tr>\n",
       "  </tbody>\n",
       "</table>\n",
       "</div>"
      ],
      "text/plain": [
       "   IDEHR                Data EHRType        TimeStamp_Insert  \\\n",
       "0   3263 2015-10-02 07:50:00     AMB 2015-09-21 10:00:18.743   \n",
       "2   1414 2015-10-05 11:50:00     EHR 2015-10-02 15:45:06.800   \n",
       "4   3394 2015-10-06 03:25:00     AMB 2015-09-25 18:17:56.940   \n",
       "5   3417 2015-10-05 15:00:00     AMB 2015-09-28 17:26:59.413   \n",
       "6   2977 2015-10-06 06:00:00     AMB 2015-09-08 11:26:31.850   \n",
       "\n",
       "                                               I_ICD  survival_time_days  \\\n",
       "0    1550 - Tumori maligni primitivi del fegato#2048                10.0   \n",
       "2                          28983 - Mielofibrosi#2615                 2.0   \n",
       "4  1629 - Tumori maligni del bronco o polmone -  ...                10.0   \n",
       "5  1739 - Altri tumori maligni della cute -  sede...                 6.0   \n",
       "6                         001 - Cure Palliative#2005                27.0   \n",
       "\n",
       "                    Diagnosis  Diag_Ref Diagnosis_Flag  \n",
       "0               Liver-Biliary      1550           True  \n",
       "2            Myeloid Leukemia     28983           True  \n",
       "4                        Lung      1629           True  \n",
       "5                        Skin      1739           True  \n",
       "6  Palliative (Non-Malignant)         1           True  "
      ]
     },
     "execution_count": 105,
     "metadata": {},
     "output_type": "execute_result"
    }
   ],
   "source": [
    "df_referral.head()"
   ]
  },
  {
   "cell_type": "code",
   "execution_count": 106,
   "metadata": {},
   "outputs": [
    {
     "data": {
      "text/plain": [
       "Lung                               1097\n",
       "GI Tract                            882\n",
       "Palliative (Non-Malignant)          694\n",
       "Pancreas                            528\n",
       "Liver-Biliary                       395\n",
       "Breast                              388\n",
       "Genitourinary                       300\n",
       "Cervical-Ovarian                    251\n",
       "Brain-Snc                           233\n",
       "Prostate                            197\n",
       "Lymphoma                            145\n",
       "Head-Neck                           115\n",
       "Sarcoma                              91\n",
       "Myeloid Leukemia                     79\n",
       "Skin                                 74\n",
       "Palliative (Cancer-Unspecified)      52\n",
       "Lymphoid_Leukemia                    25\n",
       "Thyroid                              17\n",
       "Name: Diagnosis, dtype: int64"
      ]
     },
     "execution_count": 106,
     "metadata": {},
     "output_type": "execute_result"
    }
   ],
   "source": [
    "df_referral.Diagnosis.value_counts()"
   ]
  },
  {
   "cell_type": "code",
   "execution_count": 107,
   "metadata": {},
   "outputs": [
    {
     "data": {
      "text/plain": [
       "Diagnosis\n",
       "Brain-Snc                          22.0\n",
       "Head-Neck                          20.0\n",
       "GI Tract                           19.0\n",
       "Breast                             18.0\n",
       "Genitourinary                      17.0\n",
       "Pancreas                           17.0\n",
       "Cervical-Ovarian                   17.0\n",
       "Sarcoma                            16.0\n",
       "Prostate                           16.0\n",
       "Lymphoma                           16.0\n",
       "Lung                               16.0\n",
       "Liver-Biliary                      14.0\n",
       "Skin                               13.5\n",
       "Lymphoid_Leukemia                  12.0\n",
       "Palliative (Non-Malignant)         11.0\n",
       "Palliative (Cancer-Unspecified)    10.0\n",
       "Myeloid Leukemia                    7.0\n",
       "Thyroid                             6.0\n",
       "Name: survival_time_days, dtype: float64"
      ]
     },
     "execution_count": 107,
     "metadata": {},
     "output_type": "execute_result"
    }
   ],
   "source": [
    "# median survival times\n",
    "df_referral.groupby('Diagnosis').median()['survival_time_days'].sort_values(ascending=False)"
   ]
  },
  {
   "cell_type": "code",
   "execution_count": 108,
   "metadata": {},
   "outputs": [
    {
     "data": {
      "text/plain": [
       "Diagnosis\n",
       "Lymphoid_Leukemia                  59.320000\n",
       "Sarcoma                            45.747253\n",
       "Prostate                           43.817259\n",
       "Myeloid Leukemia                   43.443038\n",
       "Breast                             41.814433\n",
       "Cervical-Ovarian                   41.581673\n",
       "Brain-Snc                          40.763948\n",
       "Genitourinary                      39.686667\n",
       "GI Tract                           37.626984\n",
       "Head-Neck                          37.121739\n",
       "Lung                               35.923428\n",
       "Palliative (Non-Malignant)         33.210375\n",
       "Liver-Biliary                      32.048101\n",
       "Pancreas                           31.714015\n",
       "Lymphoma                           27.386207\n",
       "Skin                               24.824324\n",
       "Thyroid                            24.058824\n",
       "Palliative (Cancer-Unspecified)    21.326923\n",
       "Name: survival_time_days, dtype: float64"
      ]
     },
     "execution_count": 108,
     "metadata": {},
     "output_type": "execute_result"
    }
   ],
   "source": [
    "# mean survival times \n",
    "df_referral.groupby('Diagnosis').mean()['survival_time_days'].sort_values(ascending=False)"
   ]
  },
  {
   "cell_type": "code",
   "execution_count": 109,
   "metadata": {},
   "outputs": [],
   "source": [
    "# get the survival time histogram for patients in each diagnosis\n",
    "df_survival = df_referral[['Diagnosis', 'survival_time_days']].groupby(by=['Diagnosis']).mean()\n",
    "df_survival_stddev = df_referral[['Diagnosis', 'survival_time_days']].groupby(by=['Diagnosis']).std(ddof=0)"
   ]
  },
  {
   "cell_type": "code",
   "execution_count": 110,
   "metadata": {},
   "outputs": [
    {
     "data": {
      "text/html": [
       "<div>\n",
       "<style scoped>\n",
       "    .dataframe tbody tr th:only-of-type {\n",
       "        vertical-align: middle;\n",
       "    }\n",
       "\n",
       "    .dataframe tbody tr th {\n",
       "        vertical-align: top;\n",
       "    }\n",
       "\n",
       "    .dataframe thead th {\n",
       "        text-align: right;\n",
       "    }\n",
       "</style>\n",
       "<table border=\"1\" class=\"dataframe\">\n",
       "  <thead>\n",
       "    <tr style=\"text-align: right;\">\n",
       "      <th></th>\n",
       "      <th>survival_time_days</th>\n",
       "    </tr>\n",
       "    <tr>\n",
       "      <th>Diagnosis</th>\n",
       "      <th></th>\n",
       "    </tr>\n",
       "  </thead>\n",
       "  <tbody>\n",
       "    <tr>\n",
       "      <th>Brain-Snc</th>\n",
       "      <td>40.763948</td>\n",
       "    </tr>\n",
       "    <tr>\n",
       "      <th>Breast</th>\n",
       "      <td>41.814433</td>\n",
       "    </tr>\n",
       "    <tr>\n",
       "      <th>Cervical-Ovarian</th>\n",
       "      <td>41.581673</td>\n",
       "    </tr>\n",
       "    <tr>\n",
       "      <th>GI Tract</th>\n",
       "      <td>37.626984</td>\n",
       "    </tr>\n",
       "    <tr>\n",
       "      <th>Genitourinary</th>\n",
       "      <td>39.686667</td>\n",
       "    </tr>\n",
       "    <tr>\n",
       "      <th>Head-Neck</th>\n",
       "      <td>37.121739</td>\n",
       "    </tr>\n",
       "    <tr>\n",
       "      <th>Liver-Biliary</th>\n",
       "      <td>32.048101</td>\n",
       "    </tr>\n",
       "    <tr>\n",
       "      <th>Lung</th>\n",
       "      <td>35.923428</td>\n",
       "    </tr>\n",
       "    <tr>\n",
       "      <th>Lymphoid_Leukemia</th>\n",
       "      <td>59.320000</td>\n",
       "    </tr>\n",
       "    <tr>\n",
       "      <th>Lymphoma</th>\n",
       "      <td>27.386207</td>\n",
       "    </tr>\n",
       "    <tr>\n",
       "      <th>Myeloid Leukemia</th>\n",
       "      <td>43.443038</td>\n",
       "    </tr>\n",
       "    <tr>\n",
       "      <th>Palliative (Cancer-Unspecified)</th>\n",
       "      <td>21.326923</td>\n",
       "    </tr>\n",
       "    <tr>\n",
       "      <th>Palliative (Non-Malignant)</th>\n",
       "      <td>33.210375</td>\n",
       "    </tr>\n",
       "    <tr>\n",
       "      <th>Pancreas</th>\n",
       "      <td>31.714015</td>\n",
       "    </tr>\n",
       "    <tr>\n",
       "      <th>Prostate</th>\n",
       "      <td>43.817259</td>\n",
       "    </tr>\n",
       "    <tr>\n",
       "      <th>Sarcoma</th>\n",
       "      <td>45.747253</td>\n",
       "    </tr>\n",
       "    <tr>\n",
       "      <th>Skin</th>\n",
       "      <td>24.824324</td>\n",
       "    </tr>\n",
       "    <tr>\n",
       "      <th>Thyroid</th>\n",
       "      <td>24.058824</td>\n",
       "    </tr>\n",
       "  </tbody>\n",
       "</table>\n",
       "</div>"
      ],
      "text/plain": [
       "                                 survival_time_days\n",
       "Diagnosis                                          \n",
       "Brain-Snc                                 40.763948\n",
       "Breast                                    41.814433\n",
       "Cervical-Ovarian                          41.581673\n",
       "GI Tract                                  37.626984\n",
       "Genitourinary                             39.686667\n",
       "Head-Neck                                 37.121739\n",
       "Liver-Biliary                             32.048101\n",
       "Lung                                      35.923428\n",
       "Lymphoid_Leukemia                         59.320000\n",
       "Lymphoma                                  27.386207\n",
       "Myeloid Leukemia                          43.443038\n",
       "Palliative (Cancer-Unspecified)           21.326923\n",
       "Palliative (Non-Malignant)                33.210375\n",
       "Pancreas                                  31.714015\n",
       "Prostate                                  43.817259\n",
       "Sarcoma                                   45.747253\n",
       "Skin                                      24.824324\n",
       "Thyroid                                   24.058824"
      ]
     },
     "execution_count": 110,
     "metadata": {},
     "output_type": "execute_result"
    }
   ],
   "source": [
    "df_survival"
   ]
  },
  {
   "cell_type": "code",
   "execution_count": 111,
   "metadata": {},
   "outputs": [
    {
     "data": {
      "text/html": [
       "<div>\n",
       "<style scoped>\n",
       "    .dataframe tbody tr th:only-of-type {\n",
       "        vertical-align: middle;\n",
       "    }\n",
       "\n",
       "    .dataframe tbody tr th {\n",
       "        vertical-align: top;\n",
       "    }\n",
       "\n",
       "    .dataframe thead th {\n",
       "        text-align: right;\n",
       "    }\n",
       "</style>\n",
       "<table border=\"1\" class=\"dataframe\">\n",
       "  <thead>\n",
       "    <tr style=\"text-align: right;\">\n",
       "      <th></th>\n",
       "      <th>Diagnosis</th>\n",
       "      <th>survival_time_days</th>\n",
       "      <th>survival_stddev</th>\n",
       "    </tr>\n",
       "  </thead>\n",
       "  <tbody>\n",
       "    <tr>\n",
       "      <th>0</th>\n",
       "      <td>Lymphoid_Leukemia</td>\n",
       "      <td>59.320000</td>\n",
       "      <td>96.493614</td>\n",
       "    </tr>\n",
       "    <tr>\n",
       "      <th>1</th>\n",
       "      <td>Sarcoma</td>\n",
       "      <td>45.747253</td>\n",
       "      <td>72.573054</td>\n",
       "    </tr>\n",
       "    <tr>\n",
       "      <th>2</th>\n",
       "      <td>Prostate</td>\n",
       "      <td>43.817259</td>\n",
       "      <td>71.664809</td>\n",
       "    </tr>\n",
       "    <tr>\n",
       "      <th>3</th>\n",
       "      <td>Myeloid Leukemia</td>\n",
       "      <td>43.443038</td>\n",
       "      <td>105.702801</td>\n",
       "    </tr>\n",
       "    <tr>\n",
       "      <th>4</th>\n",
       "      <td>Breast</td>\n",
       "      <td>41.814433</td>\n",
       "      <td>78.327666</td>\n",
       "    </tr>\n",
       "    <tr>\n",
       "      <th>5</th>\n",
       "      <td>Cervical-Ovarian</td>\n",
       "      <td>41.581673</td>\n",
       "      <td>110.452187</td>\n",
       "    </tr>\n",
       "    <tr>\n",
       "      <th>6</th>\n",
       "      <td>Brain-Snc</td>\n",
       "      <td>40.763948</td>\n",
       "      <td>56.944443</td>\n",
       "    </tr>\n",
       "    <tr>\n",
       "      <th>7</th>\n",
       "      <td>Genitourinary</td>\n",
       "      <td>39.686667</td>\n",
       "      <td>65.222709</td>\n",
       "    </tr>\n",
       "    <tr>\n",
       "      <th>8</th>\n",
       "      <td>GI Tract</td>\n",
       "      <td>37.626984</td>\n",
       "      <td>65.979144</td>\n",
       "    </tr>\n",
       "    <tr>\n",
       "      <th>9</th>\n",
       "      <td>Head-Neck</td>\n",
       "      <td>37.121739</td>\n",
       "      <td>70.730493</td>\n",
       "    </tr>\n",
       "    <tr>\n",
       "      <th>10</th>\n",
       "      <td>Lung</td>\n",
       "      <td>35.923428</td>\n",
       "      <td>65.618824</td>\n",
       "    </tr>\n",
       "    <tr>\n",
       "      <th>11</th>\n",
       "      <td>Palliative (Non-Malignant)</td>\n",
       "      <td>33.210375</td>\n",
       "      <td>61.390953</td>\n",
       "    </tr>\n",
       "    <tr>\n",
       "      <th>12</th>\n",
       "      <td>Liver-Biliary</td>\n",
       "      <td>32.048101</td>\n",
       "      <td>63.448336</td>\n",
       "    </tr>\n",
       "    <tr>\n",
       "      <th>13</th>\n",
       "      <td>Pancreas</td>\n",
       "      <td>31.714015</td>\n",
       "      <td>43.622690</td>\n",
       "    </tr>\n",
       "    <tr>\n",
       "      <th>14</th>\n",
       "      <td>Lymphoma</td>\n",
       "      <td>27.386207</td>\n",
       "      <td>39.946721</td>\n",
       "    </tr>\n",
       "    <tr>\n",
       "      <th>15</th>\n",
       "      <td>Skin</td>\n",
       "      <td>24.824324</td>\n",
       "      <td>29.633508</td>\n",
       "    </tr>\n",
       "    <tr>\n",
       "      <th>16</th>\n",
       "      <td>Thyroid</td>\n",
       "      <td>24.058824</td>\n",
       "      <td>38.511222</td>\n",
       "    </tr>\n",
       "    <tr>\n",
       "      <th>17</th>\n",
       "      <td>Palliative (Cancer-Unspecified)</td>\n",
       "      <td>21.326923</td>\n",
       "      <td>30.625983</td>\n",
       "    </tr>\n",
       "  </tbody>\n",
       "</table>\n",
       "</div>"
      ],
      "text/plain": [
       "                          Diagnosis  survival_time_days  survival_stddev\n",
       "0                 Lymphoid_Leukemia           59.320000        96.493614\n",
       "1                           Sarcoma           45.747253        72.573054\n",
       "2                          Prostate           43.817259        71.664809\n",
       "3                  Myeloid Leukemia           43.443038       105.702801\n",
       "4                            Breast           41.814433        78.327666\n",
       "5                  Cervical-Ovarian           41.581673       110.452187\n",
       "6                         Brain-Snc           40.763948        56.944443\n",
       "7                     Genitourinary           39.686667        65.222709\n",
       "8                          GI Tract           37.626984        65.979144\n",
       "9                         Head-Neck           37.121739        70.730493\n",
       "10                             Lung           35.923428        65.618824\n",
       "11       Palliative (Non-Malignant)           33.210375        61.390953\n",
       "12                    Liver-Biliary           32.048101        63.448336\n",
       "13                         Pancreas           31.714015        43.622690\n",
       "14                         Lymphoma           27.386207        39.946721\n",
       "15                             Skin           24.824324        29.633508\n",
       "16                          Thyroid           24.058824        38.511222\n",
       "17  Palliative (Cancer-Unspecified)           21.326923        30.625983"
      ]
     },
     "execution_count": 111,
     "metadata": {},
     "output_type": "execute_result"
    }
   ],
   "source": [
    "df_survival_stddev = df_survival_stddev.rename(columns={\"survival_time_days\": \"survival_stddev\"})\n",
    "df_surv = pd.merge(df_survival, df_survival_stddev, on='Diagnosis').reset_index().sort_values(by='survival_time_days', ascending=False).reset_index(drop=True)\n",
    "df_surv"
   ]
  },
  {
   "cell_type": "code",
   "execution_count": 112,
   "metadata": {},
   "outputs": [],
   "source": [
    "# from googletrans import Translator\n",
    "# df_surv['Diagnosis'] = df_surv.I_ICD.str.findall('(.+)#').to_frame()\n",
    "# df_surv['Diagnosis'] = df_surv['Diagnosis'].apply(lambda x: x if isinstance(x, float) else x[0])\n",
    "\n",
    "# translator = Translator()\n",
    "# df_surv['I_ICD'] = df_surv['Diagnosis'].apply(translator.translate, src='it', dest='en').apply(getattr, args=('text',))\n",
    "# df_surv = df_surv.drop(columns = ['Diagnosis']).sort_values(by='survival_time_days', ascending=False)\n",
    "# df_surv"
   ]
  },
  {
   "cell_type": "code",
   "execution_count": 113,
   "metadata": {},
   "outputs": [
    {
     "data": {
      "text/plain": [
       "<Figure size 1440x1296 with 0 Axes>"
      ]
     },
     "metadata": {},
     "output_type": "display_data"
    },
    {
     "data": {
      "image/png": "[encoded data removed]",
      "text/plain": [
       "<Figure size 1440x1296 with 1 Axes>"
      ]
     },
     "metadata": {
      "needs_background": "light"
     },
     "output_type": "display_data"
    }
   ],
   "source": [
    "plt.rcParams['figure.figsize'] = [20, 18]\n",
    "matplotlib.rcParams.update({'font.size': 15})\n",
    "plt.figure()\n",
    "labels = df_surv['Diagnosis']\n",
    "survival = df_surv['survival_time_days']\n",
    "errors = df_surv['survival_stddev']\n",
    "fig, ax = plt.subplots()\n",
    "bar1 = ax.barh(labels, survival, label='Survival Time (in Days)', xerr=errors)\n",
    "ax.set_xlabel('Days')\n",
    "ax.set_ylabel('Diagnosis')\n",
    "ax.set_title('Mean Survival Time')\n",
    "ax.legend()\n",
    "plt.grid()\n",
    "plt.savefig(\"./graphs/referral analysis/survival_time_diagnosis.png\", bbox_inches='tight')\n",
    "plt.show()"
   ]
  },
  {
   "cell_type": "code",
   "execution_count": 114,
   "metadata": {},
   "outputs": [
    {
     "data": {
      "text/plain": [
       "<matplotlib.axes._subplots.AxesSubplot at 0x2491a5dcaf0>"
      ]
     },
     "execution_count": 114,
     "metadata": {},
     "output_type": "execute_result"
    },
    {
     "data": {
      "text/plain": [
       "<Figure size 720x720 with 0 Axes>"
      ]
     },
     "metadata": {},
     "output_type": "display_data"
    },
    {
     "data": {
      "image/png": "[encoded data removed]",
      "text/plain": [
       "<Figure size 720x720 with 1 Axes>"
      ]
     },
     "metadata": {
      "needs_background": "light"
     },
     "output_type": "display_data"
    }
   ],
   "source": [
    "# generate a box and whisker plot\n",
    "plt.rcParams['figure.figsize'] = [10, 10]\n",
    "plt.figure()\n",
    "fig, ax = plt.subplots()\n",
    "ax.set_ylabel('Days')\n",
    "ax.set_title('Survival Time')\n",
    "df_referral.boxplot(column=['survival_time_days'], showfliers=False)"
   ]
  },
  {
   "cell_type": "code",
   "execution_count": 115,
   "metadata": {},
   "outputs": [
    {
     "data": {
      "text/plain": [
       "<matplotlib.axes._subplots.AxesSubplot at 0x249198a4940>"
      ]
     },
     "execution_count": 115,
     "metadata": {},
     "output_type": "execute_result"
    },
    {
     "data": {
      "text/plain": [
       "<Figure size 720x720 with 0 Axes>"
      ]
     },
     "metadata": {},
     "output_type": "display_data"
    },
    {
     "data": {
      "image/png": "[encoded data removed]",
      "text/plain": [
       "<Figure size 720x720 with 1 Axes>"
      ]
     },
     "metadata": {
      "needs_background": "light"
     },
     "output_type": "display_data"
    }
   ],
   "source": [
    "# boxplot with outliers\n",
    "plt.rcParams['figure.figsize'] = [10, 10]\n",
    "plt.figure()\n",
    "fig, ax = plt.subplots()\n",
    "ax.set_ylabel('Days')\n",
    "ax.set_title('Survival Time')\n",
    "df_referral.boxplot(column=['survival_time_days'])"
   ]
  },
  {
   "cell_type": "code",
   "execution_count": 116,
   "metadata": {
    "scrolled": true
   },
   "outputs": [
    {
     "data": {
      "text/plain": [
       "<Figure size 360x360 with 0 Axes>"
      ]
     },
     "metadata": {},
     "output_type": "display_data"
    },
    {
     "data": {
      "image/png": "[encoded data removed]",
      "text/plain": [
       "<Figure size 360x360 with 1 Axes>"
      ]
     },
     "metadata": {
      "needs_background": "light"
     },
     "output_type": "display_data"
    },
    {
     "data": {
      "text/plain": [
       "<Figure size 360x360 with 0 Axes>"
      ]
     },
     "metadata": {},
     "output_type": "display_data"
    },
    {
     "data": {
      "image/png": "[encoded data removed]",
      "text/plain": [
       "<Figure size 360x360 with 1 Axes>"
      ]
     },
     "metadata": {
      "needs_background": "light"
     },
     "output_type": "display_data"
    },
    {
     "data": {
      "text/plain": [
       "<Figure size 360x360 with 0 Axes>"
      ]
     },
     "metadata": {},
     "output_type": "display_data"
    },
    {
     "data": {
      "image/png": "[encoded data removed]",
      "text/plain": [
       "<Figure size 360x360 with 1 Axes>"
      ]
     },
     "metadata": {
      "needs_background": "light"
     },
     "output_type": "display_data"
    },
    {
     "data": {
      "text/plain": [
       "<Figure size 360x360 with 0 Axes>"
      ]
     },
     "metadata": {},
     "output_type": "display_data"
    },
    {
     "data": {
      "image/png": "[encoded data removed]",
      "text/plain": [
       "<Figure size 360x360 with 1 Axes>"
      ]
     },
     "metadata": {
      "needs_background": "light"
     },
     "output_type": "display_data"
    },
    {
     "data": {
      "text/plain": [
       "<Figure size 360x360 with 0 Axes>"
      ]
     },
     "metadata": {},
     "output_type": "display_data"
    },
    {
     "data": {
      "image/png": "[encoded data removed]",
      "text/plain": [
       "<Figure size 360x360 with 1 Axes>"
      ]
     },
     "metadata": {
      "needs_background": "light"
     },
     "output_type": "display_data"
    },
    {
     "data": {
      "text/plain": [
       "<Figure size 360x360 with 0 Axes>"
      ]
     },
     "metadata": {},
     "output_type": "display_data"
    },
    {
     "data": {
      "image/png": "[encoded data removed]",
      "text/plain": [
       "<Figure size 360x360 with 1 Axes>"
      ]
     },
     "metadata": {
      "needs_background": "light"
     },
     "output_type": "display_data"
    },
    {
     "data": {
      "text/plain": [
       "<Figure size 360x360 with 0 Axes>"
      ]
     },
     "metadata": {},
     "output_type": "display_data"
    },
    {
     "data": {
      "image/png": "[encoded data removed]",
      "text/plain": [
       "<Figure size 360x360 with 1 Axes>"
      ]
     },
     "metadata": {
      "needs_background": "light"
     },
     "output_type": "display_data"
    },
    {
     "data": {
      "text/plain": [
       "<Figure size 360x360 with 0 Axes>"
      ]
     },
     "metadata": {},
     "output_type": "display_data"
    },
    {
     "data": {
      "image/png": "[encoded data removed]",
      "text/plain": [
       "<Figure size 360x360 with 1 Axes>"
      ]
     },
     "metadata": {
      "needs_background": "light"
     },
     "output_type": "display_data"
    },
    {
     "data": {
      "text/plain": [
       "<Figure size 360x360 with 0 Axes>"
      ]
     },
     "metadata": {},
     "output_type": "display_data"
    },
    {
     "data": {
      "image/png": "[encoded data removed]",
      "text/plain": [
       "<Figure size 360x360 with 1 Axes>"
      ]
     },
     "metadata": {
      "needs_background": "light"
     },
     "output_type": "display_data"
    },
    {
     "data": {
      "text/plain": [
       "<Figure size 360x360 with 0 Axes>"
      ]
     },
     "metadata": {},
     "output_type": "display_data"
    },
    {
     "data": {
      "image/png": "[encoded data removed]",
      "text/plain": [
       "<Figure size 360x360 with 1 Axes>"
      ]
     },
     "metadata": {
      "needs_background": "light"
     },
     "output_type": "display_data"
    },
    {
     "data": {
      "text/plain": [
       "<Figure size 360x360 with 0 Axes>"
      ]
     },
     "metadata": {},
     "output_type": "display_data"
    },
    {
     "data": {
      "image/png": "[encoded data removed]",
      "text/plain": [
       "<Figure size 360x360 with 1 Axes>"
      ]
     },
     "metadata": {
      "needs_background": "light"
     },
     "output_type": "display_data"
    },
    {
     "data": {
      "text/plain": [
       "<Figure size 360x360 with 0 Axes>"
      ]
     },
     "metadata": {},
     "output_type": "display_data"
    },
    {
     "data": {
      "image/png": "[encoded data removed]",
      "text/plain": [
       "<Figure size 360x360 with 1 Axes>"
      ]
     },
     "metadata": {
      "needs_background": "light"
     },
     "output_type": "display_data"
    },
    {
     "data": {
      "text/plain": [
       "<Figure size 360x360 with 0 Axes>"
      ]
     },
     "metadata": {},
     "output_type": "display_data"
    },
    {
     "data": {
      "image/png": "[encoded data removed]",
      "text/plain": [
       "<Figure size 360x360 with 1 Axes>"
      ]
     },
     "metadata": {
      "needs_background": "light"
     },
     "output_type": "display_data"
    },
    {
     "data": {
      "text/plain": [
       "<Figure size 360x360 with 0 Axes>"
      ]
     },
     "metadata": {},
     "output_type": "display_data"
    },
    {
     "data": {
      "image/png": "[encoded data removed]",
      "text/plain": [
       "<Figure size 360x360 with 1 Axes>"
      ]
     },
     "metadata": {
      "needs_background": "light"
     },
     "output_type": "display_data"
    },
    {
     "data": {
      "text/plain": [
       "<Figure size 360x360 with 0 Axes>"
      ]
     },
     "metadata": {},
     "output_type": "display_data"
    },
    {
     "data": {
      "image/png": "[encoded data removed]",
      "text/plain": [
       "<Figure size 360x360 with 1 Axes>"
      ]
     },
     "metadata": {
      "needs_background": "light"
     },
     "output_type": "display_data"
    },
    {
     "data": {
      "text/plain": [
       "<Figure size 360x360 with 0 Axes>"
      ]
     },
     "metadata": {},
     "output_type": "display_data"
    },
    {
     "data": {
      "image/png": "[encoded data removed]",
      "text/plain": [
       "<Figure size 360x360 with 1 Axes>"
      ]
     },
     "metadata": {
      "needs_background": "light"
     },
     "output_type": "display_data"
    },
    {
     "data": {
      "text/plain": [
       "<Figure size 360x360 with 0 Axes>"
      ]
     },
     "metadata": {},
     "output_type": "display_data"
    },
    {
     "data": {
      "image/png": "[encoded data removed]",
      "text/plain": [
       "<Figure size 360x360 with 1 Axes>"
      ]
     },
     "metadata": {
      "needs_background": "light"
     },
     "output_type": "display_data"
    },
    {
     "data": {
      "text/plain": [
       "<Figure size 360x360 with 0 Axes>"
      ]
     },
     "metadata": {},
     "output_type": "display_data"
    },
    {
     "data": {
      "image/png": "[encoded data removed]",
      "text/plain": [
       "<Figure size 360x360 with 1 Axes>"
      ]
     },
     "metadata": {
      "needs_background": "light"
     },
     "output_type": "display_data"
    },
    {
     "data": {
      "text/plain": [
       "<Figure size 360x360 with 0 Axes>"
      ]
     },
     "metadata": {},
     "output_type": "display_data"
    },
    {
     "data": {
      "image/png": "[encoded data removed]",
      "text/plain": [
       "<Figure size 360x360 with 1 Axes>"
      ]
     },
     "metadata": {
      "needs_background": "light"
     },
     "output_type": "display_data"
    },
    {
     "data": {
      "text/plain": [
       "<Figure size 360x360 with 0 Axes>"
      ]
     },
     "metadata": {},
     "output_type": "display_data"
    },
    {
     "data": {
      "image/png": "[encoded data removed]",
      "text/plain": [
       "<Figure size 360x360 with 1 Axes>"
      ]
     },
     "metadata": {
      "needs_background": "light"
     },
     "output_type": "display_data"
    },
    {
     "data": {
      "text/plain": [
       "<Figure size 360x360 with 0 Axes>"
      ]
     },
     "metadata": {},
     "output_type": "display_data"
    },
    {
     "data": {
      "image/png": "[encoded data removed]",
      "text/plain": [
       "<Figure size 360x360 with 1 Axes>"
      ]
     },
     "metadata": {
      "needs_background": "light"
     },
     "output_type": "display_data"
    },
    {
     "data": {
      "text/plain": [
       "<Figure size 360x360 with 0 Axes>"
      ]
     },
     "metadata": {},
     "output_type": "display_data"
    },
    {
     "data": {
      "image/png": "[encoded data removed]",
      "text/plain": [
       "<Figure size 360x360 with 1 Axes>"
      ]
     },
     "metadata": {
      "needs_background": "light"
     },
     "output_type": "display_data"
    },
    {
     "data": {
      "text/plain": [
       "<Figure size 360x360 with 0 Axes>"
      ]
     },
     "metadata": {},
     "output_type": "display_data"
    },
    {
     "data": {
      "image/png": "[encoded data removed]",
      "text/plain": [
       "<Figure size 360x360 with 1 Axes>"
      ]
     },
     "metadata": {
      "needs_background": "light"
     },
     "output_type": "display_data"
    }
   ],
   "source": [
    "# boxplots for individual diagnosis\n",
    "cancers = ['Lung', 'Other', 'Pancreas', 'Colorectal', 'Breast', 'Liver-Biliary',\n",
    "       'Stomach-Esophagus', 'Brain', 'Prostate', 'Bladder', 'Kidney', 'Ovary',\n",
    "       'Head-Neck', 'Lymphoma', 'Uterus', 'Cervical', 'Limb', 'Intestine',\n",
    "       'Bone Marrow', 'Skin', 'Lymphoid_Leukemia', 'Thyroid', 'Tongue']\n",
    "\n",
    "for cancer in cancers:\n",
    "    plt.rcParams['figure.figsize'] = [5, 5]\n",
    "    plt.rcParams.update({'figure.max_open_warning': 0})\n",
    "    df_temp = df_referral[df_referral['Diagnosis'] == cancer]\n",
    "    plt.figure()\n",
    "    fig, ax = plt.subplots()\n",
    "    ax.set_ylabel('Days')\n",
    "    ax.set_title('Survival Time for ' + cancer)\n",
    "    df_temp.boxplot(column=['survival_time_days'], showfliers=False)"
   ]
  },
  {
   "cell_type": "code",
   "execution_count": 117,
   "metadata": {},
   "outputs": [
    {
     "data": {
      "text/plain": [
       "<Figure size 1440x1296 with 0 Axes>"
      ]
     },
     "metadata": {},
     "output_type": "display_data"
    },
    {
     "data": {
      "image/png": "[encoded data removed]",
      "text/plain": [
       "<Figure size 1440x1296 with 1 Axes>"
      ]
     },
     "metadata": {
      "needs_background": "light"
     },
     "output_type": "display_data"
    }
   ],
   "source": [
    "# boxplots for each disgnosis\n",
    "import seaborn as sns\n",
    "plt.rcParams['figure.figsize'] = [20, 18]\n",
    "matplotlib.rcParams.update({'font.size': 15})\n",
    "plt.figure()\n",
    "fig, ax = plt.subplots()\n",
    "diag_order = df_referral.groupby(by=['Diagnosis'])['survival_time_days'].median().sort_values(ascending=False).index\n",
    "ax = sns.boxplot(x='survival_time_days', y='Diagnosis', data=df_referral, order=diag_order, showfliers=False)\n",
    "ax.set_xlabel('Days')\n",
    "ax.set_ylabel('Diagnosis')\n",
    "ax.set_title('Survival Time')\n",
    "plt.grid()\n",
    "plt.savefig(\"./graphs/referral analysis/survival_time_box_plot_diagnosis.png\", bbox_inches='tight')\n",
    "plt.show()"
   ]
  },
  {
   "cell_type": "code",
   "execution_count": 118,
   "metadata": {},
   "outputs": [
    {
     "data": {
      "text/plain": [
       "Index(['Brain-Snc', 'Head-Neck', 'GI Tract', 'Breast', 'Genitourinary',\n",
       "       'Pancreas', 'Cervical-Ovarian', 'Sarcoma', 'Prostate', 'Lymphoma',\n",
       "       'Lung', 'Liver-Biliary', 'Skin', 'Lymphoid_Leukemia',\n",
       "       'Palliative (Non-Malignant)', 'Palliative (Cancer-Unspecified)',\n",
       "       'Myeloid Leukemia', 'Thyroid'],\n",
       "      dtype='object', name='Diagnosis')"
      ]
     },
     "execution_count": 118,
     "metadata": {},
     "output_type": "execute_result"
    }
   ],
   "source": [
    "df_referral.groupby(by=['Diagnosis'])['survival_time_days'].median().sort_values(ascending=False).index"
   ]
  },
  {
   "cell_type": "code",
   "execution_count": 119,
   "metadata": {},
   "outputs": [
    {
     "data": {
      "text/plain": [
       "<Figure size 1440x1296 with 0 Axes>"
      ]
     },
     "metadata": {},
     "output_type": "display_data"
    },
    {
     "data": {
      "image/png": "[encoded data removed]",
      "text/plain": [
       "<Figure size 1440x1296 with 1 Axes>"
      ]
     },
     "metadata": {
      "needs_background": "light"
     },
     "output_type": "display_data"
    }
   ],
   "source": [
    "# Violin Plots\n",
    "plt.rcParams['figure.figsize'] = [20, 18]\n",
    "matplotlib.rcParams.update({'font.size': 15})\n",
    "plt.figure()\n",
    "fig, ax = plt.subplots()\n",
    "diag_order = df_referral.groupby(by=['Diagnosis'])['survival_time_days'].median().sort_values(ascending=False).index\n",
    "ax = sns.violinplot(x='survival_time_days', y='Diagnosis', data=df_referral, order=diag_order, showfliers=False)\n",
    "ax.set_xlabel('Days')\n",
    "ax.set_ylabel('Diagnosis')\n",
    "ax.set_title('Survival Time')\n",
    "plt.grid()\n",
    "plt.savefig(\"./graphs/referral analysis/survival_time_violin_plot_diagnosis.png\", bbox_inches='tight')\n",
    "plt.show()"
   ]
  },
  {
   "cell_type": "code",
   "execution_count": 121,
   "metadata": {
    "scrolled": true
   },
   "outputs": [
    {
     "data": {
      "text/plain": [
       "<Figure size 360x360 with 0 Axes>"
      ]
     },
     "metadata": {},
     "output_type": "display_data"
    },
    {
     "data": {
      "image/png": "[encoded data removed]",
      "text/plain": [
       "<Figure size 360x360 with 1 Axes>"
      ]
     },
     "metadata": {
      "needs_background": "light"
     },
     "output_type": "display_data"
    },
    {
     "ename": "ValueError",
     "evalue": "min() arg is an empty sequence",
     "output_type": "error",
     "traceback": [
      "\u001b[1;31m---------------------------------------------------------------------------\u001b[0m",
      "\u001b[1;31mValueError\u001b[0m                                Traceback (most recent call last)",
      "\u001b[1;32m<ipython-input-121-046a07d01148>\u001b[0m in \u001b[0;36m<module>\u001b[1;34m\u001b[0m\n\u001b[0;32m     11\u001b[0m     \u001b[0mplt\u001b[0m\u001b[1;33m.\u001b[0m\u001b[0mfigure\u001b[0m\u001b[1;33m(\u001b[0m\u001b[1;33m)\u001b[0m\u001b[1;33m\u001b[0m\u001b[1;33m\u001b[0m\u001b[0m\n\u001b[0;32m     12\u001b[0m     \u001b[0mfig\u001b[0m\u001b[1;33m,\u001b[0m \u001b[0max\u001b[0m \u001b[1;33m=\u001b[0m \u001b[0mplt\u001b[0m\u001b[1;33m.\u001b[0m\u001b[0msubplots\u001b[0m\u001b[1;33m(\u001b[0m\u001b[1;33m)\u001b[0m\u001b[1;33m\u001b[0m\u001b[1;33m\u001b[0m\u001b[0m\n\u001b[1;32m---> 13\u001b[1;33m     \u001b[0max\u001b[0m \u001b[1;33m=\u001b[0m \u001b[0msns\u001b[0m\u001b[1;33m.\u001b[0m\u001b[0mviolinplot\u001b[0m\u001b[1;33m(\u001b[0m\u001b[0mx\u001b[0m\u001b[1;33m=\u001b[0m\u001b[1;34m'survival_time_days'\u001b[0m\u001b[1;33m,\u001b[0m \u001b[0my\u001b[0m\u001b[1;33m=\u001b[0m\u001b[1;34m'Diagnosis'\u001b[0m\u001b[1;33m,\u001b[0m \u001b[0mdata\u001b[0m\u001b[1;33m=\u001b[0m\u001b[0mdf_temp\u001b[0m\u001b[1;33m)\u001b[0m\u001b[1;33m\u001b[0m\u001b[1;33m\u001b[0m\u001b[0m\n\u001b[0m\u001b[0;32m     14\u001b[0m     \u001b[0max\u001b[0m\u001b[1;33m.\u001b[0m\u001b[0mset_xlabel\u001b[0m\u001b[1;33m(\u001b[0m\u001b[1;34m'Days'\u001b[0m\u001b[1;33m)\u001b[0m\u001b[1;33m\u001b[0m\u001b[1;33m\u001b[0m\u001b[0m\n\u001b[0;32m     15\u001b[0m     \u001b[0max\u001b[0m\u001b[1;33m.\u001b[0m\u001b[0mset_ylabel\u001b[0m\u001b[1;33m(\u001b[0m\u001b[1;34m'Diagnosis'\u001b[0m\u001b[1;33m)\u001b[0m\u001b[1;33m\u001b[0m\u001b[1;33m\u001b[0m\u001b[0m\n",
      "\u001b[1;32m~\\anaconda3\\lib\\site-packages\\seaborn\\categorical.py\u001b[0m in \u001b[0;36mviolinplot\u001b[1;34m(x, y, hue, data, order, hue_order, bw, cut, scale, scale_hue, gridsize, width, inner, split, dodge, orient, linewidth, color, palette, saturation, ax, **kwargs)\u001b[0m\n\u001b[0;32m   2382\u001b[0m                ax=None, **kwargs):\n\u001b[0;32m   2383\u001b[0m \u001b[1;33m\u001b[0m\u001b[0m\n\u001b[1;32m-> 2384\u001b[1;33m     plotter = _ViolinPlotter(x, y, hue, data, order, hue_order,\n\u001b[0m\u001b[0;32m   2385\u001b[0m                              \u001b[0mbw\u001b[0m\u001b[1;33m,\u001b[0m \u001b[0mcut\u001b[0m\u001b[1;33m,\u001b[0m \u001b[0mscale\u001b[0m\u001b[1;33m,\u001b[0m \u001b[0mscale_hue\u001b[0m\u001b[1;33m,\u001b[0m \u001b[0mgridsize\u001b[0m\u001b[1;33m,\u001b[0m\u001b[1;33m\u001b[0m\u001b[1;33m\u001b[0m\u001b[0m\n\u001b[0;32m   2386\u001b[0m                              \u001b[0mwidth\u001b[0m\u001b[1;33m,\u001b[0m \u001b[0minner\u001b[0m\u001b[1;33m,\u001b[0m \u001b[0msplit\u001b[0m\u001b[1;33m,\u001b[0m \u001b[0mdodge\u001b[0m\u001b[1;33m,\u001b[0m \u001b[0morient\u001b[0m\u001b[1;33m,\u001b[0m \u001b[0mlinewidth\u001b[0m\u001b[1;33m,\u001b[0m\u001b[1;33m\u001b[0m\u001b[1;33m\u001b[0m\u001b[0m\n",
      "\u001b[1;32m~\\anaconda3\\lib\\site-packages\\seaborn\\categorical.py\u001b[0m in \u001b[0;36m__init__\u001b[1;34m(self, x, y, hue, data, order, hue_order, bw, cut, scale, scale_hue, gridsize, width, inner, split, dodge, orient, linewidth, color, palette, saturation)\u001b[0m\n\u001b[0;32m    551\u001b[0m \u001b[1;33m\u001b[0m\u001b[0m\n\u001b[0;32m    552\u001b[0m         \u001b[0mself\u001b[0m\u001b[1;33m.\u001b[0m\u001b[0mestablish_variables\u001b[0m\u001b[1;33m(\u001b[0m\u001b[0mx\u001b[0m\u001b[1;33m,\u001b[0m \u001b[0my\u001b[0m\u001b[1;33m,\u001b[0m \u001b[0mhue\u001b[0m\u001b[1;33m,\u001b[0m \u001b[0mdata\u001b[0m\u001b[1;33m,\u001b[0m \u001b[0morient\u001b[0m\u001b[1;33m,\u001b[0m \u001b[0morder\u001b[0m\u001b[1;33m,\u001b[0m \u001b[0mhue_order\u001b[0m\u001b[1;33m)\u001b[0m\u001b[1;33m\u001b[0m\u001b[1;33m\u001b[0m\u001b[0m\n\u001b[1;32m--> 553\u001b[1;33m         \u001b[0mself\u001b[0m\u001b[1;33m.\u001b[0m\u001b[0mestablish_colors\u001b[0m\u001b[1;33m(\u001b[0m\u001b[0mcolor\u001b[0m\u001b[1;33m,\u001b[0m \u001b[0mpalette\u001b[0m\u001b[1;33m,\u001b[0m \u001b[0msaturation\u001b[0m\u001b[1;33m)\u001b[0m\u001b[1;33m\u001b[0m\u001b[1;33m\u001b[0m\u001b[0m\n\u001b[0m\u001b[0;32m    554\u001b[0m         \u001b[0mself\u001b[0m\u001b[1;33m.\u001b[0m\u001b[0mestimate_densities\u001b[0m\u001b[1;33m(\u001b[0m\u001b[0mbw\u001b[0m\u001b[1;33m,\u001b[0m \u001b[0mcut\u001b[0m\u001b[1;33m,\u001b[0m \u001b[0mscale\u001b[0m\u001b[1;33m,\u001b[0m \u001b[0mscale_hue\u001b[0m\u001b[1;33m,\u001b[0m \u001b[0mgridsize\u001b[0m\u001b[1;33m)\u001b[0m\u001b[1;33m\u001b[0m\u001b[1;33m\u001b[0m\u001b[0m\n\u001b[0;32m    555\u001b[0m \u001b[1;33m\u001b[0m\u001b[0m\n",
      "\u001b[1;32m~\\anaconda3\\lib\\site-packages\\seaborn\\categorical.py\u001b[0m in \u001b[0;36mestablish_colors\u001b[1;34m(self, color, palette, saturation)\u001b[0m\n\u001b[0;32m    314\u001b[0m         \u001b[1;31m# Determine the gray color to use for the lines framing the plot\u001b[0m\u001b[1;33m\u001b[0m\u001b[1;33m\u001b[0m\u001b[1;33m\u001b[0m\u001b[0m\n\u001b[0;32m    315\u001b[0m         \u001b[0mlight_vals\u001b[0m \u001b[1;33m=\u001b[0m \u001b[1;33m[\u001b[0m\u001b[0mcolorsys\u001b[0m\u001b[1;33m.\u001b[0m\u001b[0mrgb_to_hls\u001b[0m\u001b[1;33m(\u001b[0m\u001b[1;33m*\u001b[0m\u001b[0mc\u001b[0m\u001b[1;33m)\u001b[0m\u001b[1;33m[\u001b[0m\u001b[1;36m1\u001b[0m\u001b[1;33m]\u001b[0m \u001b[1;32mfor\u001b[0m \u001b[0mc\u001b[0m \u001b[1;32min\u001b[0m \u001b[0mrgb_colors\u001b[0m\u001b[1;33m]\u001b[0m\u001b[1;33m\u001b[0m\u001b[1;33m\u001b[0m\u001b[0m\n\u001b[1;32m--> 316\u001b[1;33m         \u001b[0mlum\u001b[0m \u001b[1;33m=\u001b[0m \u001b[0mmin\u001b[0m\u001b[1;33m(\u001b[0m\u001b[0mlight_vals\u001b[0m\u001b[1;33m)\u001b[0m \u001b[1;33m*\u001b[0m \u001b[1;36m.6\u001b[0m\u001b[1;33m\u001b[0m\u001b[1;33m\u001b[0m\u001b[0m\n\u001b[0m\u001b[0;32m    317\u001b[0m         \u001b[0mgray\u001b[0m \u001b[1;33m=\u001b[0m \u001b[0mmpl\u001b[0m\u001b[1;33m.\u001b[0m\u001b[0mcolors\u001b[0m\u001b[1;33m.\u001b[0m\u001b[0mrgb2hex\u001b[0m\u001b[1;33m(\u001b[0m\u001b[1;33m(\u001b[0m\u001b[0mlum\u001b[0m\u001b[1;33m,\u001b[0m \u001b[0mlum\u001b[0m\u001b[1;33m,\u001b[0m \u001b[0mlum\u001b[0m\u001b[1;33m)\u001b[0m\u001b[1;33m)\u001b[0m\u001b[1;33m\u001b[0m\u001b[1;33m\u001b[0m\u001b[0m\n\u001b[0;32m    318\u001b[0m \u001b[1;33m\u001b[0m\u001b[0m\n",
      "\u001b[1;31mValueError\u001b[0m: min() arg is an empty sequence"
     ]
    },
    {
     "data": {
      "text/plain": [
       "<Figure size 360x360 with 0 Axes>"
      ]
     },
     "metadata": {},
     "output_type": "display_data"
    },
    {
     "data": {
      "image/png": "[encoded data removed]",
      "text/plain": [
       "<Figure size 360x360 with 1 Axes>"
      ]
     },
     "metadata": {
      "needs_background": "light"
     },
     "output_type": "display_data"
    }
   ],
   "source": [
    "# Violin plot for individual diagnosis\n",
    "cancers = ['Lung', 'Other', 'Pancreas', 'Colorectal', 'Breast', 'Liver-Biliary',\n",
    "       'Stomach-Esophagus', 'Brain', 'Prostate', 'Bladder', 'Kidney', 'Ovary',\n",
    "       'Head-Neck', 'Lymphoma', 'Uterus', 'Cervical', 'Limb', 'Intestine',\n",
    "       'Bone Marrow', 'Skin', 'Lymphoid_Leukemia', 'Thyroid', 'Tongue']\n",
    "\n",
    "for cancer in cancers:\n",
    "    plt.rcParams['figure.figsize'] = [5, 5]\n",
    "    plt.rcParams.update({'figure.max_open_warning': 0})\n",
    "    df_temp = df_referral[df_referral['Diagnosis'] == cancer]\n",
    "    plt.figure()\n",
    "    fig, ax = plt.subplots()\n",
    "    ax = sns.violinplot(x='survival_time_days', y='Diagnosis', data=df_temp)\n",
    "    ax.set_xlabel('Days')\n",
    "    ax.set_ylabel('Diagnosis')\n",
    "    ax.set_title('Survival Time')\n",
    "    plt.grid()\n",
    "    plt.show()"
   ]
  },
  {
   "cell_type": "code",
   "execution_count": 122,
   "metadata": {},
   "outputs": [
    {
     "data": {
      "text/plain": [
       "<Figure size 1440x648 with 0 Axes>"
      ]
     },
     "metadata": {},
     "output_type": "display_data"
    },
    {
     "data": {
      "image/png": "[encoded data removed]",
      "text/plain": [
       "<Figure size 1440x648 with 1 Axes>"
      ]
     },
     "metadata": {
      "needs_background": "light"
     },
     "output_type": "display_data"
    }
   ],
   "source": [
    "# AMB vs EHR survival time\n",
    "plt.rcParams['figure.figsize'] = [20, 9]\n",
    "matplotlib.rcParams.update({'font.size': 15})\n",
    "plt.figure()\n",
    "fig, ax = plt.subplots()\n",
    "diag_order = df_referral.groupby(by=['EHRType'])['survival_time_days'].median().sort_values(ascending=False).index\n",
    "ax = sns.violinplot(x='survival_time_days', y='EHRType', data=df_referral, order=diag_order)\n",
    "ax.set_xlabel('Days')\n",
    "ax.set_ylabel('Diagnosis')\n",
    "ax.set_title('Survival Time')\n",
    "plt.grid()\n",
    "plt.savefig(\"./graphs/referral analysis/survival_time_violin_plot_EHRType.png\")\n",
    "plt.show()"
   ]
  },
  {
   "cell_type": "code",
   "execution_count": 123,
   "metadata": {},
   "outputs": [],
   "source": [
    "df_referral.to_csv('./vidas_data/survival_time.csv')"
   ]
  },
  {
   "cell_type": "code",
   "execution_count": 124,
   "metadata": {},
   "outputs": [],
   "source": [
    "# First Definition: Split patients into early/late referral by using the criteria of +- 2 stddev for each diagnosis\n"
   ]
  },
  {
   "cell_type": "code",
   "execution_count": null,
   "metadata": {},
   "outputs": [],
   "source": []
  }
 ],
 "metadata": {
  "kernelspec": {
   "display_name": "Python 3",
   "language": "python",
   "name": "python3"
  },
  "language_info": {
   "codemirror_mode": {
    "name": "ipython",
    "version": 3
   },
   "file_extension": ".py",
   "mimetype": "text/x-python",
   "name": "python",
   "nbconvert_exporter": "python",
   "pygments_lexer": "ipython3",
   "version": "3.8.3"
  }
 },
 "nbformat": 4,
 "nbformat_minor": 4
}
