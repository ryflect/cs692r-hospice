{
 "cells": [
  {
   "cell_type": "code",
   "execution_count": 96,
   "metadata": {},
   "outputs": [],
   "source": [
    "%matplotlib inline\n",
    "\n",
    "import pandas as pd\n",
    "import numpy as np\n",
    "import datetime\n",
    "import matplotlib\n",
    "import matplotlib.pyplot as plt\n",
    "from reference import get_file_names"
   ]
  },
  {
   "cell_type": "code",
   "execution_count": 97,
   "metadata": {},
   "outputs": [],
   "source": [
    "# get the col reference table\n",
    "df_ref = pd.read_csv('./vidas_data/cross_ref_cols_tabs.csv')\n",
    "# df_ref.head()"
   ]
  },
  {
   "cell_type": "code",
   "execution_count": 98,
   "metadata": {},
   "outputs": [
    {
     "data": {
      "text/plain": [
       "['wH_DirectTable_C_Decesso', 'wH_DirectTable_Decesso']"
      ]
     },
     "execution_count": 98,
     "metadata": {},
     "output_type": "execute_result"
    }
   ],
   "source": [
    "# get the data frame giving the list of IDEHRs who have passed\n",
    "get_file_names(['IDEHR', 'EHRType', 'IDDecesso'], df_ref)"
   ]
  },
  {
   "cell_type": "code",
   "execution_count": 99,
   "metadata": {
    "scrolled": true
   },
   "outputs": [
    {
     "data": {
      "text/plain": [
       "['wH_DirectTable_C_COLLOQUIO_MED',\n",
       " 'wH_DirectTable_C_ANAMNESI_INF',\n",
       " 'wH_DirectTable_C_Scala_Dolore_PAINAD',\n",
       " 'wH_DirectTable_VISITA_OSS_VIDAS',\n",
       " 'wH_DirectTable_C_Scala_di_Barthel',\n",
       " 'wH_Stats_CC_EHR_OpenLog',\n",
       " 'wH_DirectTable_R_SCALE_PPI',\n",
       " 'wH_DirectTable_CAM',\n",
       " 'wH_DirectTable_DOLORE_OSS_VIDAS',\n",
       " 'wH_DirectTable_C_Studio_NEVI_Criteri_',\n",
       " 'wH_DirectTable_ASSOC_ON_FUNEBRI',\n",
       " 'wH_DirectTable_CR_RISCHIO_LESIONI',\n",
       " 'wH_DirectTable_COLLOQUIO_OSS',\n",
       " 'wH_DirectTable_C_PAI_VIDAS',\n",
       " 'wH_DirectTable__S_VMD_FLUSSI_',\n",
       " 'wH_DirectTable_DOLORE_MED_e_INF_VIDAS',\n",
       " 'wH_DirectTable_CR_SCALE_PPI',\n",
       " 'wH_DirectTable_C_GESTIONE_AUSILI',\n",
       " 'wH_DirectTable_PI_DOM',\n",
       " 'wH_DirectTable_C_DOLORE_OSS_VIDAS',\n",
       " 'wH_DirectTable_C_TERAPIE_OUTPAT_VIDAS',\n",
       " 'wH_DirectTable_Scala_Dolore_PAINAD',\n",
       " 'wH_DirectTable_TERAPIE_OUTPAT_VIDAS',\n",
       " 'wH_DirectTable_C_CAM',\n",
       " 'wH_DirectTable_DAT',\n",
       " 'wH_DirectTable_C_VISITA_PSI_VIDAS',\n",
       " 'wH_DirectTable_C_LESIONI_MED_e_INF_VI',\n",
       " 'wH_DirectTable_Referto_Offline',\n",
       " 'wH_DirectTable_GESTIONE_AUSILI',\n",
       " 'wH_DirectTable_Scala_di_Barthel',\n",
       " 'wH_DirectTable_C_ANAMNESI_SOCIALE',\n",
       " 'wH_DirectTable_Telefonata',\n",
       " 'wH_DirectTable_BCP_generale',\n",
       " 'wH_DirectTable_CONSULENZA_COVID19',\n",
       " 'wH_DirectTable_XX_VISITA_INF_VIDAS',\n",
       " 'wH_DirectTable_ACCETTAZIONE_PERCORS',\n",
       " 'wH_DirectTable_C_FOLLW_UP_ASS',\n",
       " 'wH_DirectTable_ANAMNESI_INF',\n",
       " 'wH_DirectTable_C_Decesso',\n",
       " 'wH_DirectTable_LESIONE_OSS_VIDAS',\n",
       " 'wH_DirectTable_FOLLW_UP_ASS',\n",
       " 'wH_DirectTable_ANAMNESI_MED',\n",
       " 'wH_DirectTable_C_BCP_specialistica',\n",
       " 'wH_DirectTable_C_Informazioni_SS',\n",
       " 'wH_DirectTable_R_KPS',\n",
       " 'wH_DirectTable_VISITA_MED_VIDAS',\n",
       " 'wH_DirectTable_PI',\n",
       " 'wH_DirectTable_PAI_VIDAS',\n",
       " 'wH_DirectTable_C_DOLORE_MED_e_INF_VIDAS',\n",
       " 'wH_DirectTable_Scala_di_Bernardini',\n",
       " 'wH_DirectTable_COLLOQUIO_MED',\n",
       " 'wH_DirectTable_C_SPORTELLO_DAT',\n",
       " 'wH_DirectTable_DIAGNOSI_CROSSOU',\n",
       " 'wH_DirectTable_BCP_specialistica',\n",
       " 'wH_DirectTable_C_LESIONE_OSS_VIDAS',\n",
       " 'wH_DirectTable_C_Telefonata',\n",
       " 'wH_DirectTable_Studio_NEVI_Criteri_',\n",
       " 'wH_DirectTable_C_VISITA_INF_VIDAS',\n",
       " 'wH_DirectTable_C__S_VMD_FLUSSI_',\n",
       " 'wH_DirectTable_Valutazione_famiglia',\n",
       " 'wH_DirectTable_Informazioni_SS',\n",
       " 'wH_DirectTable_C_PI',\n",
       " 'wH_DirectTable_R_SCALE_BRADEN',\n",
       " 'wH_DirectTable_DIAGNOSI_ICD',\n",
       " 'wH_DirectTable_C_COLLOQUIO_OSS',\n",
       " 'wH_DirectTable_Pers_Riferimento',\n",
       " 'wH_DirectTable_C_Scala_AT',\n",
       " 'wH_DirectTable_C_Dati_Integrativi_SDO',\n",
       " 'wH_DirectTable_Dati_Integrativi_SDO',\n",
       " 'wH_DirectTable_C_Studio_NEVI_',\n",
       " 'wH_DirectTable_C_DIAGNOSI_CROSSOU',\n",
       " 'wH_DirectTable_VISITA_FKT_VIDAS',\n",
       " 'wH_DirectTable_VISITA_PSI_VIDAS',\n",
       " 'wH_DirectTable_VISITA_INF_VIDAS',\n",
       " 'wH_DirectTable_Scala_AT',\n",
       " 'wH_Stats_EHR_DT_PrintLog',\n",
       " 'wH_DirectTable_C_ACCETTAZIONE_PERCORS',\n",
       " 'wH_DirectTable_C_Scala_di_Bernardini',\n",
       " 'wH_DirectTable_R_RISCHIO_LESIONI',\n",
       " 'wH_DirectTable_C_VISITA_MED_VIDAS',\n",
       " 'wH_DirectTable_C_DIAGNOSI_ICD',\n",
       " 'wH_DirectTable_Decesso',\n",
       " 'wH_DirectTable_SPORTELLO_DAT',\n",
       " 'wH_DirectTable_C_Pers_Riferimento',\n",
       " 'wH_DirectTable_C_VISITA_FKT_VIDAS',\n",
       " 'wH_DirectTable_C_ANAMNESI_MED',\n",
       " 'wH_DirectTable_C_ASSOC_ON_FUNEBRI',\n",
       " 'wH_DirectTable_C_DAT',\n",
       " 'wH_DirectTable_Scala_ESAS',\n",
       " 'wH_DirectTable_Studio_NEVI_',\n",
       " 'wH_DirectTable_ANAMNESI_SOCIALE',\n",
       " 'wH_DirectTable_C_VISITA_OSS_VIDAS',\n",
       " 'wH_DirectTable_LESIONI_MED_e_INF_VI',\n",
       " 'wH_Conf_ModuleUpdateOperation',\n",
       " 'wH_DirectTable_C_Scala_ESAS',\n",
       " 'wH_DirectTable_C_Valutazione_famiglia']"
      ]
     },
     "execution_count": 99,
     "metadata": {},
     "output_type": "execute_result"
    }
   ],
   "source": [
    "# get the data frame giving the list of IDEHRs with the start date of hospitalization\n",
    "get_file_names(['IDEHR', 'EHRType', 'TimeStamp_Insert'], df_ref)"
   ]
  },
  {
   "cell_type": "code",
   "execution_count": 100,
   "metadata": {},
   "outputs": [
    {
     "data": {
      "text/plain": [
       "['wH_DirectTable_DIAGNOSI_ICD', 'wH_DirectTable_C_DIAGNOSI_ICD']"
      ]
     },
     "execution_count": 100,
     "metadata": {},
     "output_type": "execute_result"
    }
   ],
   "source": [
    "# get the data frame giving the list of IDEHRs with the diagnosis\n",
    "get_file_names(['IDEHR', 'EHRType', 'IDDIAGNOSI_ICD'], df_ref)"
   ]
  },
  {
   "cell_type": "code",
   "execution_count": 101,
   "metadata": {},
   "outputs": [
    {
     "name": "stdout",
     "output_type": "stream",
     "text": [
      "(5935, 3)\n"
     ]
    },
    {
     "data": {
      "text/html": [
       "<div>\n",
       "<style scoped>\n",
       "    .dataframe tbody tr th:only-of-type {\n",
       "        vertical-align: middle;\n",
       "    }\n",
       "\n",
       "    .dataframe tbody tr th {\n",
       "        vertical-align: top;\n",
       "    }\n",
       "\n",
       "    .dataframe thead th {\n",
       "        text-align: right;\n",
       "    }\n",
       "</style>\n",
       "<table border=\"1\" class=\"dataframe\">\n",
       "  <thead>\n",
       "    <tr style=\"text-align: right;\">\n",
       "      <th></th>\n",
       "      <th>IDEHR</th>\n",
       "      <th>Data</th>\n",
       "      <th>EHRType</th>\n",
       "    </tr>\n",
       "  </thead>\n",
       "  <tbody>\n",
       "    <tr>\n",
       "      <th>0</th>\n",
       "      <td>4</td>\n",
       "      <td>2015-01-09 16:15:00</td>\n",
       "      <td>EHR</td>\n",
       "    </tr>\n",
       "    <tr>\n",
       "      <th>1</th>\n",
       "      <td>1022</td>\n",
       "      <td>2015-01-11 00:15:00</td>\n",
       "      <td>EHR</td>\n",
       "    </tr>\n",
       "    <tr>\n",
       "      <th>2</th>\n",
       "      <td>16</td>\n",
       "      <td>2015-01-15 01:45:00</td>\n",
       "      <td>EHR</td>\n",
       "    </tr>\n",
       "    <tr>\n",
       "      <th>3</th>\n",
       "      <td>1025</td>\n",
       "      <td>2015-01-15 06:44:00</td>\n",
       "      <td>EHR</td>\n",
       "    </tr>\n",
       "    <tr>\n",
       "      <th>4</th>\n",
       "      <td>6</td>\n",
       "      <td>2015-01-20 14:50:00</td>\n",
       "      <td>EHR</td>\n",
       "    </tr>\n",
       "  </tbody>\n",
       "</table>\n",
       "</div>"
      ],
      "text/plain": [
       "   IDEHR                Data EHRType\n",
       "0      4 2015-01-09 16:15:00     EHR\n",
       "1   1022 2015-01-11 00:15:00     EHR\n",
       "2     16 2015-01-15 01:45:00     EHR\n",
       "3   1025 2015-01-15 06:44:00     EHR\n",
       "4      6 2015-01-20 14:50:00     EHR"
      ]
     },
     "execution_count": 101,
     "metadata": {},
     "output_type": "execute_result"
    }
   ],
   "source": [
    "# data frame with deathID\n",
    "df_death = pd.read_csv('./vidas_data/wH_DirectTable_Decesso.csv', parse_dates=['Data'])\n",
    "df_death = df_death[['IDEHR', 'Data', 'EHRType']].drop_duplicates(subset=['IDEHR'], keep='first')\n",
    "print(df_death.shape)\n",
    "df_death.head()"
   ]
  },
  {
   "cell_type": "code",
   "execution_count": 102,
   "metadata": {},
   "outputs": [
    {
     "data": {
      "text/plain": [
       "IDEHR       0\n",
       "Data       54\n",
       "EHRType     0\n",
       "dtype: int64"
      ]
     },
     "execution_count": 102,
     "metadata": {},
     "output_type": "execute_result"
    }
   ],
   "source": [
    "# check NaNs\n",
    "df_death.isna().sum()"
   ]
  },
  {
   "cell_type": "code",
   "execution_count": 103,
   "metadata": {},
   "outputs": [
    {
     "name": "stderr",
     "output_type": "stream",
     "text": [
      "C:\\Users\\prate\\anaconda3\\lib\\site-packages\\IPython\\core\\interactiveshell.py:3071: DtypeWarning: Columns (36,37) have mixed types.Specify dtype option on import or set low_memory=False.\n",
      "  has_raised = await self.run_ast_nodes(code_ast.body, cell_name,\n"
     ]
    },
    {
     "name": "stdout",
     "output_type": "stream",
     "text": [
      "(2157301, 50)\n",
      "(18903, 3)\n"
     ]
    },
    {
     "data": {
      "text/html": [
       "<div>\n",
       "<style scoped>\n",
       "    .dataframe tbody tr th:only-of-type {\n",
       "        vertical-align: middle;\n",
       "    }\n",
       "\n",
       "    .dataframe tbody tr th {\n",
       "        vertical-align: top;\n",
       "    }\n",
       "\n",
       "    .dataframe thead th {\n",
       "        text-align: right;\n",
       "    }\n",
       "</style>\n",
       "<table border=\"1\" class=\"dataframe\">\n",
       "  <thead>\n",
       "    <tr style=\"text-align: right;\">\n",
       "      <th></th>\n",
       "      <th>IDEHR</th>\n",
       "      <th>EHRType</th>\n",
       "      <th>TimeStamp_Insert</th>\n",
       "    </tr>\n",
       "  </thead>\n",
       "  <tbody>\n",
       "    <tr>\n",
       "      <th>0</th>\n",
       "      <td>1</td>\n",
       "      <td>AMB</td>\n",
       "      <td>2014-12-30 10:52:57.653</td>\n",
       "    </tr>\n",
       "    <tr>\n",
       "      <th>6</th>\n",
       "      <td>3</td>\n",
       "      <td>AMB</td>\n",
       "      <td>2014-12-30 11:12:01.570</td>\n",
       "    </tr>\n",
       "    <tr>\n",
       "      <th>8</th>\n",
       "      <td>7</td>\n",
       "      <td>AMB</td>\n",
       "      <td>2014-12-30 11:18:06.063</td>\n",
       "    </tr>\n",
       "    <tr>\n",
       "      <th>10</th>\n",
       "      <td>10</td>\n",
       "      <td>AMB</td>\n",
       "      <td>2014-12-30 11:22:52.020</td>\n",
       "    </tr>\n",
       "    <tr>\n",
       "      <th>14</th>\n",
       "      <td>13</td>\n",
       "      <td>AMB</td>\n",
       "      <td>2014-12-30 11:27:28.030</td>\n",
       "    </tr>\n",
       "  </tbody>\n",
       "</table>\n",
       "</div>"
      ],
      "text/plain": [
       "    IDEHR EHRType        TimeStamp_Insert\n",
       "0       1     AMB 2014-12-30 10:52:57.653\n",
       "6       3     AMB 2014-12-30 11:12:01.570\n",
       "8       7     AMB 2014-12-30 11:18:06.063\n",
       "10     10     AMB 2014-12-30 11:22:52.020\n",
       "14     13     AMB 2014-12-30 11:27:28.030"
      ]
     },
     "execution_count": 103,
     "metadata": {},
     "output_type": "execute_result"
    }
   ],
   "source": [
    "# data frame with start of hospitalization\n",
    "df_soh = pd.read_csv('./vidas_data/wH_DigitalSign_DigSigDoc.csv', parse_dates=['TimeStamp_Insert'])\n",
    "print(df_soh.shape)\n",
    "df_soh = df_soh[['IDEHR', 'EHRType', 'TimeStamp_Insert']].drop_duplicates(subset=['IDEHR'], keep='first')\n",
    "print(df_soh.shape)\n",
    "df_soh.head()"
   ]
  },
  {
   "cell_type": "code",
   "execution_count": 104,
   "metadata": {},
   "outputs": [
    {
     "data": {
      "text/plain": [
       "IDEHR               0\n",
       "EHRType             0\n",
       "TimeStamp_Insert    0\n",
       "dtype: int64"
      ]
     },
     "execution_count": 104,
     "metadata": {},
     "output_type": "execute_result"
    }
   ],
   "source": [
    "# check NaNs\n",
    "df_soh.isna().sum()"
   ]
  },
  {
   "cell_type": "code",
   "execution_count": 105,
   "metadata": {},
   "outputs": [
    {
     "name": "stdout",
     "output_type": "stream",
     "text": [
      "(8224, 3)\n"
     ]
    },
    {
     "name": "stderr",
     "output_type": "stream",
     "text": [
      "C:\\Users\\prate\\anaconda3\\lib\\site-packages\\IPython\\core\\interactiveshell.py:3071: DtypeWarning: Columns (23,24,42,43,44,62,63,64) have mixed types.Specify dtype option on import or set low_memory=False.\n",
      "  has_raised = await self.run_ast_nodes(code_ast.body, cell_name,\n"
     ]
    },
    {
     "data": {
      "text/html": [
       "<div>\n",
       "<style scoped>\n",
       "    .dataframe tbody tr th:only-of-type {\n",
       "        vertical-align: middle;\n",
       "    }\n",
       "\n",
       "    .dataframe tbody tr th {\n",
       "        vertical-align: top;\n",
       "    }\n",
       "\n",
       "    .dataframe thead th {\n",
       "        text-align: right;\n",
       "    }\n",
       "</style>\n",
       "<table border=\"1\" class=\"dataframe\">\n",
       "  <thead>\n",
       "    <tr style=\"text-align: right;\">\n",
       "      <th></th>\n",
       "      <th>IDEHR</th>\n",
       "      <th>I_ICD</th>\n",
       "      <th>EHRType</th>\n",
       "    </tr>\n",
       "  </thead>\n",
       "  <tbody>\n",
       "    <tr>\n",
       "      <th>0</th>\n",
       "      <td>3339</td>\n",
       "      <td>1629 - Tumori maligni del bronco o polmone -  ...</td>\n",
       "      <td>AMB</td>\n",
       "    </tr>\n",
       "    <tr>\n",
       "      <th>1</th>\n",
       "      <td>1402</td>\n",
       "      <td>NaN</td>\n",
       "      <td>AMB</td>\n",
       "    </tr>\n",
       "    <tr>\n",
       "      <th>2</th>\n",
       "      <td>3170</td>\n",
       "      <td>1749 - Tumori maligni della mammella (della do...</td>\n",
       "      <td>AMB</td>\n",
       "    </tr>\n",
       "    <tr>\n",
       "      <th>3</th>\n",
       "      <td>2885</td>\n",
       "      <td>1428 - Tumori maligni di altre ghiandole saliv...</td>\n",
       "      <td>AMB</td>\n",
       "    </tr>\n",
       "    <tr>\n",
       "      <th>4</th>\n",
       "      <td>3017</td>\n",
       "      <td>1749 - Tumori maligni della mammella (della do...</td>\n",
       "      <td>AMB</td>\n",
       "    </tr>\n",
       "  </tbody>\n",
       "</table>\n",
       "</div>"
      ],
      "text/plain": [
       "   IDEHR                                              I_ICD EHRType\n",
       "0   3339  1629 - Tumori maligni del bronco o polmone -  ...     AMB\n",
       "1   1402                                                NaN     AMB\n",
       "2   3170  1749 - Tumori maligni della mammella (della do...     AMB\n",
       "3   2885  1428 - Tumori maligni di altre ghiandole saliv...     AMB\n",
       "4   3017  1749 - Tumori maligni della mammella (della do...     AMB"
      ]
     },
     "execution_count": 105,
     "metadata": {},
     "output_type": "execute_result"
    }
   ],
   "source": [
    "# data frame with diagnosis\n",
    "df_diag = pd.read_csv('./vidas_data/wH_DirectTable_DIAGNOSI_ICD.csv')\n",
    "df_diag = df_diag[['IDEHR', 'I_ICD', 'EHRType']].drop_duplicates(subset=['IDEHR'], keep='first')\n",
    "print(df_diag.shape)\n",
    "df_diag.head()"
   ]
  },
  {
   "cell_type": "code",
   "execution_count": 106,
   "metadata": {},
   "outputs": [
    {
     "data": {
      "text/plain": [
       "IDEHR       0\n",
       "I_ICD      47\n",
       "EHRType     0\n",
       "dtype: int64"
      ]
     },
     "execution_count": 106,
     "metadata": {},
     "output_type": "execute_result"
    }
   ],
   "source": [
    "# check NaNs\n",
    "df_diag.isna().sum()"
   ]
  },
  {
   "cell_type": "code",
   "execution_count": 107,
   "metadata": {},
   "outputs": [
    {
     "name": "stdout",
     "output_type": "stream",
     "text": [
      "(8177, 3)\n"
     ]
    },
    {
     "data": {
      "text/plain": [
       "IDEHR      0\n",
       "I_ICD      0\n",
       "EHRType    0\n",
       "dtype: int64"
      ]
     },
     "execution_count": 107,
     "metadata": {},
     "output_type": "execute_result"
    }
   ],
   "source": [
    "df_diag = df_diag.dropna()\n",
    "print(df_diag.shape)\n",
    "df_diag.isna().sum()"
   ]
  },
  {
   "cell_type": "code",
   "execution_count": 108,
   "metadata": {
    "scrolled": true
   },
   "outputs": [],
   "source": [
    "# df_diag.diagnosi.value_counts()"
   ]
  },
  {
   "cell_type": "code",
   "execution_count": 109,
   "metadata": {},
   "outputs": [],
   "source": [
    "# do the merge\n",
    "from functools import reduce\n",
    "dfs = [df_death, df_soh, df_diag]\n",
    "df_referral = reduce(lambda left, right: pd.merge(left, right, on=['IDEHR', 'EHRType']), dfs)"
   ]
  },
  {
   "cell_type": "code",
   "execution_count": 110,
   "metadata": {},
   "outputs": [
    {
     "data": {
      "text/html": [
       "<div>\n",
       "<style scoped>\n",
       "    .dataframe tbody tr th:only-of-type {\n",
       "        vertical-align: middle;\n",
       "    }\n",
       "\n",
       "    .dataframe tbody tr th {\n",
       "        vertical-align: top;\n",
       "    }\n",
       "\n",
       "    .dataframe thead th {\n",
       "        text-align: right;\n",
       "    }\n",
       "</style>\n",
       "<table border=\"1\" class=\"dataframe\">\n",
       "  <thead>\n",
       "    <tr style=\"text-align: right;\">\n",
       "      <th></th>\n",
       "      <th>IDEHR</th>\n",
       "      <th>Data</th>\n",
       "      <th>EHRType</th>\n",
       "      <th>TimeStamp_Insert</th>\n",
       "      <th>I_ICD</th>\n",
       "    </tr>\n",
       "  </thead>\n",
       "  <tbody>\n",
       "    <tr>\n",
       "      <th>0</th>\n",
       "      <td>3263</td>\n",
       "      <td>2015-10-02 07:50:00</td>\n",
       "      <td>AMB</td>\n",
       "      <td>2015-09-21 10:00:18.743</td>\n",
       "      <td>1550 - Tumori maligni primitivi del fegato#2048</td>\n",
       "    </tr>\n",
       "    <tr>\n",
       "      <th>1</th>\n",
       "      <td>2904</td>\n",
       "      <td>NaT</td>\n",
       "      <td>AMB</td>\n",
       "      <td>2015-09-04 14:53:01.400</td>\n",
       "      <td>1550 - Tumori maligni primitivi del fegato#2048</td>\n",
       "    </tr>\n",
       "    <tr>\n",
       "      <th>2</th>\n",
       "      <td>3339</td>\n",
       "      <td>NaT</td>\n",
       "      <td>AMB</td>\n",
       "      <td>2015-09-23 15:11:20.817</td>\n",
       "      <td>1629 - Tumori maligni del bronco o polmone -  ...</td>\n",
       "    </tr>\n",
       "    <tr>\n",
       "      <th>3</th>\n",
       "      <td>3394</td>\n",
       "      <td>2015-10-06 03:25:00</td>\n",
       "      <td>AMB</td>\n",
       "      <td>2015-09-25 18:17:56.940</td>\n",
       "      <td>1629 - Tumori maligni del bronco o polmone -  ...</td>\n",
       "    </tr>\n",
       "    <tr>\n",
       "      <th>4</th>\n",
       "      <td>3417</td>\n",
       "      <td>2015-10-05 15:00:00</td>\n",
       "      <td>AMB</td>\n",
       "      <td>2015-09-28 17:26:59.413</td>\n",
       "      <td>1739 - Altri tumori maligni della cute -  sede...</td>\n",
       "    </tr>\n",
       "    <tr>\n",
       "      <th>...</th>\n",
       "      <td>...</td>\n",
       "      <td>...</td>\n",
       "      <td>...</td>\n",
       "      <td>...</td>\n",
       "      <td>...</td>\n",
       "    </tr>\n",
       "    <tr>\n",
       "      <th>4511</th>\n",
       "      <td>5281</td>\n",
       "      <td>2020-07-23 09:55:00</td>\n",
       "      <td>EHR</td>\n",
       "      <td>2020-07-17 12:37:32.397</td>\n",
       "      <td>1500 - Tumori maligni dell'esofago cervicale#2...</td>\n",
       "    </tr>\n",
       "    <tr>\n",
       "      <th>4512</th>\n",
       "      <td>27907</td>\n",
       "      <td>2020-07-23 11:00:00</td>\n",
       "      <td>AMB</td>\n",
       "      <td>2020-04-23 14:32:41.760</td>\n",
       "      <td>1629 - Tumori maligni del bronco o polmone, no...</td>\n",
       "    </tr>\n",
       "    <tr>\n",
       "      <th>4513</th>\n",
       "      <td>28540</td>\n",
       "      <td>2020-07-23 01:45:22</td>\n",
       "      <td>AMB</td>\n",
       "      <td>2020-05-27 08:46:34.090</td>\n",
       "      <td>1536 - Tumori maligni del colon ascendente#2039</td>\n",
       "    </tr>\n",
       "    <tr>\n",
       "      <th>4514</th>\n",
       "      <td>29440</td>\n",
       "      <td>2020-07-23 15:36:43</td>\n",
       "      <td>AMB</td>\n",
       "      <td>2020-07-21 09:21:33.733</td>\n",
       "      <td>1629 - Tumori maligni del bronco o polmone, no...</td>\n",
       "    </tr>\n",
       "    <tr>\n",
       "      <th>4515</th>\n",
       "      <td>29399</td>\n",
       "      <td>2020-07-23 00:00:21</td>\n",
       "      <td>AMB</td>\n",
       "      <td>2020-07-17 10:29:23.493</td>\n",
       "      <td>1630 - Tumori maligni della pleura parietale#2070</td>\n",
       "    </tr>\n",
       "  </tbody>\n",
       "</table>\n",
       "<p>4516 rows × 5 columns</p>\n",
       "</div>"
      ],
      "text/plain": [
       "      IDEHR                Data EHRType        TimeStamp_Insert  \\\n",
       "0      3263 2015-10-02 07:50:00     AMB 2015-09-21 10:00:18.743   \n",
       "1      2904                 NaT     AMB 2015-09-04 14:53:01.400   \n",
       "2      3339                 NaT     AMB 2015-09-23 15:11:20.817   \n",
       "3      3394 2015-10-06 03:25:00     AMB 2015-09-25 18:17:56.940   \n",
       "4      3417 2015-10-05 15:00:00     AMB 2015-09-28 17:26:59.413   \n",
       "...     ...                 ...     ...                     ...   \n",
       "4511   5281 2020-07-23 09:55:00     EHR 2020-07-17 12:37:32.397   \n",
       "4512  27907 2020-07-23 11:00:00     AMB 2020-04-23 14:32:41.760   \n",
       "4513  28540 2020-07-23 01:45:22     AMB 2020-05-27 08:46:34.090   \n",
       "4514  29440 2020-07-23 15:36:43     AMB 2020-07-21 09:21:33.733   \n",
       "4515  29399 2020-07-23 00:00:21     AMB 2020-07-17 10:29:23.493   \n",
       "\n",
       "                                                  I_ICD  \n",
       "0       1550 - Tumori maligni primitivi del fegato#2048  \n",
       "1       1550 - Tumori maligni primitivi del fegato#2048  \n",
       "2     1629 - Tumori maligni del bronco o polmone -  ...  \n",
       "3     1629 - Tumori maligni del bronco o polmone -  ...  \n",
       "4     1739 - Altri tumori maligni della cute -  sede...  \n",
       "...                                                 ...  \n",
       "4511  1500 - Tumori maligni dell'esofago cervicale#2...  \n",
       "4512  1629 - Tumori maligni del bronco o polmone, no...  \n",
       "4513    1536 - Tumori maligni del colon ascendente#2039  \n",
       "4514  1629 - Tumori maligni del bronco o polmone, no...  \n",
       "4515  1630 - Tumori maligni della pleura parietale#2070  \n",
       "\n",
       "[4516 rows x 5 columns]"
      ]
     },
     "execution_count": 110,
     "metadata": {},
     "output_type": "execute_result"
    }
   ],
   "source": [
    "df_referral"
   ]
  },
  {
   "cell_type": "code",
   "execution_count": 111,
   "metadata": {},
   "outputs": [
    {
     "data": {
      "text/html": [
       "<div>\n",
       "<style scoped>\n",
       "    .dataframe tbody tr th:only-of-type {\n",
       "        vertical-align: middle;\n",
       "    }\n",
       "\n",
       "    .dataframe tbody tr th {\n",
       "        vertical-align: top;\n",
       "    }\n",
       "\n",
       "    .dataframe thead th {\n",
       "        text-align: right;\n",
       "    }\n",
       "</style>\n",
       "<table border=\"1\" class=\"dataframe\">\n",
       "  <thead>\n",
       "    <tr style=\"text-align: right;\">\n",
       "      <th></th>\n",
       "      <th>IDEHR</th>\n",
       "      <th>Data</th>\n",
       "      <th>EHRType</th>\n",
       "      <th>TimeStamp_Insert</th>\n",
       "      <th>I_ICD</th>\n",
       "      <th>survival_time_days</th>\n",
       "    </tr>\n",
       "  </thead>\n",
       "  <tbody>\n",
       "    <tr>\n",
       "      <th>0</th>\n",
       "      <td>3263</td>\n",
       "      <td>2015-10-02 07:50:00</td>\n",
       "      <td>AMB</td>\n",
       "      <td>2015-09-21 10:00:18.743</td>\n",
       "      <td>1550 - Tumori maligni primitivi del fegato#2048</td>\n",
       "      <td>10.0</td>\n",
       "    </tr>\n",
       "    <tr>\n",
       "      <th>1</th>\n",
       "      <td>2904</td>\n",
       "      <td>NaT</td>\n",
       "      <td>AMB</td>\n",
       "      <td>2015-09-04 14:53:01.400</td>\n",
       "      <td>1550 - Tumori maligni primitivi del fegato#2048</td>\n",
       "      <td>NaN</td>\n",
       "    </tr>\n",
       "    <tr>\n",
       "      <th>2</th>\n",
       "      <td>3339</td>\n",
       "      <td>NaT</td>\n",
       "      <td>AMB</td>\n",
       "      <td>2015-09-23 15:11:20.817</td>\n",
       "      <td>1629 - Tumori maligni del bronco o polmone -  ...</td>\n",
       "      <td>NaN</td>\n",
       "    </tr>\n",
       "    <tr>\n",
       "      <th>3</th>\n",
       "      <td>3394</td>\n",
       "      <td>2015-10-06 03:25:00</td>\n",
       "      <td>AMB</td>\n",
       "      <td>2015-09-25 18:17:56.940</td>\n",
       "      <td>1629 - Tumori maligni del bronco o polmone -  ...</td>\n",
       "      <td>10.0</td>\n",
       "    </tr>\n",
       "    <tr>\n",
       "      <th>4</th>\n",
       "      <td>3417</td>\n",
       "      <td>2015-10-05 15:00:00</td>\n",
       "      <td>AMB</td>\n",
       "      <td>2015-09-28 17:26:59.413</td>\n",
       "      <td>1739 - Altri tumori maligni della cute -  sede...</td>\n",
       "      <td>6.0</td>\n",
       "    </tr>\n",
       "  </tbody>\n",
       "</table>\n",
       "</div>"
      ],
      "text/plain": [
       "   IDEHR                Data EHRType        TimeStamp_Insert  \\\n",
       "0   3263 2015-10-02 07:50:00     AMB 2015-09-21 10:00:18.743   \n",
       "1   2904                 NaT     AMB 2015-09-04 14:53:01.400   \n",
       "2   3339                 NaT     AMB 2015-09-23 15:11:20.817   \n",
       "3   3394 2015-10-06 03:25:00     AMB 2015-09-25 18:17:56.940   \n",
       "4   3417 2015-10-05 15:00:00     AMB 2015-09-28 17:26:59.413   \n",
       "\n",
       "                                               I_ICD  survival_time_days  \n",
       "0    1550 - Tumori maligni primitivi del fegato#2048                10.0  \n",
       "1    1550 - Tumori maligni primitivi del fegato#2048                 NaN  \n",
       "2  1629 - Tumori maligni del bronco o polmone -  ...                 NaN  \n",
       "3  1629 - Tumori maligni del bronco o polmone -  ...                10.0  \n",
       "4  1739 - Altri tumori maligni della cute -  sede...                 6.0  "
      ]
     },
     "execution_count": 111,
     "metadata": {},
     "output_type": "execute_result"
    }
   ],
   "source": [
    "# get the survival time (in days) for each patient\n",
    "df_referral['survival_time_days'] = pd.to_timedelta(df_referral['Data'] - df_referral['TimeStamp_Insert']).dt.days\n",
    "df_referral.head()"
   ]
  },
  {
   "cell_type": "code",
   "execution_count": 112,
   "metadata": {},
   "outputs": [
    {
     "name": "stdout",
     "output_type": "stream",
     "text": [
      "(4516, 6)\n"
     ]
    },
    {
     "data": {
      "text/plain": [
       "5.0      171\n",
       "2.0      160\n",
       "3.0      160\n",
       "4.0      153\n",
       "1.0      149\n",
       "        ... \n",
       "307.0      1\n",
       "353.0      1\n",
       "571.0      1\n",
       "450.0      1\n",
       "782.0      1\n",
       "Name: survival_time_days, Length: 306, dtype: int64"
      ]
     },
     "execution_count": 112,
     "metadata": {},
     "output_type": "execute_result"
    }
   ],
   "source": [
    "print(df_referral.shape)\n",
    "df_referral.survival_time_days.value_counts()"
   ]
  },
  {
   "cell_type": "code",
   "execution_count": 113,
   "metadata": {},
   "outputs": [
    {
     "name": "stdout",
     "output_type": "stream",
     "text": [
      "IDEHR                  0\n",
      "Data                  52\n",
      "EHRType                0\n",
      "TimeStamp_Insert       0\n",
      "I_ICD                  0\n",
      "survival_time_days    52\n",
      "dtype: int64\n"
     ]
    }
   ],
   "source": [
    "print(df_referral.isna().sum())\n",
    "df_referral = df_referral.dropna()"
   ]
  },
  {
   "cell_type": "code",
   "execution_count": 114,
   "metadata": {},
   "outputs": [],
   "source": [
    "# translate the diagnosis to English\n",
    "# from googletrans import Translator\n",
    "# df_referral['Diagnosis'] = df_referral.Diagnosi.str.findall('(.+)#').to_frame()\n",
    "# df_referral['Diagnosis'] = df_referral['Diagnosis'].apply(lambda x: x if isinstance(x, float) else x[0])\n",
    "\n",
    "# translator = Translator()\n",
    "# df_referral['Diagnosi'] = df_referral['Diagnosis'].apply(translator.translate, src='it', dest='en').apply(getattr, args=('text',))\n",
    "# df_referral = df_referral.drop(columns = ['Diagnosis'])\n",
    "# df_referral.head()"
   ]
  },
  {
   "cell_type": "code",
   "execution_count": 115,
   "metadata": {},
   "outputs": [],
   "source": [
    "def autolabel(rects):\n",
    "    \"\"\"Attach a text label above each bar in *rects*, displaying its height.\"\"\"\n",
    "    for rect in rects:\n",
    "        height = rect.get_width()\n",
    "        ax.annotate('{}'.format(height),\n",
    "                    xy=(height, rect.get_y()),\n",
    "                    xytext=(30, 0),  # 3 points vertical offset\n",
    "                    textcoords=\"offset points\",\n",
    "                    ha='center', va='bottom')"
   ]
  },
  {
   "cell_type": "code",
   "execution_count": 116,
   "metadata": {
    "scrolled": true
   },
   "outputs": [
    {
     "name": "stdout",
     "output_type": "stream",
     "text": [
      " 5.0       171\n",
      " 2.0       160\n",
      " 3.0       160\n",
      " 4.0       153\n",
      " 1.0       149\n",
      " 9.0       125\n",
      " 6.0       124\n",
      " 8.0       118\n",
      " 7.0       118\n",
      " 10.0      108\n",
      " 11.0      104\n",
      " 15.0      101\n",
      " 12.0       99\n",
      " 13.0       88\n",
      " 14.0       85\n",
      " 16.0       78\n",
      " 17.0       76\n",
      " 19.0       73\n",
      " 18.0       73\n",
      " 0.0        73\n",
      " 22.0       72\n",
      " 24.0       67\n",
      " 23.0       66\n",
      " 26.0       62\n",
      " 21.0       57\n",
      " 20.0       57\n",
      " 28.0       55\n",
      " 25.0       52\n",
      " 29.0       48\n",
      " 27.0       45\n",
      " 31.0       44\n",
      " 30.0       44\n",
      " 37.0       41\n",
      " 35.0       38\n",
      " 46.0       37\n",
      " 38.0       37\n",
      " 36.0       35\n",
      " 32.0       35\n",
      " 34.0       34\n",
      " 40.0       32\n",
      " 45.0       32\n",
      " 33.0       31\n",
      " 44.0       30\n",
      " 47.0       29\n",
      " 39.0       29\n",
      " 42.0       27\n",
      " 41.0       26\n",
      " 50.0       26\n",
      " 57.0       26\n",
      " 43.0       26\n",
      " 48.0       20\n",
      " 55.0       19\n",
      " 49.0       19\n",
      " 56.0       19\n",
      " 61.0       18\n",
      " 62.0       18\n",
      " 51.0       18\n",
      " 79.0       17\n",
      " 59.0       17\n",
      " 70.0       16\n",
      " 58.0       16\n",
      " 52.0       15\n",
      " 53.0       15\n",
      " 64.0       14\n",
      " 63.0       14\n",
      " 60.0       13\n",
      " 66.0       13\n",
      " 80.0       13\n",
      " 83.0       13\n",
      " 81.0       12\n",
      " 86.0       12\n",
      " 77.0       11\n",
      " 65.0       11\n",
      " 71.0       11\n",
      " 96.0       10\n",
      " 72.0       10\n",
      " 67.0       10\n",
      " 68.0       10\n",
      " 78.0        9\n",
      " 69.0        9\n",
      " 100.0       9\n",
      " 73.0        9\n",
      " 54.0        9\n",
      " 74.0        9\n",
      " 113.0       8\n",
      " 76.0        8\n",
      " 121.0       8\n",
      " 95.0        8\n",
      " 125.0       8\n",
      " 91.0        8\n",
      " 140.0       7\n",
      " 75.0        7\n",
      " 111.0       7\n",
      " 88.0        7\n",
      " 93.0        7\n",
      " 97.0        7\n",
      " 94.0        7\n",
      " 173.0       6\n",
      " 109.0       6\n",
      " 92.0        6\n",
      " 102.0       6\n",
      " 133.0       6\n",
      " 98.0        6\n",
      " 107.0       6\n",
      " 135.0       6\n",
      " 165.0       5\n",
      " 148.0       5\n",
      " 114.0       5\n",
      " 138.0       5\n",
      " 87.0        5\n",
      " 89.0        5\n",
      " 146.0       5\n",
      " 84.0        5\n",
      " 119.0       5\n",
      " 101.0       5\n",
      " 170.0       5\n",
      " 143.0       4\n",
      " 90.0        4\n",
      " 224.0       4\n",
      " 106.0       4\n",
      " 145.0       4\n",
      " 126.0       4\n",
      " 156.0       4\n",
      " 184.0       4\n",
      " 172.0       4\n",
      " 110.0       4\n",
      " 105.0       4\n",
      " 85.0        4\n",
      " 129.0       4\n",
      " 82.0        4\n",
      " 137.0       3\n",
      " 157.0       3\n",
      " 139.0       3\n",
      " 122.0       3\n",
      " 193.0       3\n",
      " 160.0       3\n",
      " 265.0       3\n",
      " 117.0       3\n",
      " 112.0       3\n",
      " 159.0       3\n",
      " 169.0       3\n",
      " 215.0       3\n",
      " 320.0       3\n",
      " 128.0       3\n",
      " 216.0       3\n",
      " 162.0       3\n",
      " 116.0       3\n",
      " 168.0       3\n",
      " 141.0       3\n",
      " 154.0       3\n",
      " 177.0       3\n",
      " 134.0       3\n",
      " 103.0       3\n",
      " 115.0       3\n",
      " 127.0       3\n",
      " 153.0       3\n",
      " 161.0       3\n",
      " 257.0       2\n",
      " 241.0       2\n",
      " 206.0       2\n",
      " 256.0       2\n",
      " 178.0       2\n",
      " 150.0       2\n",
      " 285.0       2\n",
      " 235.0       2\n",
      " 104.0       2\n",
      " 187.0       2\n",
      " 303.0       2\n",
      " 277.0       2\n",
      " 136.0       2\n",
      " 274.0       2\n",
      " 144.0       2\n",
      " 228.0       2\n",
      " 249.0       2\n",
      " 340.0       2\n",
      " 222.0       2\n",
      " 205.0       2\n",
      " 194.0       2\n",
      " 204.0       2\n",
      " 234.0       2\n",
      " 155.0       2\n",
      " 198.0       2\n",
      " 99.0        2\n",
      " 130.0       2\n",
      " 294.0       2\n",
      " 244.0       2\n",
      " 151.0       2\n",
      " 167.0       2\n",
      " 243.0       2\n",
      " 221.0       2\n",
      " 279.0       2\n",
      " 323.0       2\n",
      "-1.0         2\n",
      " 108.0       2\n",
      " 152.0       2\n",
      " 211.0       2\n",
      " 147.0       2\n",
      " 123.0       2\n",
      " 231.0       2\n",
      " 174.0       2\n",
      " 261.0       2\n",
      " 282.0       1\n",
      " 658.0       1\n",
      " 373.0       1\n",
      " 689.0       1\n",
      " 331.0       1\n",
      " 442.0       1\n",
      " 292.0       1\n",
      " 166.0       1\n",
      " 314.0       1\n",
      " 203.0       1\n",
      " 175.0       1\n",
      " 284.0       1\n",
      " 318.0       1\n",
      " 132.0       1\n",
      " 213.0       1\n",
      " 179.0       1\n",
      " 360.0       1\n",
      " 681.0       1\n",
      " 188.0       1\n",
      " 731.0       1\n",
      " 245.0       1\n",
      " 120.0       1\n",
      " 191.0       1\n",
      " 291.0       1\n",
      " 391.0       1\n",
      " 679.0       1\n",
      " 357.0       1\n",
      " 704.0       1\n",
      " 377.0       1\n",
      " 259.0       1\n",
      " 118.0       1\n",
      " 207.0       1\n",
      " 269.0       1\n",
      " 497.0       1\n",
      " 327.0       1\n",
      " 302.0       1\n",
      " 270.0       1\n",
      " 186.0       1\n",
      " 142.0       1\n",
      " 182.0       1\n",
      " 667.0       1\n",
      " 461.0       1\n",
      " 531.0       1\n",
      " 532.0       1\n",
      " 197.0       1\n",
      " 223.0       1\n",
      " 487.0       1\n",
      " 202.0       1\n",
      " 210.0       1\n",
      " 428.0       1\n",
      " 1416.0      1\n",
      " 324.0       1\n",
      " 362.0       1\n",
      " 190.0       1\n",
      " 201.0       1\n",
      " 275.0       1\n",
      " 297.0       1\n",
      " 248.0       1\n",
      " 232.0       1\n",
      " 200.0       1\n",
      " 672.0       1\n",
      " 326.0       1\n",
      " 359.0       1\n",
      " 458.0       1\n",
      " 124.0       1\n",
      " 566.0       1\n",
      " 313.0       1\n",
      " 687.0       1\n",
      " 605.0       1\n",
      " 620.0       1\n",
      " 346.0       1\n",
      " 530.0       1\n",
      " 149.0       1\n",
      " 906.0       1\n",
      " 453.0       1\n",
      " 183.0       1\n",
      " 636.0       1\n",
      " 309.0       1\n",
      " 603.0       1\n",
      " 290.0       1\n",
      " 463.0       1\n",
      " 163.0       1\n",
      " 306.0       1\n",
      " 311.0       1\n",
      " 271.0       1\n",
      " 308.0       1\n",
      " 214.0       1\n",
      " 253.0       1\n",
      " 322.0       1\n",
      " 406.0       1\n",
      " 332.0       1\n",
      " 199.0       1\n",
      " 252.0       1\n",
      " 212.0       1\n",
      " 180.0       1\n",
      " 237.0       1\n",
      " 321.0       1\n",
      " 219.0       1\n",
      " 229.0       1\n",
      " 225.0       1\n",
      " 307.0       1\n",
      " 353.0       1\n",
      " 571.0       1\n",
      " 450.0       1\n",
      " 782.0       1\n",
      "Name: survival_time_days, dtype: int64\n"
     ]
    }
   ],
   "source": [
    "with pd.option_context(\"display.max_rows\", 1000):\n",
    "    print(df_referral.survival_time_days.value_counts())"
   ]
  },
  {
   "cell_type": "code",
   "execution_count": 117,
   "metadata": {},
   "outputs": [
    {
     "name": "stdout",
     "output_type": "stream",
     "text": [
      "Mean Survival:  41.92383512544803\n",
      "Survival Stddev:  72.97699056769135\n"
     ]
    }
   ],
   "source": [
    "# print('Mean Survival (using index): ', np.mean(df_referral.survival_time_days.value_counts())) # this just gives the mean of the days (not counting the number of times that day occurs)\n",
    "# print('Survival Stddev (using index): ', np.std(df_referral.survival_time_days.value_counts().index, ddof=0))\n",
    "print('Mean Survival: ', np.mean(df_referral.survival_time_days))\n",
    "print('Survival Stddev: ', np.std(df_referral.survival_time_days, ddof=0))"
   ]
  },
  {
   "cell_type": "code",
   "execution_count": 118,
   "metadata": {},
   "outputs": [
    {
     "data": {
      "text/plain": [
       "<Figure size 1440x720 with 0 Axes>"
      ]
     },
     "metadata": {},
     "output_type": "display_data"
    },
    {
     "data": {
      "image/png": "[encoded data removed]",
      "text/plain": [
       "<Figure size 1440x720 with 1 Axes>"
      ]
     },
     "metadata": {
      "needs_background": "light"
     },
     "output_type": "display_data"
    }
   ],
   "source": [
    "# get the survival time histogram for all patients\n",
    "plt.rcParams['figure.figsize'] = [20, 10]\n",
    "matplotlib.rcParams.update({'font.size': 15})\n",
    "plt.figure()\n",
    "labels = df_referral['survival_time_days'].value_counts().index\n",
    "survival = df_referral['survival_time_days'].value_counts(normalize=False)\n",
    "fig, ax = plt.subplots()\n",
    "bar1 = ax.bar(labels, survival, label='Patients')\n",
    "ax.set_xlabel('Days')\n",
    "ax.set_ylabel('No. of Patients')\n",
    "ax.set_title('Survival Time')\n",
    "ax.legend()\n",
    "plt.grid()\n",
    "plt.savefig(\"./graphs/referral analysis/survival_time.png\")\n",
    "plt.show()"
   ]
  },
  {
   "cell_type": "code",
   "execution_count": 119,
   "metadata": {
    "scrolled": true
   },
   "outputs": [],
   "source": [
    "# df_referral.I_ICD.unique()"
   ]
  },
  {
   "cell_type": "code",
   "execution_count": 120,
   "metadata": {
    "scrolled": true
   },
   "outputs": [
    {
     "name": "stderr",
     "output_type": "stream",
     "text": [
      "<ipython-input-120-4a88bdb045d3>:3: SettingWithCopyWarning: \n",
      "A value is trying to be set on a copy of a slice from a DataFrame.\n",
      "Try using .loc[row_indexer,col_indexer] = value instead\n",
      "\n",
      "See the caveats in the documentation: https://pandas.pydata.org/pandas-docs/stable/user_guide/indexing.html#returning-a-view-versus-a-copy\n",
      "  df_referral['Diagnosis'] = df_referral.I_ICD.str.findall('- (.+)#').to_frame()\n",
      "<ipython-input-120-4a88bdb045d3>:4: SettingWithCopyWarning: \n",
      "A value is trying to be set on a copy of a slice from a DataFrame.\n",
      "Try using .loc[row_indexer,col_indexer] = value instead\n",
      "\n",
      "See the caveats in the documentation: https://pandas.pydata.org/pandas-docs/stable/user_guide/indexing.html#returning-a-view-versus-a-copy\n",
      "  df_referral['Diagnosis'] = df_referral['Diagnosis'].apply(lambda x: x if isinstance(x, float) else x[0])\n",
      "<ipython-input-120-4a88bdb045d3>:5: SettingWithCopyWarning: \n",
      "A value is trying to be set on a copy of a slice from a DataFrame.\n",
      "Try using .loc[row_indexer,col_indexer] = value instead\n",
      "\n",
      "See the caveats in the documentation: https://pandas.pydata.org/pandas-docs/stable/user_guide/indexing.html#returning-a-view-versus-a-copy\n",
      "  df_referral['Diag_Ref'] = df_referral.I_ICD.str.findall('(\\d+) -').to_frame()\n",
      "<ipython-input-120-4a88bdb045d3>:6: SettingWithCopyWarning: \n",
      "A value is trying to be set on a copy of a slice from a DataFrame.\n",
      "Try using .loc[row_indexer,col_indexer] = value instead\n",
      "\n",
      "See the caveats in the documentation: https://pandas.pydata.org/pandas-docs/stable/user_guide/indexing.html#returning-a-view-versus-a-copy\n",
      "  df_referral['Diag_Ref'] = df_referral['Diag_Ref'].apply(lambda x: x if isinstance(x, float) else int(x[0]))\n"
     ]
    }
   ],
   "source": [
    "# clean up the diagnosis column\n",
    "from googletrans import Translator\n",
    "df_referral['Diagnosis'] = df_referral.I_ICD.str.findall('- (.+)#').to_frame()\n",
    "df_referral['Diagnosis'] = df_referral['Diagnosis'].apply(lambda x: x if isinstance(x, float) else x[0]) \n",
    "df_referral['Diag_Ref'] = df_referral.I_ICD.str.findall('(\\d+) -').to_frame()\n",
    "df_referral['Diag_Ref'] = df_referral['Diag_Ref'].apply(lambda x: x if isinstance(x, float) else int(x[0]))"
   ]
  },
  {
   "cell_type": "code",
   "execution_count": 121,
   "metadata": {},
   "outputs": [
    {
     "data": {
      "text/html": [
       "<div>\n",
       "<style scoped>\n",
       "    .dataframe tbody tr th:only-of-type {\n",
       "        vertical-align: middle;\n",
       "    }\n",
       "\n",
       "    .dataframe tbody tr th {\n",
       "        vertical-align: top;\n",
       "    }\n",
       "\n",
       "    .dataframe thead th {\n",
       "        text-align: right;\n",
       "    }\n",
       "</style>\n",
       "<table border=\"1\" class=\"dataframe\">\n",
       "  <thead>\n",
       "    <tr style=\"text-align: right;\">\n",
       "      <th></th>\n",
       "      <th>IDEHR</th>\n",
       "      <th>Data</th>\n",
       "      <th>EHRType</th>\n",
       "      <th>TimeStamp_Insert</th>\n",
       "      <th>I_ICD</th>\n",
       "      <th>survival_time_days</th>\n",
       "      <th>Diagnosis</th>\n",
       "      <th>Diag_Ref</th>\n",
       "    </tr>\n",
       "  </thead>\n",
       "  <tbody>\n",
       "    <tr>\n",
       "      <th>0</th>\n",
       "      <td>3263</td>\n",
       "      <td>2015-10-02 07:50:00</td>\n",
       "      <td>AMB</td>\n",
       "      <td>2015-09-21 10:00:18.743</td>\n",
       "      <td>1550 - Tumori maligni primitivi del fegato#2048</td>\n",
       "      <td>10.0</td>\n",
       "      <td>Tumori maligni primitivi del fegato</td>\n",
       "      <td>1550</td>\n",
       "    </tr>\n",
       "    <tr>\n",
       "      <th>3</th>\n",
       "      <td>3394</td>\n",
       "      <td>2015-10-06 03:25:00</td>\n",
       "      <td>AMB</td>\n",
       "      <td>2015-09-25 18:17:56.940</td>\n",
       "      <td>1629 - Tumori maligni del bronco o polmone -  ...</td>\n",
       "      <td>10.0</td>\n",
       "      <td>Tumori maligni del bronco o polmone -  non spe...</td>\n",
       "      <td>1629</td>\n",
       "    </tr>\n",
       "    <tr>\n",
       "      <th>4</th>\n",
       "      <td>3417</td>\n",
       "      <td>2015-10-05 15:00:00</td>\n",
       "      <td>AMB</td>\n",
       "      <td>2015-09-28 17:26:59.413</td>\n",
       "      <td>1739 - Altri tumori maligni della cute -  sede...</td>\n",
       "      <td>6.0</td>\n",
       "      <td>Altri tumori maligni della cute -  sede non sp...</td>\n",
       "      <td>1739</td>\n",
       "    </tr>\n",
       "    <tr>\n",
       "      <th>5</th>\n",
       "      <td>2977</td>\n",
       "      <td>2015-10-06 06:00:00</td>\n",
       "      <td>AMB</td>\n",
       "      <td>2015-09-08 11:26:31.850</td>\n",
       "      <td>001 - Cure Palliative#2005</td>\n",
       "      <td>27.0</td>\n",
       "      <td>Cure Palliative</td>\n",
       "      <td>1</td>\n",
       "    </tr>\n",
       "    <tr>\n",
       "      <th>6</th>\n",
       "      <td>2826</td>\n",
       "      <td>2015-10-07 18:30:00</td>\n",
       "      <td>AMB</td>\n",
       "      <td>2015-09-02 12:44:23.420</td>\n",
       "      <td>1579 - Tumori maligni del pancreas -  parte no...</td>\n",
       "      <td>35.0</td>\n",
       "      <td>Tumori maligni del pancreas -  parte non speci...</td>\n",
       "      <td>1579</td>\n",
       "    </tr>\n",
       "  </tbody>\n",
       "</table>\n",
       "</div>"
      ],
      "text/plain": [
       "   IDEHR                Data EHRType        TimeStamp_Insert  \\\n",
       "0   3263 2015-10-02 07:50:00     AMB 2015-09-21 10:00:18.743   \n",
       "3   3394 2015-10-06 03:25:00     AMB 2015-09-25 18:17:56.940   \n",
       "4   3417 2015-10-05 15:00:00     AMB 2015-09-28 17:26:59.413   \n",
       "5   2977 2015-10-06 06:00:00     AMB 2015-09-08 11:26:31.850   \n",
       "6   2826 2015-10-07 18:30:00     AMB 2015-09-02 12:44:23.420   \n",
       "\n",
       "                                               I_ICD  survival_time_days  \\\n",
       "0    1550 - Tumori maligni primitivi del fegato#2048                10.0   \n",
       "3  1629 - Tumori maligni del bronco o polmone -  ...                10.0   \n",
       "4  1739 - Altri tumori maligni della cute -  sede...                 6.0   \n",
       "5                         001 - Cure Palliative#2005                27.0   \n",
       "6  1579 - Tumori maligni del pancreas -  parte no...                35.0   \n",
       "\n",
       "                                           Diagnosis  Diag_Ref  \n",
       "0                Tumori maligni primitivi del fegato      1550  \n",
       "3  Tumori maligni del bronco o polmone -  non spe...      1629  \n",
       "4  Altri tumori maligni della cute -  sede non sp...      1739  \n",
       "5                                    Cure Palliative         1  \n",
       "6  Tumori maligni del pancreas -  parte non speci...      1579  "
      ]
     },
     "execution_count": 121,
     "metadata": {},
     "output_type": "execute_result"
    }
   ],
   "source": [
    "df_referral.head()"
   ]
  },
  {
   "cell_type": "code",
   "execution_count": 122,
   "metadata": {
    "scrolled": true
   },
   "outputs": [
    {
     "name": "stdout",
     "output_type": "stream",
     "text": [
      "478 429\n"
     ]
    },
    {
     "data": {
      "text/html": [
       "<div>\n",
       "<style scoped>\n",
       "    .dataframe tbody tr th:only-of-type {\n",
       "        vertical-align: middle;\n",
       "    }\n",
       "\n",
       "    .dataframe tbody tr th {\n",
       "        vertical-align: top;\n",
       "    }\n",
       "\n",
       "    .dataframe thead th {\n",
       "        text-align: right;\n",
       "    }\n",
       "</style>\n",
       "<table border=\"1\" class=\"dataframe\">\n",
       "  <thead>\n",
       "    <tr style=\"text-align: right;\">\n",
       "      <th></th>\n",
       "      <th>Diagnosis</th>\n",
       "      <th>Diag_Ref</th>\n",
       "    </tr>\n",
       "  </thead>\n",
       "  <tbody>\n",
       "    <tr>\n",
       "      <th>0</th>\n",
       "      <td>Primary malignant tumors of the liver</td>\n",
       "      <td>1550</td>\n",
       "    </tr>\n",
       "    <tr>\n",
       "      <th>3</th>\n",
       "      <td>Malignant tumors of the bronchus or lung - uns...</td>\n",
       "      <td>1629</td>\n",
       "    </tr>\n",
       "    <tr>\n",
       "      <th>4</th>\n",
       "      <td>Other skin malignancies - unspecified site</td>\n",
       "      <td>1739</td>\n",
       "    </tr>\n",
       "    <tr>\n",
       "      <th>5</th>\n",
       "      <td>Palliative Care</td>\n",
       "      <td>1</td>\n",
       "    </tr>\n",
       "    <tr>\n",
       "      <th>6</th>\n",
       "      <td>Malignant tumors of the pancreas - unspecified...</td>\n",
       "      <td>1579</td>\n",
       "    </tr>\n",
       "  </tbody>\n",
       "</table>\n",
       "</div>"
      ],
      "text/plain": [
       "                                           Diagnosis  Diag_Ref\n",
       "0              Primary malignant tumors of the liver      1550\n",
       "3  Malignant tumors of the bronchus or lung - uns...      1629\n",
       "4         Other skin malignancies - unspecified site      1739\n",
       "5                                    Palliative Care         1\n",
       "6  Malignant tumors of the pancreas - unspecified...      1579"
      ]
     },
     "execution_count": 122,
     "metadata": {},
     "output_type": "execute_result"
    }
   ],
   "source": [
    "# ref_diag = df_referral[['Diagnosis', 'Diag_Ref']].drop_duplicates()\n",
    "# ref_diag['Diagnosis'] = ref_diag['Diagnosis'].apply(translator.translate, src='it', dest='en').apply(getattr, args=('text',))\n",
    "# print(len(ref_diag.Diagnosis.unique()), len(ref_diag.Diag_Ref.unique()))\n",
    "# ref_diag.head()"
   ]
  },
  {
   "cell_type": "code",
   "execution_count": 123,
   "metadata": {},
   "outputs": [],
   "source": [
    "# save as csv file for grouping reference\n",
    "# ref_diag.to_csv('./vidas_data/diagnosis_reference.csv')"
   ]
  },
  {
   "cell_type": "code",
   "execution_count": 124,
   "metadata": {},
   "outputs": [],
   "source": [
    "# group together similar diag \n",
    "liver_biliary = [1550, 1977, 1560, 1569, 1977, 1568, 1561, 1552, 1551]\n",
    "lung = [1629, 1625, 1624, 1623, 1970, 1628, 1630, 1639, 162, 1638, 2312, 1631, 1011, 1649, 1972, 1622]\n",
    "skin = [1739, 1728, 1738, 172, 1723, 1737, 1733, 1729, 2324, 1735, 1760]\n",
    "other = [1, 667, 20340, 436, 51883, 1533, 4289, 1580, 2, 4379, 1562, 40391, 1589, 1639, 7054, 20300, 1534, 5193, 1976, 5859, 4281, 5119, 4280, 1990, 33520, 1928, 1718, 20290, 5716, 667, 7895, 33119, 20301, 4149, 20500, 20530, 2059, 199, 23875, 2040, 5715, 2900, 200, 33182, 4912, 202, 591, 2904, 29043, 586, 425, 2900, 6393, 49122, 1958, 2399, 34839, 5761, 7242, 99, 2308, 71500, 1961, 10, 1872, 1719, 2564, 1640, 51883, 4380, 1768, 2902, 2399, 29021, 4254, 3321, 2012, 1515, 3382, 51881, 515, 29040, 49121, 51884, 1960, 34591, 4011, 1079, 4371, 1452, 29020, 23875, 4918, 4409, 7687, 1009, 2859, 5849, 73300, 768, 109, 2800, 2941, 600, 1303, 7994, 5712, 4299, 3485, 2019, 1052, 29411, 4019, 7854, 5118, 3320, 4169, 4414, 2252, 3352, 431, 28521, 28989, 4150, 7051, 3438, 1991, 4321, 1709, 578, 56089, 7824, 20380, 2002, 20020, 43811, 340, 73301, 19889, 49120, 20121, 2899, 261, 2903, 2001, 3312, 4160, 57140, 20002, 42, 5900, 9985, 42731, 41511, 430, 99591, 1702, 3449, 40493, 20000, 4168, 34830, 3314, 34590, 463, 135, 20191, 1962, 33524, 29041, 2089, 4941, 28529, 5609]\n",
    "pancreas = [1579, 1578, 1570, 1571, 1572, 157, 1573]\n",
    "head_neck = [1619, 1488, 1489, 1467, 1450, 1471, 1468, 1409, 1431, 1412, 1460, 1710, 1418, 1420, 1724, 1469, 1419, 1439, 1479, 1421, 1601, 1721, 1441, 1603, 1618, 1610, 1459, 1499, 1411, 1950, 1490, 1459, 1478, 1438]\n",
    "stomach_esophagus = [1519, 1513, 1518, 1509, 1504, 1514, 1502, 1501, 150, 1004, 1520,  1510, 1508, 1512, 1503, 1500, 1505, 1588, 1589, 1598]\n",
    "kidney = [1891, 1890, 1892, 1899, 189, 1898]\n",
    "lymphoid_leukemia = [20410, 20890, 2048, 2041, 20480, 20400, 20600, 20420]\n",
    "breast = [1740, 1749, 1744, 1749, 1748, 1741, 174, 1742, 1759, 2330, 1743,  1745, 1746, 103]\n",
    "brain = [1919, 1918, 1917, 1910, 1911, 191, 1912, 1913, 1983, 1929, 1921, 1916]\n",
    "colorectal = [1539, 1540, 1532, 1541, 1536, 154, 153, 1548, 1543, 1531, 1535, 1975, 1543, 1542]\n",
    "bladder = [1888, 1889, 188, 1883, 1882, 1884, 2337, 1881, 1899, 1880]\n",
    "tongue = [1410]\n",
    "limb = [1726, 1725, 1707, 1727, 1717, 1716, 1713, 1715]\n",
    "uterus = [179, 1828, 1809, 1820, 1838, 1839]\n",
    "thyroid = [193]\n",
    "prostate = [185, 1046, 2334]\n",
    "bone_marrow = [28983, 1985, 20500]\n",
    "ovary = [1830, 1986, 1043]\n",
    "lymphoma = [20208, 20203, 20288, 20021, 20202, 20201, 20280, 20028, 20200, 20280, 20021, 20028, 20025, 20282, 20013, 20204, 20281,  20015, 20286, 20010]\n",
    "cervical = [1844, 1809, 1840, 2331, 1808, 1801, 1800]\n",
    "intestine = [1538, 1529, 1590, 1530, 1522, 1590, 1528, 1005]"
   ]
  },
  {
   "cell_type": "code",
   "execution_count": 125,
   "metadata": {},
   "outputs": [
    {
     "name": "stderr",
     "output_type": "stream",
     "text": [
      "<ipython-input-125-c0771b3ad04c>:1: SettingWithCopyWarning: \n",
      "A value is trying to be set on a copy of a slice from a DataFrame.\n",
      "Try using .loc[row_indexer,col_indexer] = value instead\n",
      "\n",
      "See the caveats in the documentation: https://pandas.pydata.org/pandas-docs/stable/user_guide/indexing.html#returning-a-view-versus-a-copy\n",
      "  df_referral['Diagnosis_Flag'] = np.NaN\n",
      "C:\\Users\\prate\\anaconda3\\lib\\site-packages\\pandas\\core\\indexing.py:966: SettingWithCopyWarning: \n",
      "A value is trying to be set on a copy of a slice from a DataFrame.\n",
      "Try using .loc[row_indexer,col_indexer] = value instead\n",
      "\n",
      "See the caveats in the documentation: https://pandas.pydata.org/pandas-docs/stable/user_guide/indexing.html#returning-a-view-versus-a-copy\n",
      "  self.obj[item] = s\n"
     ]
    }
   ],
   "source": [
    "df_referral['Diagnosis_Flag'] = np.NaN\n",
    "df_referral.loc[df_referral['Diag_Ref'].isin(liver_biliary), 'Diagnosis'] = 'Liver-Biliary'\n",
    "df_referral.loc[df_referral['Diag_Ref'].isin(liver_biliary), 'Diagnosis_Flag'] = True\n",
    "df_referral.loc[df_referral['Diag_Ref'].isin(lung), 'Diagnosis'] = 'Lung'\n",
    "df_referral.loc[df_referral['Diag_Ref'].isin(lung), 'Diagnosis_Flag'] = True\n",
    "df_referral.loc[df_referral['Diag_Ref'].isin(skin), 'Diagnosis'] = 'Skin'\n",
    "df_referral.loc[df_referral['Diag_Ref'].isin(skin), 'Diagnosis_Flag'] = True\n",
    "df_referral.loc[df_referral['Diag_Ref'].isin(other), 'Diagnosis'] = 'Other'\n",
    "df_referral.loc[df_referral['Diag_Ref'].isin(other), 'Diagnosis_Flag'] = True\n",
    "df_referral.loc[df_referral['Diag_Ref'].isin(pancreas), 'Diagnosis'] = 'Pancreas'\n",
    "df_referral.loc[df_referral['Diag_Ref'].isin(pancreas), 'Diagnosis_Flag'] = True\n",
    "df_referral.loc[df_referral['Diag_Ref'].isin(head_neck), 'Diagnosis'] = 'Head-Neck'\n",
    "df_referral.loc[df_referral['Diag_Ref'].isin(head_neck), 'Diagnosis_Flag'] = True\n",
    "df_referral.loc[df_referral['Diag_Ref'].isin(stomach_esophagus), 'Diagnosis'] = 'Stomach-Esophagus'\n",
    "df_referral.loc[df_referral['Diag_Ref'].isin(stomach_esophagus), 'Diagnosis_Flag'] = True\n",
    "df_referral.loc[df_referral['Diag_Ref'].isin(kidney), 'Diagnosis'] = 'Kidney'\n",
    "df_referral.loc[df_referral['Diag_Ref'].isin(kidney), 'Diagnosis_Flag'] = True\n",
    "df_referral.loc[df_referral['Diag_Ref'].isin(lymphoid_leukemia), 'Diagnosis'] = 'Lymphoid_Leukemia'\n",
    "df_referral.loc[df_referral['Diag_Ref'].isin(lymphoid_leukemia), 'Diagnosis_Flag'] = True\n",
    "df_referral.loc[df_referral['Diag_Ref'].isin(breast), 'Diagnosis'] = 'Breast'\n",
    "df_referral.loc[df_referral['Diag_Ref'].isin(breast), 'Diagnosis_Flag'] = True\n",
    "df_referral.loc[df_referral['Diag_Ref'].isin(brain), 'Diagnosis'] = 'Brain'\n",
    "df_referral.loc[df_referral['Diag_Ref'].isin(brain), 'Diagnosis_Flag'] = True\n",
    "df_referral.loc[df_referral['Diag_Ref'].isin(colorectal), 'Diagnosis'] = 'Colorectal'\n",
    "df_referral.loc[df_referral['Diag_Ref'].isin(colorectal), 'Diagnosis_Flag'] = True\n",
    "df_referral.loc[df_referral['Diag_Ref'].isin(bladder), 'Diagnosis'] = 'Bladder'\n",
    "df_referral.loc[df_referral['Diag_Ref'].isin(bladder), 'Diagnosis_Flag'] = True\n",
    "df_referral.loc[df_referral['Diag_Ref'].isin(tongue), 'Diagnosis'] = 'Tongue'\n",
    "df_referral.loc[df_referral['Diag_Ref'].isin(tongue), 'Diagnosis_Flag'] = True\n",
    "df_referral.loc[df_referral['Diag_Ref'].isin(limb), 'Diagnosis'] = 'Limb'\n",
    "df_referral.loc[df_referral['Diag_Ref'].isin(limb), 'Diagnosis_Flag'] = True\n",
    "df_referral.loc[df_referral['Diag_Ref'].isin(uterus), 'Diagnosis'] = 'Uterus'\n",
    "df_referral.loc[df_referral['Diag_Ref'].isin(uterus), 'Diagnosis_Flag'] = True\n",
    "df_referral.loc[df_referral['Diag_Ref'].isin(thyroid), 'Diagnosis'] = 'Thyroid'\n",
    "df_referral.loc[df_referral['Diag_Ref'].isin(thyroid), 'Diagnosis_Flag'] = True\n",
    "df_referral.loc[df_referral['Diag_Ref'].isin(prostate), 'Diagnosis'] = 'Prostate'\n",
    "df_referral.loc[df_referral['Diag_Ref'].isin(prostate), 'Diagnosis_Flag'] = True\n",
    "df_referral.loc[df_referral['Diag_Ref'].isin(bone_marrow), 'Diagnosis'] = 'Bone Marrow'\n",
    "df_referral.loc[df_referral['Diag_Ref'].isin(bone_marrow), 'Diagnosis_Flag'] = True\n",
    "df_referral.loc[df_referral['Diag_Ref'].isin(ovary), 'Diagnosis'] = 'Ovary'\n",
    "df_referral.loc[df_referral['Diag_Ref'].isin(ovary), 'Diagnosis_Flag'] = True\n",
    "df_referral.loc[df_referral['Diag_Ref'].isin(lymphoma), 'Diagnosis'] = 'Lymphoma'\n",
    "df_referral.loc[df_referral['Diag_Ref'].isin(lymphoma), 'Diagnosis_Flag'] = True\n",
    "df_referral.loc[df_referral['Diag_Ref'].isin(cervical), 'Diagnosis'] = 'Cervical'\n",
    "df_referral.loc[df_referral['Diag_Ref'].isin(cervical), 'Diagnosis_Flag'] = True\n",
    "df_referral.loc[df_referral['Diag_Ref'].isin(intestine), 'Diagnosis'] = 'Intestine'\n",
    "df_referral.loc[df_referral['Diag_Ref'].isin(intestine), 'Diagnosis_Flag'] = True"
   ]
  },
  {
   "cell_type": "code",
   "execution_count": 126,
   "metadata": {},
   "outputs": [
    {
     "data": {
      "text/plain": [
       "True    4379\n",
       "Name: Diagnosis_Flag, dtype: int64"
      ]
     },
     "execution_count": 126,
     "metadata": {},
     "output_type": "execute_result"
    }
   ],
   "source": [
    "df_referral.Diagnosis_Flag.value_counts()"
   ]
  },
  {
   "cell_type": "code",
   "execution_count": 127,
   "metadata": {},
   "outputs": [
    {
     "data": {
      "text/plain": [
       "(4464, 9)"
      ]
     },
     "execution_count": 127,
     "metadata": {},
     "output_type": "execute_result"
    }
   ],
   "source": [
    "df_referral.shape"
   ]
  },
  {
   "cell_type": "code",
   "execution_count": 128,
   "metadata": {},
   "outputs": [],
   "source": [
    "df_referral = df_referral[df_referral['Diagnosis_Flag'].notna()]"
   ]
  },
  {
   "cell_type": "code",
   "execution_count": 129,
   "metadata": {},
   "outputs": [
    {
     "data": {
      "text/plain": [
       "(4379, 9)"
      ]
     },
     "execution_count": 129,
     "metadata": {},
     "output_type": "execute_result"
    }
   ],
   "source": [
    "df_referral.shape"
   ]
  },
  {
   "cell_type": "code",
   "execution_count": 130,
   "metadata": {},
   "outputs": [
    {
     "data": {
      "text/html": [
       "<div>\n",
       "<style scoped>\n",
       "    .dataframe tbody tr th:only-of-type {\n",
       "        vertical-align: middle;\n",
       "    }\n",
       "\n",
       "    .dataframe tbody tr th {\n",
       "        vertical-align: top;\n",
       "    }\n",
       "\n",
       "    .dataframe thead th {\n",
       "        text-align: right;\n",
       "    }\n",
       "</style>\n",
       "<table border=\"1\" class=\"dataframe\">\n",
       "  <thead>\n",
       "    <tr style=\"text-align: right;\">\n",
       "      <th></th>\n",
       "      <th>IDEHR</th>\n",
       "      <th>Data</th>\n",
       "      <th>EHRType</th>\n",
       "      <th>TimeStamp_Insert</th>\n",
       "      <th>I_ICD</th>\n",
       "      <th>survival_time_days</th>\n",
       "      <th>Diagnosis</th>\n",
       "      <th>Diag_Ref</th>\n",
       "      <th>Diagnosis_Flag</th>\n",
       "    </tr>\n",
       "  </thead>\n",
       "  <tbody>\n",
       "    <tr>\n",
       "      <th>0</th>\n",
       "      <td>3263</td>\n",
       "      <td>2015-10-02 07:50:00</td>\n",
       "      <td>AMB</td>\n",
       "      <td>2015-09-21 10:00:18.743</td>\n",
       "      <td>1550 - Tumori maligni primitivi del fegato#2048</td>\n",
       "      <td>10.0</td>\n",
       "      <td>Liver-Biliary</td>\n",
       "      <td>1550</td>\n",
       "      <td>True</td>\n",
       "    </tr>\n",
       "    <tr>\n",
       "      <th>3</th>\n",
       "      <td>3394</td>\n",
       "      <td>2015-10-06 03:25:00</td>\n",
       "      <td>AMB</td>\n",
       "      <td>2015-09-25 18:17:56.940</td>\n",
       "      <td>1629 - Tumori maligni del bronco o polmone -  ...</td>\n",
       "      <td>10.0</td>\n",
       "      <td>Lung</td>\n",
       "      <td>1629</td>\n",
       "      <td>True</td>\n",
       "    </tr>\n",
       "    <tr>\n",
       "      <th>4</th>\n",
       "      <td>3417</td>\n",
       "      <td>2015-10-05 15:00:00</td>\n",
       "      <td>AMB</td>\n",
       "      <td>2015-09-28 17:26:59.413</td>\n",
       "      <td>1739 - Altri tumori maligni della cute -  sede...</td>\n",
       "      <td>6.0</td>\n",
       "      <td>Skin</td>\n",
       "      <td>1739</td>\n",
       "      <td>True</td>\n",
       "    </tr>\n",
       "    <tr>\n",
       "      <th>5</th>\n",
       "      <td>2977</td>\n",
       "      <td>2015-10-06 06:00:00</td>\n",
       "      <td>AMB</td>\n",
       "      <td>2015-09-08 11:26:31.850</td>\n",
       "      <td>001 - Cure Palliative#2005</td>\n",
       "      <td>27.0</td>\n",
       "      <td>Other</td>\n",
       "      <td>1</td>\n",
       "      <td>True</td>\n",
       "    </tr>\n",
       "    <tr>\n",
       "      <th>6</th>\n",
       "      <td>2826</td>\n",
       "      <td>2015-10-07 18:30:00</td>\n",
       "      <td>AMB</td>\n",
       "      <td>2015-09-02 12:44:23.420</td>\n",
       "      <td>1579 - Tumori maligni del pancreas -  parte no...</td>\n",
       "      <td>35.0</td>\n",
       "      <td>Pancreas</td>\n",
       "      <td>1579</td>\n",
       "      <td>True</td>\n",
       "    </tr>\n",
       "  </tbody>\n",
       "</table>\n",
       "</div>"
      ],
      "text/plain": [
       "   IDEHR                Data EHRType        TimeStamp_Insert  \\\n",
       "0   3263 2015-10-02 07:50:00     AMB 2015-09-21 10:00:18.743   \n",
       "3   3394 2015-10-06 03:25:00     AMB 2015-09-25 18:17:56.940   \n",
       "4   3417 2015-10-05 15:00:00     AMB 2015-09-28 17:26:59.413   \n",
       "5   2977 2015-10-06 06:00:00     AMB 2015-09-08 11:26:31.850   \n",
       "6   2826 2015-10-07 18:30:00     AMB 2015-09-02 12:44:23.420   \n",
       "\n",
       "                                               I_ICD  survival_time_days  \\\n",
       "0    1550 - Tumori maligni primitivi del fegato#2048                10.0   \n",
       "3  1629 - Tumori maligni del bronco o polmone -  ...                10.0   \n",
       "4  1739 - Altri tumori maligni della cute -  sede...                 6.0   \n",
       "5                         001 - Cure Palliative#2005                27.0   \n",
       "6  1579 - Tumori maligni del pancreas -  parte no...                35.0   \n",
       "\n",
       "       Diagnosis  Diag_Ref Diagnosis_Flag  \n",
       "0  Liver-Biliary      1550           True  \n",
       "3           Lung      1629           True  \n",
       "4           Skin      1739           True  \n",
       "5          Other         1           True  \n",
       "6       Pancreas      1579           True  "
      ]
     },
     "execution_count": 130,
     "metadata": {},
     "output_type": "execute_result"
    }
   ],
   "source": [
    "df_referral.head()"
   ]
  },
  {
   "cell_type": "code",
   "execution_count": 131,
   "metadata": {},
   "outputs": [
    {
     "data": {
      "text/plain": [
       "Lung                 857\n",
       "Other                757\n",
       "Pancreas             447\n",
       "Colorectal           356\n",
       "Breast               307\n",
       "Liver-Biliary        301\n",
       "Stomach-Esophagus    274\n",
       "Brain                173\n",
       "Prostate             160\n",
       "Bladder              131\n",
       "Kidney               101\n",
       "Ovary                 96\n",
       "Head-Neck             84\n",
       "Lymphoma              62\n",
       "Uterus                54\n",
       "Cervical              41\n",
       "Limb                  39\n",
       "Intestine             36\n",
       "Bone Marrow           34\n",
       "Skin                  29\n",
       "Lymphoid_Leukemia     19\n",
       "Thyroid               12\n",
       "Tongue                 9\n",
       "Name: Diagnosis, dtype: int64"
      ]
     },
     "execution_count": 131,
     "metadata": {},
     "output_type": "execute_result"
    }
   ],
   "source": [
    "df_referral.Diagnosis.value_counts()"
   ]
  },
  {
   "cell_type": "code",
   "execution_count": 132,
   "metadata": {},
   "outputs": [],
   "source": [
    "# get the survival time histogram for patients in each diagnosis\n",
    "df_survival = df_referral[['Diagnosis', 'survival_time_days']].groupby(by=['Diagnosis']).mean()\n",
    "df_survival_stddev = df_referral[['Diagnosis', 'survival_time_days']].groupby(by=['Diagnosis']).std(ddof=0)"
   ]
  },
  {
   "cell_type": "code",
   "execution_count": 133,
   "metadata": {},
   "outputs": [
    {
     "data": {
      "text/html": [
       "<div>\n",
       "<style scoped>\n",
       "    .dataframe tbody tr th:only-of-type {\n",
       "        vertical-align: middle;\n",
       "    }\n",
       "\n",
       "    .dataframe tbody tr th {\n",
       "        vertical-align: top;\n",
       "    }\n",
       "\n",
       "    .dataframe thead th {\n",
       "        text-align: right;\n",
       "    }\n",
       "</style>\n",
       "<table border=\"1\" class=\"dataframe\">\n",
       "  <thead>\n",
       "    <tr style=\"text-align: right;\">\n",
       "      <th></th>\n",
       "      <th>survival_time_days</th>\n",
       "    </tr>\n",
       "    <tr>\n",
       "      <th>Diagnosis</th>\n",
       "      <th></th>\n",
       "    </tr>\n",
       "  </thead>\n",
       "  <tbody>\n",
       "    <tr>\n",
       "      <th>Bladder</th>\n",
       "      <td>39.244275</td>\n",
       "    </tr>\n",
       "    <tr>\n",
       "      <th>Bone Marrow</th>\n",
       "      <td>37.852941</td>\n",
       "    </tr>\n",
       "    <tr>\n",
       "      <th>Brain</th>\n",
       "      <td>44.976879</td>\n",
       "    </tr>\n",
       "    <tr>\n",
       "      <th>Breast</th>\n",
       "      <td>49.052117</td>\n",
       "    </tr>\n",
       "    <tr>\n",
       "      <th>Cervical</th>\n",
       "      <td>40.146341</td>\n",
       "    </tr>\n",
       "    <tr>\n",
       "      <th>Colorectal</th>\n",
       "      <td>48.387640</td>\n",
       "    </tr>\n",
       "    <tr>\n",
       "      <th>Head-Neck</th>\n",
       "      <td>43.154762</td>\n",
       "    </tr>\n",
       "    <tr>\n",
       "      <th>Intestine</th>\n",
       "      <td>41.333333</td>\n",
       "    </tr>\n",
       "    <tr>\n",
       "      <th>Kidney</th>\n",
       "      <td>56.188119</td>\n",
       "    </tr>\n",
       "    <tr>\n",
       "      <th>Limb</th>\n",
       "      <td>54.384615</td>\n",
       "    </tr>\n",
       "    <tr>\n",
       "      <th>Liver-Biliary</th>\n",
       "      <td>36.817276</td>\n",
       "    </tr>\n",
       "    <tr>\n",
       "      <th>Lung</th>\n",
       "      <td>40.852975</td>\n",
       "    </tr>\n",
       "    <tr>\n",
       "      <th>Lymphoid_Leukemia</th>\n",
       "      <td>60.315789</td>\n",
       "    </tr>\n",
       "    <tr>\n",
       "      <th>Lymphoma</th>\n",
       "      <td>26.741935</td>\n",
       "    </tr>\n",
       "    <tr>\n",
       "      <th>Other</th>\n",
       "      <td>41.066050</td>\n",
       "    </tr>\n",
       "    <tr>\n",
       "      <th>Ovary</th>\n",
       "      <td>37.645833</td>\n",
       "    </tr>\n",
       "    <tr>\n",
       "      <th>Pancreas</th>\n",
       "      <td>35.255034</td>\n",
       "    </tr>\n",
       "    <tr>\n",
       "      <th>Prostate</th>\n",
       "      <td>50.662500</td>\n",
       "    </tr>\n",
       "    <tr>\n",
       "      <th>Skin</th>\n",
       "      <td>24.827586</td>\n",
       "    </tr>\n",
       "    <tr>\n",
       "      <th>Stomach-Esophagus</th>\n",
       "      <td>37.255474</td>\n",
       "    </tr>\n",
       "    <tr>\n",
       "      <th>Thyroid</th>\n",
       "      <td>31.833333</td>\n",
       "    </tr>\n",
       "    <tr>\n",
       "      <th>Tongue</th>\n",
       "      <td>29.888889</td>\n",
       "    </tr>\n",
       "    <tr>\n",
       "      <th>Uterus</th>\n",
       "      <td>53.462963</td>\n",
       "    </tr>\n",
       "  </tbody>\n",
       "</table>\n",
       "</div>"
      ],
      "text/plain": [
       "                   survival_time_days\n",
       "Diagnosis                            \n",
       "Bladder                     39.244275\n",
       "Bone Marrow                 37.852941\n",
       "Brain                       44.976879\n",
       "Breast                      49.052117\n",
       "Cervical                    40.146341\n",
       "Colorectal                  48.387640\n",
       "Head-Neck                   43.154762\n",
       "Intestine                   41.333333\n",
       "Kidney                      56.188119\n",
       "Limb                        54.384615\n",
       "Liver-Biliary               36.817276\n",
       "Lung                        40.852975\n",
       "Lymphoid_Leukemia           60.315789\n",
       "Lymphoma                    26.741935\n",
       "Other                       41.066050\n",
       "Ovary                       37.645833\n",
       "Pancreas                    35.255034\n",
       "Prostate                    50.662500\n",
       "Skin                        24.827586\n",
       "Stomach-Esophagus           37.255474\n",
       "Thyroid                     31.833333\n",
       "Tongue                      29.888889\n",
       "Uterus                      53.462963"
      ]
     },
     "execution_count": 133,
     "metadata": {},
     "output_type": "execute_result"
    }
   ],
   "source": [
    "df_survival"
   ]
  },
  {
   "cell_type": "code",
   "execution_count": 134,
   "metadata": {},
   "outputs": [
    {
     "data": {
      "text/html": [
       "<div>\n",
       "<style scoped>\n",
       "    .dataframe tbody tr th:only-of-type {\n",
       "        vertical-align: middle;\n",
       "    }\n",
       "\n",
       "    .dataframe tbody tr th {\n",
       "        vertical-align: top;\n",
       "    }\n",
       "\n",
       "    .dataframe thead th {\n",
       "        text-align: right;\n",
       "    }\n",
       "</style>\n",
       "<table border=\"1\" class=\"dataframe\">\n",
       "  <thead>\n",
       "    <tr style=\"text-align: right;\">\n",
       "      <th></th>\n",
       "      <th>Diagnosis</th>\n",
       "      <th>survival_time_days</th>\n",
       "      <th>survival_stddev</th>\n",
       "    </tr>\n",
       "  </thead>\n",
       "  <tbody>\n",
       "    <tr>\n",
       "      <th>0</th>\n",
       "      <td>Lymphoid_Leukemia</td>\n",
       "      <td>60.315789</td>\n",
       "      <td>93.136037</td>\n",
       "    </tr>\n",
       "    <tr>\n",
       "      <th>1</th>\n",
       "      <td>Kidney</td>\n",
       "      <td>56.188119</td>\n",
       "      <td>85.004684</td>\n",
       "    </tr>\n",
       "    <tr>\n",
       "      <th>2</th>\n",
       "      <td>Limb</td>\n",
       "      <td>54.384615</td>\n",
       "      <td>86.181566</td>\n",
       "    </tr>\n",
       "    <tr>\n",
       "      <th>3</th>\n",
       "      <td>Uterus</td>\n",
       "      <td>53.462963</td>\n",
       "      <td>102.849173</td>\n",
       "    </tr>\n",
       "    <tr>\n",
       "      <th>4</th>\n",
       "      <td>Prostate</td>\n",
       "      <td>50.662500</td>\n",
       "      <td>77.261964</td>\n",
       "    </tr>\n",
       "    <tr>\n",
       "      <th>5</th>\n",
       "      <td>Breast</td>\n",
       "      <td>49.052117</td>\n",
       "      <td>86.126435</td>\n",
       "    </tr>\n",
       "    <tr>\n",
       "      <th>6</th>\n",
       "      <td>Colorectal</td>\n",
       "      <td>48.387640</td>\n",
       "      <td>81.992266</td>\n",
       "    </tr>\n",
       "    <tr>\n",
       "      <th>7</th>\n",
       "      <td>Brain</td>\n",
       "      <td>44.976879</td>\n",
       "      <td>58.643722</td>\n",
       "    </tr>\n",
       "    <tr>\n",
       "      <th>8</th>\n",
       "      <td>Head-Neck</td>\n",
       "      <td>43.154762</td>\n",
       "      <td>81.226241</td>\n",
       "    </tr>\n",
       "    <tr>\n",
       "      <th>9</th>\n",
       "      <td>Intestine</td>\n",
       "      <td>41.333333</td>\n",
       "      <td>41.792477</td>\n",
       "    </tr>\n",
       "    <tr>\n",
       "      <th>10</th>\n",
       "      <td>Other</td>\n",
       "      <td>41.066050</td>\n",
       "      <td>70.411085</td>\n",
       "    </tr>\n",
       "    <tr>\n",
       "      <th>11</th>\n",
       "      <td>Lung</td>\n",
       "      <td>40.852975</td>\n",
       "      <td>71.826394</td>\n",
       "    </tr>\n",
       "    <tr>\n",
       "      <th>12</th>\n",
       "      <td>Cervical</td>\n",
       "      <td>40.146341</td>\n",
       "      <td>54.099980</td>\n",
       "    </tr>\n",
       "    <tr>\n",
       "      <th>13</th>\n",
       "      <td>Bladder</td>\n",
       "      <td>39.244275</td>\n",
       "      <td>57.958276</td>\n",
       "    </tr>\n",
       "    <tr>\n",
       "      <th>14</th>\n",
       "      <td>Bone Marrow</td>\n",
       "      <td>37.852941</td>\n",
       "      <td>69.753403</td>\n",
       "    </tr>\n",
       "    <tr>\n",
       "      <th>15</th>\n",
       "      <td>Ovary</td>\n",
       "      <td>37.645833</td>\n",
       "      <td>63.404288</td>\n",
       "    </tr>\n",
       "    <tr>\n",
       "      <th>16</th>\n",
       "      <td>Stomach-Esophagus</td>\n",
       "      <td>37.255474</td>\n",
       "      <td>63.159401</td>\n",
       "    </tr>\n",
       "    <tr>\n",
       "      <th>17</th>\n",
       "      <td>Liver-Biliary</td>\n",
       "      <td>36.817276</td>\n",
       "      <td>70.277073</td>\n",
       "    </tr>\n",
       "    <tr>\n",
       "      <th>18</th>\n",
       "      <td>Pancreas</td>\n",
       "      <td>35.255034</td>\n",
       "      <td>46.072721</td>\n",
       "    </tr>\n",
       "    <tr>\n",
       "      <th>19</th>\n",
       "      <td>Thyroid</td>\n",
       "      <td>31.833333</td>\n",
       "      <td>43.479561</td>\n",
       "    </tr>\n",
       "    <tr>\n",
       "      <th>20</th>\n",
       "      <td>Tongue</td>\n",
       "      <td>29.888889</td>\n",
       "      <td>27.906369</td>\n",
       "    </tr>\n",
       "    <tr>\n",
       "      <th>21</th>\n",
       "      <td>Lymphoma</td>\n",
       "      <td>26.741935</td>\n",
       "      <td>26.662730</td>\n",
       "    </tr>\n",
       "    <tr>\n",
       "      <th>22</th>\n",
       "      <td>Skin</td>\n",
       "      <td>24.827586</td>\n",
       "      <td>27.252420</td>\n",
       "    </tr>\n",
       "  </tbody>\n",
       "</table>\n",
       "</div>"
      ],
      "text/plain": [
       "            Diagnosis  survival_time_days  survival_stddev\n",
       "0   Lymphoid_Leukemia           60.315789        93.136037\n",
       "1              Kidney           56.188119        85.004684\n",
       "2                Limb           54.384615        86.181566\n",
       "3              Uterus           53.462963       102.849173\n",
       "4            Prostate           50.662500        77.261964\n",
       "5              Breast           49.052117        86.126435\n",
       "6          Colorectal           48.387640        81.992266\n",
       "7               Brain           44.976879        58.643722\n",
       "8           Head-Neck           43.154762        81.226241\n",
       "9           Intestine           41.333333        41.792477\n",
       "10              Other           41.066050        70.411085\n",
       "11               Lung           40.852975        71.826394\n",
       "12           Cervical           40.146341        54.099980\n",
       "13            Bladder           39.244275        57.958276\n",
       "14        Bone Marrow           37.852941        69.753403\n",
       "15              Ovary           37.645833        63.404288\n",
       "16  Stomach-Esophagus           37.255474        63.159401\n",
       "17      Liver-Biliary           36.817276        70.277073\n",
       "18           Pancreas           35.255034        46.072721\n",
       "19            Thyroid           31.833333        43.479561\n",
       "20             Tongue           29.888889        27.906369\n",
       "21           Lymphoma           26.741935        26.662730\n",
       "22               Skin           24.827586        27.252420"
      ]
     },
     "execution_count": 134,
     "metadata": {},
     "output_type": "execute_result"
    }
   ],
   "source": [
    "df_survival_stddev = df_survival_stddev.rename(columns={\"survival_time_days\": \"survival_stddev\"})\n",
    "df_surv = pd.merge(df_survival, df_survival_stddev, on='Diagnosis').reset_index().sort_values(by='survival_time_days', ascending=False).reset_index(drop=True)\n",
    "df_surv"
   ]
  },
  {
   "cell_type": "code",
   "execution_count": 135,
   "metadata": {},
   "outputs": [],
   "source": [
    "# from googletrans import Translator\n",
    "# df_surv['Diagnosis'] = df_surv.I_ICD.str.findall('(.+)#').to_frame()\n",
    "# df_surv['Diagnosis'] = df_surv['Diagnosis'].apply(lambda x: x if isinstance(x, float) else x[0])\n",
    "\n",
    "# translator = Translator()\n",
    "# df_surv['I_ICD'] = df_surv['Diagnosis'].apply(translator.translate, src='it', dest='en').apply(getattr, args=('text',))\n",
    "# df_surv = df_surv.drop(columns = ['Diagnosis']).sort_values(by='survival_time_days', ascending=False)\n",
    "# df_surv"
   ]
  },
  {
   "cell_type": "code",
   "execution_count": 136,
   "metadata": {},
   "outputs": [
    {
     "data": {
      "text/plain": [
       "<Figure size 1440x1296 with 0 Axes>"
      ]
     },
     "metadata": {},
     "output_type": "display_data"
    },
    {
     "data": {
      "image/png": "[encoded data removed]",
      "text/plain": [
       "<Figure size 1440x1296 with 1 Axes>"
      ]
     },
     "metadata": {
      "needs_background": "light"
     },
     "output_type": "display_data"
    }
   ],
   "source": [
    "plt.rcParams['figure.figsize'] = [20, 18]\n",
    "matplotlib.rcParams.update({'font.size': 15})\n",
    "plt.figure()\n",
    "labels = df_surv['Diagnosis']\n",
    "survival = df_surv['survival_time_days']\n",
    "errors = df_surv['survival_stddev']\n",
    "fig, ax = plt.subplots()\n",
    "bar1 = ax.barh(labels, survival, label='Survival Time (in Days)', xerr=errors)\n",
    "ax.set_xlabel('Days')\n",
    "ax.set_ylabel('Diagnosis')\n",
    "ax.set_title('Survival Time')\n",
    "ax.legend()\n",
    "plt.grid()\n",
    "plt.savefig(\"./graphs/referral analysis/survival_time_diagnosis.png\")\n",
    "plt.show()"
   ]
  },
  {
   "cell_type": "code",
   "execution_count": 137,
   "metadata": {},
   "outputs": [
    {
     "data": {
      "text/plain": [
       "<matplotlib.axes._subplots.AxesSubplot at 0x1d0f8ca5070>"
      ]
     },
     "execution_count": 137,
     "metadata": {},
     "output_type": "execute_result"
    },
    {
     "data": {
      "text/plain": [
       "<Figure size 720x720 with 0 Axes>"
      ]
     },
     "metadata": {},
     "output_type": "display_data"
    },
    {
     "data": {
      "image/png": "[encoded data removed]",
      "text/plain": [
       "<Figure size 720x720 with 1 Axes>"
      ]
     },
     "metadata": {
      "needs_background": "light"
     },
     "output_type": "display_data"
    }
   ],
   "source": [
    "# generate a box and whisker plot\n",
    "plt.rcParams['figure.figsize'] = [10, 10]\n",
    "plt.figure()\n",
    "fig, ax = plt.subplots()\n",
    "ax.set_ylabel('Days')\n",
    "ax.set_title('Survival Time')\n",
    "df_referral.boxplot(column=['survival_time_days'], showfliers=False)"
   ]
  },
  {
   "cell_type": "code",
   "execution_count": 138,
   "metadata": {},
   "outputs": [
    {
     "data": {
      "text/plain": [
       "<matplotlib.axes._subplots.AxesSubplot at 0x1d0f9595a30>"
      ]
     },
     "execution_count": 138,
     "metadata": {},
     "output_type": "execute_result"
    },
    {
     "data": {
      "text/plain": [
       "<Figure size 720x720 with 0 Axes>"
      ]
     },
     "metadata": {},
     "output_type": "display_data"
    },
    {
     "data": {
      "image/png": "[encoded data removed]",
      "text/plain": [
       "<Figure size 720x720 with 1 Axes>"
      ]
     },
     "metadata": {
      "needs_background": "light"
     },
     "output_type": "display_data"
    }
   ],
   "source": [
    "# boxplot with outliers\n",
    "plt.rcParams['figure.figsize'] = [10, 10]\n",
    "plt.figure()\n",
    "fig, ax = plt.subplots()\n",
    "ax.set_ylabel('Days')\n",
    "ax.set_title('Survival Time')\n",
    "df_referral.boxplot(column=['survival_time_days'])"
   ]
  },
  {
   "cell_type": "code",
   "execution_count": 139,
   "metadata": {},
   "outputs": [
    {
     "data": {
      "text/plain": [
       "<Figure size 360x360 with 0 Axes>"
      ]
     },
     "metadata": {},
     "output_type": "display_data"
    },
    {
     "data": {
      "image/png": "[encoded data removed]",
      "text/plain": [
       "<Figure size 360x360 with 1 Axes>"
      ]
     },
     "metadata": {
      "needs_background": "light"
     },
     "output_type": "display_data"
    },
    {
     "data": {
      "text/plain": [
       "<Figure size 360x360 with 0 Axes>"
      ]
     },
     "metadata": {},
     "output_type": "display_data"
    },
    {
     "data": {
      "image/png": "[encoded data removed]",
      "text/plain": [
       "<Figure size 360x360 with 1 Axes>"
      ]
     },
     "metadata": {
      "needs_background": "light"
     },
     "output_type": "display_data"
    },
    {
     "data": {
      "text/plain": [
       "<Figure size 360x360 with 0 Axes>"
      ]
     },
     "metadata": {},
     "output_type": "display_data"
    },
    {
     "data": {
      "image/png": "[encoded data removed]",
      "text/plain": [
       "<Figure size 360x360 with 1 Axes>"
      ]
     },
     "metadata": {
      "needs_background": "light"
     },
     "output_type": "display_data"
    },
    {
     "data": {
      "text/plain": [
       "<Figure size 360x360 with 0 Axes>"
      ]
     },
     "metadata": {},
     "output_type": "display_data"
    },
    {
     "data": {
      "image/png": "[encoded data removed]",
      "text/plain": [
       "<Figure size 360x360 with 1 Axes>"
      ]
     },
     "metadata": {
      "needs_background": "light"
     },
     "output_type": "display_data"
    },
    {
     "data": {
      "text/plain": [
       "<Figure size 360x360 with 0 Axes>"
      ]
     },
     "metadata": {},
     "output_type": "display_data"
    },
    {
     "data": {
      "image/png": "[encoded data removed]",
      "text/plain": [
       "<Figure size 360x360 with 1 Axes>"
      ]
     },
     "metadata": {
      "needs_background": "light"
     },
     "output_type": "display_data"
    },
    {
     "data": {
      "text/plain": [
       "<Figure size 360x360 with 0 Axes>"
      ]
     },
     "metadata": {},
     "output_type": "display_data"
    },
    {
     "data": {
      "image/png": "[encoded data removed]",
      "text/plain": [
       "<Figure size 360x360 with 1 Axes>"
      ]
     },
     "metadata": {
      "needs_background": "light"
     },
     "output_type": "display_data"
    },
    {
     "data": {
      "text/plain": [
       "<Figure size 360x360 with 0 Axes>"
      ]
     },
     "metadata": {},
     "output_type": "display_data"
    },
    {
     "data": {
      "image/png": "[encoded data removed]",
      "text/plain": [
       "<Figure size 360x360 with 1 Axes>"
      ]
     },
     "metadata": {
      "needs_background": "light"
     },
     "output_type": "display_data"
    },
    {
     "data": {
      "text/plain": [
       "<Figure size 360x360 with 0 Axes>"
      ]
     },
     "metadata": {},
     "output_type": "display_data"
    },
    {
     "data": {
      "image/png": "[encoded data removed]",
      "text/plain": [
       "<Figure size 360x360 with 1 Axes>"
      ]
     },
     "metadata": {
      "needs_background": "light"
     },
     "output_type": "display_data"
    },
    {
     "data": {
      "text/plain": [
       "<Figure size 360x360 with 0 Axes>"
      ]
     },
     "metadata": {},
     "output_type": "display_data"
    },
    {
     "data": {
      "image/png": "[encoded data removed]",
      "text/plain": [
       "<Figure size 360x360 with 1 Axes>"
      ]
     },
     "metadata": {
      "needs_background": "light"
     },
     "output_type": "display_data"
    },
    {
     "data": {
      "text/plain": [
       "<Figure size 360x360 with 0 Axes>"
      ]
     },
     "metadata": {},
     "output_type": "display_data"
    },
    {
     "data": {
      "image/png": "[encoded data removed]",
      "text/plain": [
       "<Figure size 360x360 with 1 Axes>"
      ]
     },
     "metadata": {
      "needs_background": "light"
     },
     "output_type": "display_data"
    },
    {
     "data": {
      "text/plain": [
       "<Figure size 360x360 with 0 Axes>"
      ]
     },
     "metadata": {},
     "output_type": "display_data"
    },
    {
     "data": {
      "image/png": "[encoded data removed]",
      "text/plain": [
       "<Figure size 360x360 with 1 Axes>"
      ]
     },
     "metadata": {
      "needs_background": "light"
     },
     "output_type": "display_data"
    },
    {
     "data": {
      "text/plain": [
       "<Figure size 360x360 with 0 Axes>"
      ]
     },
     "metadata": {},
     "output_type": "display_data"
    },
    {
     "data": {
      "image/png": "[encoded data removed]",
      "text/plain": [
       "<Figure size 360x360 with 1 Axes>"
      ]
     },
     "metadata": {
      "needs_background": "light"
     },
     "output_type": "display_data"
    },
    {
     "data": {
      "text/plain": [
       "<Figure size 360x360 with 0 Axes>"
      ]
     },
     "metadata": {},
     "output_type": "display_data"
    },
    {
     "data": {
      "image/png": "[encoded data removed]",
      "text/plain": [
       "<Figure size 360x360 with 1 Axes>"
      ]
     },
     "metadata": {
      "needs_background": "light"
     },
     "output_type": "display_data"
    },
    {
     "data": {
      "text/plain": [
       "<Figure size 360x360 with 0 Axes>"
      ]
     },
     "metadata": {},
     "output_type": "display_data"
    },
    {
     "data": {
      "image/png": "[encoded data removed]",
      "text/plain": [
       "<Figure size 360x360 with 1 Axes>"
      ]
     },
     "metadata": {
      "needs_background": "light"
     },
     "output_type": "display_data"
    },
    {
     "data": {
      "text/plain": [
       "<Figure size 360x360 with 0 Axes>"
      ]
     },
     "metadata": {},
     "output_type": "display_data"
    },
    {
     "data": {
      "image/png": "[encoded data removed]",
      "text/plain": [
       "<Figure size 360x360 with 1 Axes>"
      ]
     },
     "metadata": {
      "needs_background": "light"
     },
     "output_type": "display_data"
    },
    {
     "data": {
      "text/plain": [
       "<Figure size 360x360 with 0 Axes>"
      ]
     },
     "metadata": {},
     "output_type": "display_data"
    },
    {
     "data": {
      "image/png": "[encoded data removed]",
      "text/plain": [
       "<Figure size 360x360 with 1 Axes>"
      ]
     },
     "metadata": {
      "needs_background": "light"
     },
     "output_type": "display_data"
    },
    {
     "data": {
      "text/plain": [
       "<Figure size 360x360 with 0 Axes>"
      ]
     },
     "metadata": {},
     "output_type": "display_data"
    },
    {
     "data": {
      "image/png": "[encoded data removed]",
      "text/plain": [
       "<Figure size 360x360 with 1 Axes>"
      ]
     },
     "metadata": {
      "needs_background": "light"
     },
     "output_type": "display_data"
    },
    {
     "data": {
      "text/plain": [
       "<Figure size 360x360 with 0 Axes>"
      ]
     },
     "metadata": {},
     "output_type": "display_data"
    },
    {
     "data": {
      "image/png": "[encoded data removed]",
      "text/plain": [
       "<Figure size 360x360 with 1 Axes>"
      ]
     },
     "metadata": {
      "needs_background": "light"
     },
     "output_type": "display_data"
    },
    {
     "data": {
      "text/plain": [
       "<Figure size 360x360 with 0 Axes>"
      ]
     },
     "metadata": {},
     "output_type": "display_data"
    },
    {
     "data": {
      "image/png": "[encoded data removed]",
      "text/plain": [
       "<Figure size 360x360 with 1 Axes>"
      ]
     },
     "metadata": {
      "needs_background": "light"
     },
     "output_type": "display_data"
    },
    {
     "data": {
      "text/plain": [
       "<Figure size 360x360 with 0 Axes>"
      ]
     },
     "metadata": {},
     "output_type": "display_data"
    },
    {
     "data": {
      "image/png": "[encoded data removed]",
      "text/plain": [
       "<Figure size 360x360 with 1 Axes>"
      ]
     },
     "metadata": {
      "needs_background": "light"
     },
     "output_type": "display_data"
    },
    {
     "data": {
      "text/plain": [
       "<Figure size 360x360 with 0 Axes>"
      ]
     },
     "metadata": {},
     "output_type": "display_data"
    },
    {
     "data": {
      "image/png": "[encoded data removed]",
      "text/plain": [
       "<Figure size 360x360 with 1 Axes>"
      ]
     },
     "metadata": {
      "needs_background": "light"
     },
     "output_type": "display_data"
    },
    {
     "data": {
      "text/plain": [
       "<Figure size 360x360 with 0 Axes>"
      ]
     },
     "metadata": {},
     "output_type": "display_data"
    },
    {
     "data": {
      "image/png": "[encoded data removed]",
      "text/plain": [
       "<Figure size 360x360 with 1 Axes>"
      ]
     },
     "metadata": {
      "needs_background": "light"
     },
     "output_type": "display_data"
    },
    {
     "data": {
      "text/plain": [
       "<Figure size 360x360 with 0 Axes>"
      ]
     },
     "metadata": {},
     "output_type": "display_data"
    },
    {
     "data": {
      "image/png": "[encoded data removed]",
      "text/plain": [
       "<Figure size 360x360 with 1 Axes>"
      ]
     },
     "metadata": {
      "needs_background": "light"
     },
     "output_type": "display_data"
    }
   ],
   "source": [
    "# boxplots for individual cancers\n",
    "cancers = ['Lung', 'Other', 'Pancreas', 'Colorectal', 'Breast', 'Liver-Biliary',\n",
    "       'Stomach-Esophagus', 'Brain', 'Prostate', 'Bladder', 'Kidney', 'Ovary',\n",
    "       'Head-Neck', 'Lymphoma', 'Uterus', 'Cervical', 'Limb', 'Intestine',\n",
    "       'Bone Marrow', 'Skin', 'Lymphoid_Leukemia', 'Thyroid', 'Tongue']\n",
    "\n",
    "for cancer in cancers:\n",
    "    plt.rcParams['figure.figsize'] = [5, 5]\n",
    "    plt.rcParams.update({'figure.max_open_warning': 0})\n",
    "    df_temp = df_referral[df_referral['Diagnosis'] == cancer]\n",
    "    plt.figure()\n",
    "    fig, ax = plt.subplots()\n",
    "    ax.set_ylabel('Days')\n",
    "    ax.set_title('Survival Time for ' + cancer)\n",
    "    df_temp.boxplot(column=['survival_time_days'], showfliers=False)"
   ]
  },
  {
   "cell_type": "code",
   "execution_count": 140,
   "metadata": {},
   "outputs": [],
   "source": [
    "# First Definition: Split patients into early/late referral by using the criteria of +- 2 stddev for each diagnosis\n"
   ]
  },
  {
   "cell_type": "code",
   "execution_count": null,
   "metadata": {},
   "outputs": [],
   "source": []
  }
 ],
 "metadata": {
  "kernelspec": {
   "display_name": "Python 3",
   "language": "python",
   "name": "python3"
  },
  "language_info": {
   "codemirror_mode": {
    "name": "ipython",
    "version": 3
   },
   "file_extension": ".py",
   "mimetype": "text/x-python",
   "name": "python",
   "nbconvert_exporter": "python",
   "pygments_lexer": "ipython3",
   "version": "3.8.3"
  }
 },
 "nbformat": 4,
 "nbformat_minor": 4
}
