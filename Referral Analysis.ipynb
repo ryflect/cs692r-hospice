{
 "cells": [
  {
   "cell_type": "code",
   "execution_count": 97,
   "metadata": {},
   "outputs": [],
   "source": [
    "%matplotlib inline\n",
    "\n",
    "import pandas as pd\n",
    "import numpy as np\n",
    "import datetime\n",
    "from reference import get_file_names"
   ]
  },
  {
   "cell_type": "code",
   "execution_count": 98,
   "metadata": {},
   "outputs": [],
   "source": [
    "df_ref = pd.read_csv('./vidas_data/cross_ref_cols_tabs.csv')\n",
    "# df_ref.head()"
   ]
  },
  {
   "cell_type": "code",
   "execution_count": 99,
   "metadata": {},
   "outputs": [
    {
     "data": {
      "text/plain": [
       "['wH_DirectTable_Decesso', 'wH_DirectTable_C_Decesso']"
      ]
     },
     "execution_count": 99,
     "metadata": {},
     "output_type": "execute_result"
    }
   ],
   "source": [
    "# get the data frame giving the list of IDEHRs who have passed\n",
    "get_file_names(['IDEHR', 'IDDecesso'], df_ref)"
   ]
  },
  {
   "cell_type": "code",
   "execution_count": 100,
   "metadata": {},
   "outputs": [
    {
     "data": {
      "text/plain": [
       "['wH_Therapy_JCM_Therapy', 'wH_Therapy_JCM_TherapyWhenNeeded']"
      ]
     },
     "execution_count": 100,
     "metadata": {},
     "output_type": "execute_result"
    }
   ],
   "source": [
    "# get the data frame giving the list of IDEHRs with the start date of hospitalization\n",
    "get_file_names(['IDEHR', 'DateTherapy'], df_ref)"
   ]
  },
  {
   "cell_type": "code",
   "execution_count": 101,
   "metadata": {},
   "outputs": [
    {
     "data": {
      "text/plain": [
       "['wH_DirectTable_Informazioni_SS', 'wH_DirectTable_C_Informazioni_SS']"
      ]
     },
     "execution_count": 101,
     "metadata": {},
     "output_type": "execute_result"
    }
   ],
   "source": [
    "# get the data frame giving the list of IDEHRs with the diagnosis\n",
    "get_file_names(['IDEHR', 'Diagnosi'], df_ref)"
   ]
  },
  {
   "cell_type": "code",
   "execution_count": 102,
   "metadata": {},
   "outputs": [
    {
     "name": "stdout",
     "output_type": "stream",
     "text": [
      "(6526, 5)\n"
     ]
    },
    {
     "data": {
      "text/html": [
       "<div>\n",
       "<style scoped>\n",
       "    .dataframe tbody tr th:only-of-type {\n",
       "        vertical-align: middle;\n",
       "    }\n",
       "\n",
       "    .dataframe tbody tr th {\n",
       "        vertical-align: top;\n",
       "    }\n",
       "\n",
       "    .dataframe thead th {\n",
       "        text-align: right;\n",
       "    }\n",
       "</style>\n",
       "<table border=\"1\" class=\"dataframe\">\n",
       "  <thead>\n",
       "    <tr style=\"text-align: right;\">\n",
       "      <th></th>\n",
       "      <th>IDEHR</th>\n",
       "      <th>Data</th>\n",
       "      <th>PatientId</th>\n",
       "      <th>EHRType</th>\n",
       "      <th>IDDecesso</th>\n",
       "    </tr>\n",
       "  </thead>\n",
       "  <tbody>\n",
       "    <tr>\n",
       "      <th>0</th>\n",
       "      <td>4</td>\n",
       "      <td>2015-01-09 16:15:00</td>\n",
       "      <td>59</td>\n",
       "      <td>EHR</td>\n",
       "      <td>1</td>\n",
       "    </tr>\n",
       "    <tr>\n",
       "      <th>1</th>\n",
       "      <td>1022</td>\n",
       "      <td>2015-01-11 00:15:00</td>\n",
       "      <td>90</td>\n",
       "      <td>EHR</td>\n",
       "      <td>2</td>\n",
       "    </tr>\n",
       "    <tr>\n",
       "      <th>2</th>\n",
       "      <td>16</td>\n",
       "      <td>2015-01-15 01:45:00</td>\n",
       "      <td>71</td>\n",
       "      <td>EHR</td>\n",
       "      <td>3</td>\n",
       "    </tr>\n",
       "    <tr>\n",
       "      <th>3</th>\n",
       "      <td>1025</td>\n",
       "      <td>2015-01-15 06:44:00</td>\n",
       "      <td>91</td>\n",
       "      <td>EHR</td>\n",
       "      <td>4</td>\n",
       "    </tr>\n",
       "    <tr>\n",
       "      <th>4</th>\n",
       "      <td>6</td>\n",
       "      <td>2015-01-20 14:50:00</td>\n",
       "      <td>61</td>\n",
       "      <td>EHR</td>\n",
       "      <td>5</td>\n",
       "    </tr>\n",
       "  </tbody>\n",
       "</table>\n",
       "</div>"
      ],
      "text/plain": [
       "   IDEHR                Data  PatientId EHRType  IDDecesso\n",
       "0      4 2015-01-09 16:15:00         59     EHR          1\n",
       "1   1022 2015-01-11 00:15:00         90     EHR          2\n",
       "2     16 2015-01-15 01:45:00         71     EHR          3\n",
       "3   1025 2015-01-15 06:44:00         91     EHR          4\n",
       "4      6 2015-01-20 14:50:00         61     EHR          5"
      ]
     },
     "execution_count": 102,
     "metadata": {},
     "output_type": "execute_result"
    }
   ],
   "source": [
    "# data frame with deathID\n",
    "df_death = pd.read_csv('./vidas_data/wH_DirectTable_Decesso.csv', parse_dates=['Data'])\n",
    "df_death = df_death[['IDEHR', 'Data', 'PatientId', 'EHRType', 'IDDecesso']]\n",
    "print(df_death.shape)\n",
    "df_death.head()"
   ]
  },
  {
   "cell_type": "code",
   "execution_count": 103,
   "metadata": {},
   "outputs": [
    {
     "data": {
      "text/plain": [
       "IDEHR         0\n",
       "Data         87\n",
       "PatientId     0\n",
       "EHRType       0\n",
       "IDDecesso     0\n",
       "dtype: int64"
      ]
     },
     "execution_count": 103,
     "metadata": {},
     "output_type": "execute_result"
    }
   ],
   "source": [
    "# check NaNs\n",
    "df_death.isna().sum()"
   ]
  },
  {
   "cell_type": "code",
   "execution_count": 104,
   "metadata": {},
   "outputs": [
    {
     "name": "stdout",
     "output_type": "stream",
     "text": [
      "(292176, 39)\n",
      "(2341, 2)\n"
     ]
    },
    {
     "data": {
      "text/html": [
       "<div>\n",
       "<style scoped>\n",
       "    .dataframe tbody tr th:only-of-type {\n",
       "        vertical-align: middle;\n",
       "    }\n",
       "\n",
       "    .dataframe tbody tr th {\n",
       "        vertical-align: top;\n",
       "    }\n",
       "\n",
       "    .dataframe thead th {\n",
       "        text-align: right;\n",
       "    }\n",
       "</style>\n",
       "<table border=\"1\" class=\"dataframe\">\n",
       "  <thead>\n",
       "    <tr style=\"text-align: right;\">\n",
       "      <th></th>\n",
       "      <th>IDEHR</th>\n",
       "      <th>DateTherapy</th>\n",
       "    </tr>\n",
       "  </thead>\n",
       "  <tbody>\n",
       "    <tr>\n",
       "      <th>0</th>\n",
       "      <td>2</td>\n",
       "      <td>2015-01-09</td>\n",
       "    </tr>\n",
       "    <tr>\n",
       "      <th>9</th>\n",
       "      <td>1020</td>\n",
       "      <td>2015-01-10</td>\n",
       "    </tr>\n",
       "    <tr>\n",
       "      <th>34</th>\n",
       "      <td>3</td>\n",
       "      <td>2015-01-10</td>\n",
       "    </tr>\n",
       "    <tr>\n",
       "      <th>41</th>\n",
       "      <td>5</td>\n",
       "      <td>2015-01-10</td>\n",
       "    </tr>\n",
       "    <tr>\n",
       "      <th>50</th>\n",
       "      <td>6</td>\n",
       "      <td>2015-01-10</td>\n",
       "    </tr>\n",
       "  </tbody>\n",
       "</table>\n",
       "</div>"
      ],
      "text/plain": [
       "    IDEHR DateTherapy\n",
       "0       2  2015-01-09\n",
       "9    1020  2015-01-10\n",
       "34      3  2015-01-10\n",
       "41      5  2015-01-10\n",
       "50      6  2015-01-10"
      ]
     },
     "execution_count": 104,
     "metadata": {},
     "output_type": "execute_result"
    }
   ],
   "source": [
    "# data frame with start of hospitalization\n",
    "df_soh = pd.read_csv('./vidas_data/wH_Therapy_JCM_Therapy.csv', parse_dates=['DateTherapy'])\n",
    "print(df_soh.shape)\n",
    "df_soh = df_soh[['IDEHR', 'DateTherapy']].drop_duplicates(subset=['IDEHR'], keep='first')\n",
    "print(df_soh.shape)\n",
    "df_soh.head()"
   ]
  },
  {
   "cell_type": "code",
   "execution_count": 105,
   "metadata": {},
   "outputs": [
    {
     "data": {
      "text/plain": [
       "IDEHR          0\n",
       "DateTherapy    0\n",
       "dtype: int64"
      ]
     },
     "execution_count": 105,
     "metadata": {},
     "output_type": "execute_result"
    }
   ],
   "source": [
    "# check NaNs\n",
    "df_soh.isna().sum()"
   ]
  },
  {
   "cell_type": "code",
   "execution_count": 106,
   "metadata": {},
   "outputs": [
    {
     "name": "stdout",
     "output_type": "stream",
     "text": [
      "(10217, 4)\n"
     ]
    },
    {
     "data": {
      "text/html": [
       "<div>\n",
       "<style scoped>\n",
       "    .dataframe tbody tr th:only-of-type {\n",
       "        vertical-align: middle;\n",
       "    }\n",
       "\n",
       "    .dataframe tbody tr th {\n",
       "        vertical-align: top;\n",
       "    }\n",
       "\n",
       "    .dataframe thead th {\n",
       "        text-align: right;\n",
       "    }\n",
       "</style>\n",
       "<table border=\"1\" class=\"dataframe\">\n",
       "  <thead>\n",
       "    <tr style=\"text-align: right;\">\n",
       "      <th></th>\n",
       "      <th>IDEHR</th>\n",
       "      <th>Diagnosi</th>\n",
       "      <th>PatientId</th>\n",
       "      <th>EHRType</th>\n",
       "    </tr>\n",
       "  </thead>\n",
       "  <tbody>\n",
       "    <tr>\n",
       "      <th>0</th>\n",
       "      <td>1239</td>\n",
       "      <td>Trachea, bronchi e polmoni#909=1</td>\n",
       "      <td>91</td>\n",
       "      <td>AMB</td>\n",
       "    </tr>\n",
       "    <tr>\n",
       "      <th>1</th>\n",
       "      <td>1241</td>\n",
       "      <td>Stomaco#912=1</td>\n",
       "      <td>93</td>\n",
       "      <td>AMB</td>\n",
       "    </tr>\n",
       "    <tr>\n",
       "      <th>2</th>\n",
       "      <td>1242</td>\n",
       "      <td>Colon#877=1</td>\n",
       "      <td>92</td>\n",
       "      <td>AMB</td>\n",
       "    </tr>\n",
       "    <tr>\n",
       "      <th>3</th>\n",
       "      <td>1244</td>\n",
       "      <td>Trachea, bronchi e polmoni#909=1</td>\n",
       "      <td>94</td>\n",
       "      <td>AMB</td>\n",
       "    </tr>\n",
       "    <tr>\n",
       "      <th>4</th>\n",
       "      <td>1244</td>\n",
       "      <td>Trachea, bronchi e polmoni#909=1</td>\n",
       "      <td>94</td>\n",
       "      <td>AMB</td>\n",
       "    </tr>\n",
       "  </tbody>\n",
       "</table>\n",
       "</div>"
      ],
      "text/plain": [
       "   IDEHR                          Diagnosi  PatientId EHRType\n",
       "0   1239  Trachea, bronchi e polmoni#909=1         91     AMB\n",
       "1   1241                     Stomaco#912=1         93     AMB\n",
       "2   1242                       Colon#877=1         92     AMB\n",
       "3   1244  Trachea, bronchi e polmoni#909=1         94     AMB\n",
       "4   1244  Trachea, bronchi e polmoni#909=1         94     AMB"
      ]
     },
     "execution_count": 106,
     "metadata": {},
     "output_type": "execute_result"
    }
   ],
   "source": [
    "# data frame with diagnosis\n",
    "df_diag = pd.read_csv('./vidas_data/wH_DirectTable_Informazioni_SS.csv')\n",
    "df_diag = df_diag[['IDEHR', 'Diagnosi', 'PatientId', 'EHRType']]\n",
    "print(df_diag.shape)\n",
    "df_diag.head()"
   ]
  },
  {
   "cell_type": "code",
   "execution_count": 107,
   "metadata": {},
   "outputs": [
    {
     "data": {
      "text/plain": [
       "IDEHR         0\n",
       "Diagnosi     57\n",
       "PatientId     0\n",
       "EHRType       0\n",
       "dtype: int64"
      ]
     },
     "execution_count": 107,
     "metadata": {},
     "output_type": "execute_result"
    }
   ],
   "source": [
    "# check NaNs\n",
    "df_diag.isna().sum()"
   ]
  },
  {
   "cell_type": "code",
   "execution_count": 108,
   "metadata": {},
   "outputs": [
    {
     "name": "stdout",
     "output_type": "stream",
     "text": [
      "(10160, 4)\n"
     ]
    },
    {
     "data": {
      "text/plain": [
       "IDEHR        0\n",
       "Diagnosi     0\n",
       "PatientId    0\n",
       "EHRType      0\n",
       "dtype: int64"
      ]
     },
     "execution_count": 108,
     "metadata": {},
     "output_type": "execute_result"
    }
   ],
   "source": [
    "df_diag = df_diag.dropna()\n",
    "print(df_diag.shape)\n",
    "df_diag.isna().sum()"
   ]
  },
  {
   "cell_type": "code",
   "execution_count": 109,
   "metadata": {},
   "outputs": [
    {
     "data": {
      "text/plain": [
       "Trachea, bronchi e polmoni#909=1                                         1762\n",
       "Pancreas#906=1                                                            853\n",
       "Mammella#901=1                                                            710\n",
       "Colon#877=1                                                               659\n",
       "Fegato, dotti biliari intraepatici#891=1                                  556\n",
       "Stomaco#912=1                                                             453\n",
       "Encefalo#889=1                                                            404\n",
       "Diagnosi non oncologica#881=1                                             403\n",
       "Prostata#910=1                                                            346\n",
       "Vescica#925=1                                                             300\n",
       "Consulenza/Supporto#935=3                                                 277\n",
       "Assistenza al Lutto#933=1                                                 262\n",
       "Rene e altri e non specificati organi urinari#911=1                       236\n",
       "Retto, giunzione retto-sigmoidea, ano#878=2                               223\n",
       "Senza indicazione di sede#932=1                                           221\n",
       "Ovaio ed altri tessuti uterini#905=1                                      213\n",
       "Cardiopatia#884=4                                                         169\n",
       "Vescichetta biliare, dotti biliari extraepatici#892=2                     149\n",
       "Mieloma multiplo e tumori immunoproliferativi#902=1                       123\n",
       "Pleura#907=1                                                              123\n",
       "Esofago#890=1                                                             116\n",
       "Patologia Degenerativa#888=8                                              109\n",
       "Neurodegenerativa#885=5                                                   107\n",
       "Leucemia mieloide#896=2                                                   106\n",
       "Corpo dell'utero#924=2                                                    102\n",
       "Linfoma non Hodgkin#900=6                                                  99\n",
       "Melanoma#879=1                                                             93\n",
       "Collo dell'utero#923=1                                                     84\n",
       "Connettivo ed altri tessuti molli#903=1                                    83\n",
       "Nefropatia#4580=9                                                          70\n",
       "Cerebrovascolare#883=3                                                     55\n",
       "SLA#882=2                                                                  52\n",
       "Pelle escluso melanoma#880=2                                               51\n",
       "Leucemia linfoide#895=1                                                    37\n",
       "Lingua#917=5                                                               37\n",
       "Orofaringe#918=6                                                           37\n",
       "Altre e mal definite sedi delle labbra, cavita' orale e faringe#920=8      35\n",
       "Psicodiagnosi#934=2                                                        34\n",
       "Malattia di Hodgkin#898=4                                                  34\n",
       "Laringe#916=4                                                              33\n",
       "Epatopatia#886=6                                                           32\n",
       "Tiroide#893=1                                                              30\n",
       "Ghiandole salivari principali#914=2                                        28\n",
       "Tessuto linfoide e istocitario#899=5                                       28\n",
       "Altri e non specificati organi genitali femminili#931=6                    28\n",
       "Intestino tenue (compreso duodeno)#926=1                                   25\n",
       "Ossa e cartilagine articolare#904=2                                        23\n",
       "Retroperitoneo e peritoneo#908=2                                           22\n",
       "Altre e non specificate parti della bocca#921=9                            21\n",
       "Altre e mal definite sedi#929=4                                            17\n",
       "Altre ghiandole endocrine e strutture connesse#894=2                       16\n",
       "Vasculopatia periferica#887=7                                              16\n",
       "Ipofaringe#915=3                                                           13\n",
       "Leucemia di tipo cellulare non specificato#897=3                           11\n",
       "Rinofaringe#919=7                                                          11\n",
       "Pene e altri organi genitali maschili#927=2                                 8\n",
       "Timo, cuore e mediastino#928=3                                              8\n",
       "Gengive#913=1                                                               6\n",
       "Altre e non specificate parti del sistema nervoso#930=5                     1\n",
       "Name: Diagnosi, dtype: int64"
      ]
     },
     "execution_count": 109,
     "metadata": {},
     "output_type": "execute_result"
    }
   ],
   "source": [
    "df_diag.Diagnosi.value_counts()"
   ]
  },
  {
   "cell_type": "code",
   "execution_count": 110,
   "metadata": {},
   "outputs": [],
   "source": [
    "# do the merge\n",
    "from functools import reduce\n",
    "dfs = [df_death, df_soh, df_diag]\n",
    "df_referral = reduce(lambda left, right: pd.merge(left, right, on='IDEHR'), dfs)"
   ]
  },
  {
   "cell_type": "code",
   "execution_count": 111,
   "metadata": {},
   "outputs": [
    {
     "data": {
      "text/html": [
       "<div>\n",
       "<style scoped>\n",
       "    .dataframe tbody tr th:only-of-type {\n",
       "        vertical-align: middle;\n",
       "    }\n",
       "\n",
       "    .dataframe tbody tr th {\n",
       "        vertical-align: top;\n",
       "    }\n",
       "\n",
       "    .dataframe thead th {\n",
       "        text-align: right;\n",
       "    }\n",
       "</style>\n",
       "<table border=\"1\" class=\"dataframe\">\n",
       "  <thead>\n",
       "    <tr style=\"text-align: right;\">\n",
       "      <th></th>\n",
       "      <th>IDEHR</th>\n",
       "      <th>Data</th>\n",
       "      <th>PatientId_x</th>\n",
       "      <th>EHRType_x</th>\n",
       "      <th>IDDecesso</th>\n",
       "      <th>DateTherapy</th>\n",
       "      <th>Diagnosi</th>\n",
       "      <th>PatientId_y</th>\n",
       "      <th>EHRType_y</th>\n",
       "    </tr>\n",
       "  </thead>\n",
       "  <tbody>\n",
       "    <tr>\n",
       "      <th>0</th>\n",
       "      <td>16</td>\n",
       "      <td>2015-01-15 01:45:00</td>\n",
       "      <td>71</td>\n",
       "      <td>EHR</td>\n",
       "      <td>3</td>\n",
       "      <td>2015-01-11</td>\n",
       "      <td>Consulenza/Supporto#935=3</td>\n",
       "      <td>6</td>\n",
       "      <td>AMB</td>\n",
       "    </tr>\n",
       "    <tr>\n",
       "      <th>1</th>\n",
       "      <td>1047</td>\n",
       "      <td>2015-02-03 09:00:00</td>\n",
       "      <td>116</td>\n",
       "      <td>EHR</td>\n",
       "      <td>22</td>\n",
       "      <td>2015-01-28</td>\n",
       "      <td>Mammella#901=1</td>\n",
       "      <td>116</td>\n",
       "      <td>EHR</td>\n",
       "    </tr>\n",
       "    <tr>\n",
       "      <th>2</th>\n",
       "      <td>7</td>\n",
       "      <td>2015-03-12 14:45:00</td>\n",
       "      <td>62</td>\n",
       "      <td>EHR</td>\n",
       "      <td>59</td>\n",
       "      <td>2015-01-11</td>\n",
       "      <td>Consulenza/Supporto#935=3</td>\n",
       "      <td>3</td>\n",
       "      <td>AMB</td>\n",
       "    </tr>\n",
       "    <tr>\n",
       "      <th>3</th>\n",
       "      <td>10</td>\n",
       "      <td>2015-03-18 22:45:00</td>\n",
       "      <td>65</td>\n",
       "      <td>EHR</td>\n",
       "      <td>64</td>\n",
       "      <td>2015-01-10</td>\n",
       "      <td>Prostata#910=1</td>\n",
       "      <td>4</td>\n",
       "      <td>AMB</td>\n",
       "    </tr>\n",
       "    <tr>\n",
       "      <th>4</th>\n",
       "      <td>1223</td>\n",
       "      <td>2015-06-07 18:00:00</td>\n",
       "      <td>30546</td>\n",
       "      <td>EHR</td>\n",
       "      <td>147</td>\n",
       "      <td>2015-06-04</td>\n",
       "      <td>Trachea, bronchi e polmoni#909=1</td>\n",
       "      <td>83</td>\n",
       "      <td>AMB</td>\n",
       "    </tr>\n",
       "    <tr>\n",
       "      <th>...</th>\n",
       "      <td>...</td>\n",
       "      <td>...</td>\n",
       "      <td>...</td>\n",
       "      <td>...</td>\n",
       "      <td>...</td>\n",
       "      <td>...</td>\n",
       "      <td>...</td>\n",
       "      <td>...</td>\n",
       "      <td>...</td>\n",
       "    </tr>\n",
       "    <tr>\n",
       "      <th>756</th>\n",
       "      <td>5247</td>\n",
       "      <td>2020-07-04 00:35:00</td>\n",
       "      <td>59630</td>\n",
       "      <td>EHR</td>\n",
       "      <td>7433</td>\n",
       "      <td>2020-06-26</td>\n",
       "      <td>Rene e altri e non specificati organi urinari#...</td>\n",
       "      <td>41563</td>\n",
       "      <td>AMB</td>\n",
       "    </tr>\n",
       "    <tr>\n",
       "      <th>757</th>\n",
       "      <td>5257</td>\n",
       "      <td>2020-07-08 13:00:00</td>\n",
       "      <td>59803</td>\n",
       "      <td>EHR</td>\n",
       "      <td>7452</td>\n",
       "      <td>2020-07-07</td>\n",
       "      <td>Lingua#917=5</td>\n",
       "      <td>41566</td>\n",
       "      <td>AMB</td>\n",
       "    </tr>\n",
       "    <tr>\n",
       "      <th>758</th>\n",
       "      <td>5245</td>\n",
       "      <td>2020-07-16 00:40:00</td>\n",
       "      <td>59725</td>\n",
       "      <td>EHR</td>\n",
       "      <td>7492</td>\n",
       "      <td>2020-06-27</td>\n",
       "      <td>Colon#877=1</td>\n",
       "      <td>41562</td>\n",
       "      <td>AMB</td>\n",
       "    </tr>\n",
       "    <tr>\n",
       "      <th>759</th>\n",
       "      <td>5267</td>\n",
       "      <td>2020-07-20 01:55:00</td>\n",
       "      <td>59250</td>\n",
       "      <td>EHR</td>\n",
       "      <td>7510</td>\n",
       "      <td>2020-07-13</td>\n",
       "      <td>Mammella#901=1</td>\n",
       "      <td>41569</td>\n",
       "      <td>AMB</td>\n",
       "    </tr>\n",
       "    <tr>\n",
       "      <th>760</th>\n",
       "      <td>5217</td>\n",
       "      <td>2020-07-20 08:10:00</td>\n",
       "      <td>59645</td>\n",
       "      <td>EHR</td>\n",
       "      <td>7513</td>\n",
       "      <td>2020-06-05</td>\n",
       "      <td>Colon#877=1</td>\n",
       "      <td>41552</td>\n",
       "      <td>AMB</td>\n",
       "    </tr>\n",
       "  </tbody>\n",
       "</table>\n",
       "<p>761 rows × 9 columns</p>\n",
       "</div>"
      ],
      "text/plain": [
       "     IDEHR                Data  PatientId_x EHRType_x  IDDecesso DateTherapy  \\\n",
       "0       16 2015-01-15 01:45:00           71       EHR          3  2015-01-11   \n",
       "1     1047 2015-02-03 09:00:00          116       EHR         22  2015-01-28   \n",
       "2        7 2015-03-12 14:45:00           62       EHR         59  2015-01-11   \n",
       "3       10 2015-03-18 22:45:00           65       EHR         64  2015-01-10   \n",
       "4     1223 2015-06-07 18:00:00        30546       EHR        147  2015-06-04   \n",
       "..     ...                 ...          ...       ...        ...         ...   \n",
       "756   5247 2020-07-04 00:35:00        59630       EHR       7433  2020-06-26   \n",
       "757   5257 2020-07-08 13:00:00        59803       EHR       7452  2020-07-07   \n",
       "758   5245 2020-07-16 00:40:00        59725       EHR       7492  2020-06-27   \n",
       "759   5267 2020-07-20 01:55:00        59250       EHR       7510  2020-07-13   \n",
       "760   5217 2020-07-20 08:10:00        59645       EHR       7513  2020-06-05   \n",
       "\n",
       "                                              Diagnosi  PatientId_y EHRType_y  \n",
       "0                            Consulenza/Supporto#935=3            6       AMB  \n",
       "1                                       Mammella#901=1          116       EHR  \n",
       "2                            Consulenza/Supporto#935=3            3       AMB  \n",
       "3                                       Prostata#910=1            4       AMB  \n",
       "4                     Trachea, bronchi e polmoni#909=1           83       AMB  \n",
       "..                                                 ...          ...       ...  \n",
       "756  Rene e altri e non specificati organi urinari#...        41563       AMB  \n",
       "757                                       Lingua#917=5        41566       AMB  \n",
       "758                                        Colon#877=1        41562       AMB  \n",
       "759                                     Mammella#901=1        41569       AMB  \n",
       "760                                        Colon#877=1        41552       AMB  \n",
       "\n",
       "[761 rows x 9 columns]"
      ]
     },
     "execution_count": 111,
     "metadata": {},
     "output_type": "execute_result"
    }
   ],
   "source": [
    "# check why the same IDEHR has different PatientID + EHRType\n",
    "df_referral"
   ]
  },
  {
   "cell_type": "code",
   "execution_count": 112,
   "metadata": {},
   "outputs": [
    {
     "data": {
      "text/html": [
       "<div>\n",
       "<style scoped>\n",
       "    .dataframe tbody tr th:only-of-type {\n",
       "        vertical-align: middle;\n",
       "    }\n",
       "\n",
       "    .dataframe tbody tr th {\n",
       "        vertical-align: top;\n",
       "    }\n",
       "\n",
       "    .dataframe thead th {\n",
       "        text-align: right;\n",
       "    }\n",
       "</style>\n",
       "<table border=\"1\" class=\"dataframe\">\n",
       "  <thead>\n",
       "    <tr style=\"text-align: right;\">\n",
       "      <th></th>\n",
       "      <th>IDEHR</th>\n",
       "      <th>Data</th>\n",
       "      <th>PatientId_x</th>\n",
       "      <th>EHRType_x</th>\n",
       "      <th>IDDecesso</th>\n",
       "      <th>DateTherapy</th>\n",
       "      <th>Diagnosi</th>\n",
       "      <th>PatientId_y</th>\n",
       "      <th>EHRType_y</th>\n",
       "      <th>survival_time_days</th>\n",
       "    </tr>\n",
       "  </thead>\n",
       "  <tbody>\n",
       "    <tr>\n",
       "      <th>0</th>\n",
       "      <td>16</td>\n",
       "      <td>2015-01-15 01:45:00</td>\n",
       "      <td>71</td>\n",
       "      <td>EHR</td>\n",
       "      <td>3</td>\n",
       "      <td>2015-01-11</td>\n",
       "      <td>Consulenza/Supporto#935=3</td>\n",
       "      <td>6</td>\n",
       "      <td>AMB</td>\n",
       "      <td>4.0</td>\n",
       "    </tr>\n",
       "    <tr>\n",
       "      <th>1</th>\n",
       "      <td>1047</td>\n",
       "      <td>2015-02-03 09:00:00</td>\n",
       "      <td>116</td>\n",
       "      <td>EHR</td>\n",
       "      <td>22</td>\n",
       "      <td>2015-01-28</td>\n",
       "      <td>Mammella#901=1</td>\n",
       "      <td>116</td>\n",
       "      <td>EHR</td>\n",
       "      <td>6.0</td>\n",
       "    </tr>\n",
       "    <tr>\n",
       "      <th>2</th>\n",
       "      <td>7</td>\n",
       "      <td>2015-03-12 14:45:00</td>\n",
       "      <td>62</td>\n",
       "      <td>EHR</td>\n",
       "      <td>59</td>\n",
       "      <td>2015-01-11</td>\n",
       "      <td>Consulenza/Supporto#935=3</td>\n",
       "      <td>3</td>\n",
       "      <td>AMB</td>\n",
       "      <td>60.0</td>\n",
       "    </tr>\n",
       "    <tr>\n",
       "      <th>3</th>\n",
       "      <td>10</td>\n",
       "      <td>2015-03-18 22:45:00</td>\n",
       "      <td>65</td>\n",
       "      <td>EHR</td>\n",
       "      <td>64</td>\n",
       "      <td>2015-01-10</td>\n",
       "      <td>Prostata#910=1</td>\n",
       "      <td>4</td>\n",
       "      <td>AMB</td>\n",
       "      <td>67.0</td>\n",
       "    </tr>\n",
       "    <tr>\n",
       "      <th>4</th>\n",
       "      <td>1223</td>\n",
       "      <td>2015-06-07 18:00:00</td>\n",
       "      <td>30546</td>\n",
       "      <td>EHR</td>\n",
       "      <td>147</td>\n",
       "      <td>2015-06-04</td>\n",
       "      <td>Trachea, bronchi e polmoni#909=1</td>\n",
       "      <td>83</td>\n",
       "      <td>AMB</td>\n",
       "      <td>3.0</td>\n",
       "    </tr>\n",
       "  </tbody>\n",
       "</table>\n",
       "</div>"
      ],
      "text/plain": [
       "   IDEHR                Data  PatientId_x EHRType_x  IDDecesso DateTherapy  \\\n",
       "0     16 2015-01-15 01:45:00           71       EHR          3  2015-01-11   \n",
       "1   1047 2015-02-03 09:00:00          116       EHR         22  2015-01-28   \n",
       "2      7 2015-03-12 14:45:00           62       EHR         59  2015-01-11   \n",
       "3     10 2015-03-18 22:45:00           65       EHR         64  2015-01-10   \n",
       "4   1223 2015-06-07 18:00:00        30546       EHR        147  2015-06-04   \n",
       "\n",
       "                           Diagnosi  PatientId_y EHRType_y  survival_time_days  \n",
       "0         Consulenza/Supporto#935=3            6       AMB                 4.0  \n",
       "1                    Mammella#901=1          116       EHR                 6.0  \n",
       "2         Consulenza/Supporto#935=3            3       AMB                60.0  \n",
       "3                    Prostata#910=1            4       AMB                67.0  \n",
       "4  Trachea, bronchi e polmoni#909=1           83       AMB                 3.0  "
      ]
     },
     "execution_count": 112,
     "metadata": {},
     "output_type": "execute_result"
    }
   ],
   "source": [
    "# get the survival time (in days) for each patient\n",
    "df_referral['survival_time_days'] = pd.to_timedelta(df_referral['Data'] - df_referral['DateTherapy']).dt.days\n",
    "df_referral.head()"
   ]
  },
  {
   "cell_type": "code",
   "execution_count": 113,
   "metadata": {},
   "outputs": [
    {
     "name": "stdout",
     "output_type": "stream",
     "text": [
      "(761, 10)\n"
     ]
    },
    {
     "data": {
      "text/plain": [
       "1.0      102\n",
       "2.0       71\n",
       "4.0       60\n",
       "3.0       46\n",
       "5.0       45\n",
       "        ... \n",
       "125.0      1\n",
       "102.0      1\n",
       "65.0       1\n",
       "53.0       1\n",
       "37.0       1\n",
       "Name: survival_time_days, Length: 69, dtype: int64"
      ]
     },
     "execution_count": 113,
     "metadata": {},
     "output_type": "execute_result"
    }
   ],
   "source": [
    "print(df_referral.shape)\n",
    "df_referral.survival_time_days.value_counts()"
   ]
  },
  {
   "cell_type": "code",
   "execution_count": 115,
   "metadata": {},
   "outputs": [],
   "source": [
    "df_referral.isna().sum()\n",
    "df_referral = df_referral.dropna()"
   ]
  },
  {
   "cell_type": "code",
   "execution_count": 117,
   "metadata": {},
   "outputs": [],
   "source": [
    "# translate the diagnosis to English\n",
    "# from googletrans import Translator\n",
    "# df_referral['Diagnosis'] = df_referral.Diagnosi.str.findall('(.+)#').to_frame()\n",
    "# df_referral['Diagnosis'] = df_referral['Diagnosis'].apply(lambda x: x if isinstance(x, float) else x[0])\n",
    "\n",
    "# translator = Translator()\n",
    "# df_referral['Diagnosi'] = df_referral['Diagnosis'].apply(translator.translate, src='it', dest='en').apply(getattr, args=('text',))\n",
    "# df_referral = df_referral.drop(columns = ['Diagnosis'])\n",
    "# df_referral.head()"
   ]
  },
  {
   "cell_type": "code",
   "execution_count": null,
   "metadata": {},
   "outputs": [],
   "source": [
    "# get the survival time histogram for all patients\n"
   ]
  },
  {
   "cell_type": "code",
   "execution_count": null,
   "metadata": {},
   "outputs": [],
   "source": [
    "# get the survival time histogram for patients in each diagnosis\n"
   ]
  },
  {
   "cell_type": "code",
   "execution_count": null,
   "metadata": {},
   "outputs": [],
   "source": [
    "# First Definition: Split patients into early/late referral by using the criteria of +- 2 stddev for each diagnosis\n"
   ]
  },
  {
   "cell_type": "code",
   "execution_count": null,
   "metadata": {},
   "outputs": [],
   "source": []
  }
 ],
 "metadata": {
  "kernelspec": {
   "display_name": "Python 3",
   "language": "python",
   "name": "python3"
  },
  "language_info": {
   "codemirror_mode": {
    "name": "ipython",
    "version": 3
   },
   "file_extension": ".py",
   "mimetype": "text/x-python",
   "name": "python",
   "nbconvert_exporter": "python",
   "pygments_lexer": "ipython3",
   "version": "3.8.3"
  }
 },
 "nbformat": 4,
 "nbformat_minor": 4
}
