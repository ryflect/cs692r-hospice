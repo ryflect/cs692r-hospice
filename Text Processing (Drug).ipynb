{
 "cells": [
  {
   "cell_type": "code",
   "execution_count": 1,
   "metadata": {},
   "outputs": [],
   "source": [
    "# imports\n",
    "import numpy as np\n",
    "import pandas as pd\n",
    "import matplotlib.pyplot as plt\n",
    "\n",
    "%matplotlib inline"
   ]
  },
  {
   "cell_type": "code",
   "execution_count": 4,
   "metadata": {},
   "outputs": [
    {
     "name": "stderr",
     "output_type": "stream",
     "text": [
      "C:\\Users\\prate\\Anaconda3\\envs\\det2\\lib\\site-packages\\IPython\\core\\interactiveshell.py:3063: DtypeWarning: Columns (7,11,13,15,16,17,18,19,20,22,23,24,25,26,27,33,34) have mixed types.Specify dtype option on import or set low_memory=False.\n",
      "  interactivity=interactivity, compiler=compiler, result=result)\n",
      "C:\\Users\\prate\\Anaconda3\\envs\\det2\\lib\\site-packages\\IPython\\core\\interactiveshell.py:3063: DtypeWarning: Columns (1) have mixed types.Specify dtype option on import or set low_memory=False.\n",
      "  interactivity=interactivity, compiler=compiler, result=result)\n"
     ]
    }
   ],
   "source": [
    "# get dataframes\n",
    "df_pid = pd.read_csv('./hospiedata/data/cleaned/id_to_attrs_no_multi_ehr.csv', parse_dates=[''])\n",
    "df_care = pd.read_csv('./hospiedata/data/care_translated_all_cols.csv', parse_dates=['TimeStamp_Insert'])\n",
    "df_ht = pd.read_csv('./hospiedata/data/cleaned/therapy_cleaned.csv')"
   ]
  },
  {
   "cell_type": "code",
   "execution_count": 5,
   "metadata": {},
   "outputs": [
    {
     "data": {
      "text/plain": [
       "idehr                       int64\n",
       "Age                       float64\n",
       "Sex                        object\n",
       "when_needed               float64\n",
       "standard                  float64\n",
       "StartOfHospitalization     object\n",
       "EndOfHospitalization       object\n",
       "Diagnosis                  object\n",
       "EHR                       float64\n",
       "AMB                       float64\n",
       "death_time                 object\n",
       "duration_in_hospital       object\n",
       "survival_time              object\n",
       "survival_time_days        float64\n",
       "days_in_hospital          float64\n",
       "age_category               object\n",
       "dtype: object"
      ]
     },
     "execution_count": 5,
     "metadata": {},
     "output_type": "execute_result"
    }
   ],
   "source": [
    "# fix dtype errors\n",
    "df_pid.dtypes"
   ]
  },
  {
   "cell_type": "code",
   "execution_count": null,
   "metadata": {},
   "outputs": [],
   "source": []
  }
 ],
 "metadata": {
  "kernelspec": {
   "display_name": "det2",
   "language": "python",
   "name": "det2"
  },
  "language_info": {
   "codemirror_mode": {
    "name": "ipython",
    "version": 3
   },
   "file_extension": ".py",
   "mimetype": "text/x-python",
   "name": "python",
   "nbconvert_exporter": "python",
   "pygments_lexer": "ipython3",
   "version": "3.6.10"
  }
 },
 "nbformat": 4,
 "nbformat_minor": 4
}
